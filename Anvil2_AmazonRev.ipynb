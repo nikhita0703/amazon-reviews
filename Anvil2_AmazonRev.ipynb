{
  "cells": [
    {
      "cell_type": "code",
      "source": [
        "import os \n",
        "import numpy as np \n",
        "import pandas as pd \n",
        "import zipfile \n",
        "import tensorflow as tf \n",
        "from tensorflow import keras \n",
        "from sklearn.pipeline import Pipeline"
      ],
      "metadata": {
        "id": "Zmaeh6-aUd45"
      },
      "execution_count": null,
      "outputs": []
    },
    {
      "cell_type": "code",
      "execution_count": null,
      "metadata": {
        "colab": {
          "base_uri": "https://localhost:8080/"
        },
        "id": "Ly6SUwJrn-G7",
        "outputId": "0c70b4f8-d153-40af-8e3d-b9493d4d504a"
      },
      "outputs": [
        {
          "output_type": "stream",
          "name": "stdout",
          "text": [
            "Mounted at /content/gdrive\n"
          ]
        }
      ],
      "source": [
        "from google.colab import drive \n",
        "drive.mount('/content/gdrive')"
      ]
    },
    {
      "cell_type": "code",
      "execution_count": null,
      "metadata": {
        "colab": {
          "base_uri": "https://localhost:8080/",
          "height": 696
        },
        "id": "e7HSQ9MAGi6O",
        "outputId": "e3ff8e2f-94f3-426e-c1ce-250be00048d4"
      },
      "outputs": [
        {
          "output_type": "execute_result",
          "data": {
            "text/plain": [
              "   Id   ProductId          UserId                      ProfileName  \\\n",
              "0   1  B001E4KFG0  A3SGXH7AUHU8GW                       delmartian   \n",
              "1   2  B00813GRG4  A1D87F6ZCVE5NK                           dll pa   \n",
              "2   3  B000LQOCH0   ABXLMWJIXXAIN  Natalia Corres \"Natalia Corres\"   \n",
              "3   4  B000UA0QIQ  A395BORC6FGVXV                             Karl   \n",
              "4   5  B006K2ZZ7K  A1UQRSCLF8GW1T    Michael D. Bigham \"M. Wassir\"   \n",
              "\n",
              "   HelpfulnessNumerator  HelpfulnessDenominator  Score        Time  \\\n",
              "0                     1                       1      5  1303862400   \n",
              "1                     0                       0      1  1346976000   \n",
              "2                     1                       1      4  1219017600   \n",
              "3                     3                       3      2  1307923200   \n",
              "4                     0                       0      5  1350777600   \n",
              "\n",
              "                 Summary                                               Text  \n",
              "0  Good Quality Dog Food  I have bought several of the Vitality canned d...  \n",
              "1      Not as Advertised  Product arrived labeled as Jumbo Salted Peanut...  \n",
              "2  \"Delight\" says it all  This is a confection that has been around a fe...  \n",
              "3         Cough Medicine  If you are looking for the secret ingredient i...  \n",
              "4            Great taffy  Great taffy at a great price.  There was a wid...  "
            ],
            "text/html": [
              "\n",
              "  <div id=\"df-4af14a22-cadb-4e8f-ac0d-85d64a6f6dd7\">\n",
              "    <div class=\"colab-df-container\">\n",
              "      <div>\n",
              "<style scoped>\n",
              "    .dataframe tbody tr th:only-of-type {\n",
              "        vertical-align: middle;\n",
              "    }\n",
              "\n",
              "    .dataframe tbody tr th {\n",
              "        vertical-align: top;\n",
              "    }\n",
              "\n",
              "    .dataframe thead th {\n",
              "        text-align: right;\n",
              "    }\n",
              "</style>\n",
              "<table border=\"1\" class=\"dataframe\">\n",
              "  <thead>\n",
              "    <tr style=\"text-align: right;\">\n",
              "      <th></th>\n",
              "      <th>Id</th>\n",
              "      <th>ProductId</th>\n",
              "      <th>UserId</th>\n",
              "      <th>ProfileName</th>\n",
              "      <th>HelpfulnessNumerator</th>\n",
              "      <th>HelpfulnessDenominator</th>\n",
              "      <th>Score</th>\n",
              "      <th>Time</th>\n",
              "      <th>Summary</th>\n",
              "      <th>Text</th>\n",
              "    </tr>\n",
              "  </thead>\n",
              "  <tbody>\n",
              "    <tr>\n",
              "      <th>0</th>\n",
              "      <td>1</td>\n",
              "      <td>B001E4KFG0</td>\n",
              "      <td>A3SGXH7AUHU8GW</td>\n",
              "      <td>delmartian</td>\n",
              "      <td>1</td>\n",
              "      <td>1</td>\n",
              "      <td>5</td>\n",
              "      <td>1303862400</td>\n",
              "      <td>Good Quality Dog Food</td>\n",
              "      <td>I have bought several of the Vitality canned d...</td>\n",
              "    </tr>\n",
              "    <tr>\n",
              "      <th>1</th>\n",
              "      <td>2</td>\n",
              "      <td>B00813GRG4</td>\n",
              "      <td>A1D87F6ZCVE5NK</td>\n",
              "      <td>dll pa</td>\n",
              "      <td>0</td>\n",
              "      <td>0</td>\n",
              "      <td>1</td>\n",
              "      <td>1346976000</td>\n",
              "      <td>Not as Advertised</td>\n",
              "      <td>Product arrived labeled as Jumbo Salted Peanut...</td>\n",
              "    </tr>\n",
              "    <tr>\n",
              "      <th>2</th>\n",
              "      <td>3</td>\n",
              "      <td>B000LQOCH0</td>\n",
              "      <td>ABXLMWJIXXAIN</td>\n",
              "      <td>Natalia Corres \"Natalia Corres\"</td>\n",
              "      <td>1</td>\n",
              "      <td>1</td>\n",
              "      <td>4</td>\n",
              "      <td>1219017600</td>\n",
              "      <td>\"Delight\" says it all</td>\n",
              "      <td>This is a confection that has been around a fe...</td>\n",
              "    </tr>\n",
              "    <tr>\n",
              "      <th>3</th>\n",
              "      <td>4</td>\n",
              "      <td>B000UA0QIQ</td>\n",
              "      <td>A395BORC6FGVXV</td>\n",
              "      <td>Karl</td>\n",
              "      <td>3</td>\n",
              "      <td>3</td>\n",
              "      <td>2</td>\n",
              "      <td>1307923200</td>\n",
              "      <td>Cough Medicine</td>\n",
              "      <td>If you are looking for the secret ingredient i...</td>\n",
              "    </tr>\n",
              "    <tr>\n",
              "      <th>4</th>\n",
              "      <td>5</td>\n",
              "      <td>B006K2ZZ7K</td>\n",
              "      <td>A1UQRSCLF8GW1T</td>\n",
              "      <td>Michael D. Bigham \"M. Wassir\"</td>\n",
              "      <td>0</td>\n",
              "      <td>0</td>\n",
              "      <td>5</td>\n",
              "      <td>1350777600</td>\n",
              "      <td>Great taffy</td>\n",
              "      <td>Great taffy at a great price.  There was a wid...</td>\n",
              "    </tr>\n",
              "  </tbody>\n",
              "</table>\n",
              "</div>\n",
              "      <button class=\"colab-df-convert\" onclick=\"convertToInteractive('df-4af14a22-cadb-4e8f-ac0d-85d64a6f6dd7')\"\n",
              "              title=\"Convert this dataframe to an interactive table.\"\n",
              "              style=\"display:none;\">\n",
              "        \n",
              "  <svg xmlns=\"http://www.w3.org/2000/svg\" height=\"24px\"viewBox=\"0 0 24 24\"\n",
              "       width=\"24px\">\n",
              "    <path d=\"M0 0h24v24H0V0z\" fill=\"none\"/>\n",
              "    <path d=\"M18.56 5.44l.94 2.06.94-2.06 2.06-.94-2.06-.94-.94-2.06-.94 2.06-2.06.94zm-11 1L8.5 8.5l.94-2.06 2.06-.94-2.06-.94L8.5 2.5l-.94 2.06-2.06.94zm10 10l.94 2.06.94-2.06 2.06-.94-2.06-.94-.94-2.06-.94 2.06-2.06.94z\"/><path d=\"M17.41 7.96l-1.37-1.37c-.4-.4-.92-.59-1.43-.59-.52 0-1.04.2-1.43.59L10.3 9.45l-7.72 7.72c-.78.78-.78 2.05 0 2.83L4 21.41c.39.39.9.59 1.41.59.51 0 1.02-.2 1.41-.59l7.78-7.78 2.81-2.81c.8-.78.8-2.07 0-2.86zM5.41 20L4 18.59l7.72-7.72 1.47 1.35L5.41 20z\"/>\n",
              "  </svg>\n",
              "      </button>\n",
              "      \n",
              "  <style>\n",
              "    .colab-df-container {\n",
              "      display:flex;\n",
              "      flex-wrap:wrap;\n",
              "      gap: 12px;\n",
              "    }\n",
              "\n",
              "    .colab-df-convert {\n",
              "      background-color: #E8F0FE;\n",
              "      border: none;\n",
              "      border-radius: 50%;\n",
              "      cursor: pointer;\n",
              "      display: none;\n",
              "      fill: #1967D2;\n",
              "      height: 32px;\n",
              "      padding: 0 0 0 0;\n",
              "      width: 32px;\n",
              "    }\n",
              "\n",
              "    .colab-df-convert:hover {\n",
              "      background-color: #E2EBFA;\n",
              "      box-shadow: 0px 1px 2px rgba(60, 64, 67, 0.3), 0px 1px 3px 1px rgba(60, 64, 67, 0.15);\n",
              "      fill: #174EA6;\n",
              "    }\n",
              "\n",
              "    [theme=dark] .colab-df-convert {\n",
              "      background-color: #3B4455;\n",
              "      fill: #D2E3FC;\n",
              "    }\n",
              "\n",
              "    [theme=dark] .colab-df-convert:hover {\n",
              "      background-color: #434B5C;\n",
              "      box-shadow: 0px 1px 3px 1px rgba(0, 0, 0, 0.15);\n",
              "      filter: drop-shadow(0px 1px 2px rgba(0, 0, 0, 0.3));\n",
              "      fill: #FFFFFF;\n",
              "    }\n",
              "  </style>\n",
              "\n",
              "      <script>\n",
              "        const buttonEl =\n",
              "          document.querySelector('#df-4af14a22-cadb-4e8f-ac0d-85d64a6f6dd7 button.colab-df-convert');\n",
              "        buttonEl.style.display =\n",
              "          google.colab.kernel.accessAllowed ? 'block' : 'none';\n",
              "\n",
              "        async function convertToInteractive(key) {\n",
              "          const element = document.querySelector('#df-4af14a22-cadb-4e8f-ac0d-85d64a6f6dd7');\n",
              "          const dataTable =\n",
              "            await google.colab.kernel.invokeFunction('convertToInteractive',\n",
              "                                                     [key], {});\n",
              "          if (!dataTable) return;\n",
              "\n",
              "          const docLinkHtml = 'Like what you see? Visit the ' +\n",
              "            '<a target=\"_blank\" href=https://colab.research.google.com/notebooks/data_table.ipynb>data table notebook</a>'\n",
              "            + ' to learn more about interactive tables.';\n",
              "          element.innerHTML = '';\n",
              "          dataTable['output_type'] = 'display_data';\n",
              "          await google.colab.output.renderOutput(dataTable, element);\n",
              "          const docLink = document.createElement('div');\n",
              "          docLink.innerHTML = docLinkHtml;\n",
              "          element.appendChild(docLink);\n",
              "        }\n",
              "      </script>\n",
              "    </div>\n",
              "  </div>\n",
              "  "
            ]
          },
          "metadata": {},
          "execution_count": 2
        }
      ],
      "source": [
        "import zipfile \n",
        "import pandas as pd\n",
        "zf = zipfile.ZipFile('/content/gdrive/MyDrive/amazon_reviews.zip') \n",
        "df = pd.read_csv(zf.open('Reviews.csv'))\n",
        "df.head()"
      ]
    },
    {
      "cell_type": "code",
      "execution_count": null,
      "metadata": {
        "colab": {
          "base_uri": "https://localhost:8080/"
        },
        "id": "JY4SyKy7JUeO",
        "outputId": "52de26e2-3ff8-4a1f-c412-fb212608b175"
      },
      "outputs": [
        {
          "output_type": "execute_result",
          "data": {
            "text/plain": [
              "(568454, 10)"
            ]
          },
          "metadata": {},
          "execution_count": 3
        }
      ],
      "source": [
        "df.shape"
      ]
    },
    {
      "cell_type": "code",
      "execution_count": null,
      "metadata": {
        "id": "-N23cdgdZXK5"
      },
      "outputs": [],
      "source": [
        "# import pandas as pd\n",
        "# import tarfile\n",
        "# import json\n",
        "\n",
        "# with tarfile.open(\"/content/gdrive/MyDrive/review.tar.gz\", \"r:*\") as tar:\n",
        "  \n",
        "#   #print(tar.extractall())\n",
        "#   with open(tar.getnames()[0], \"rb\") as r:\n",
        "#     print(str(r.read(), 'ascii'))\n",
        "#   #review_df = pd.read_csv(tar.extractfile(csv_path), header=0, sep=\" \")\n"
      ]
    },
    {
      "cell_type": "code",
      "execution_count": null,
      "metadata": {
        "colab": {
          "base_uri": "https://localhost:8080/"
        },
        "id": "e9p3D-yNffeW",
        "outputId": "78e32063-3197-4029-8b90-2cee9c5bea10"
      },
      "outputs": [
        {
          "output_type": "execute_result",
          "data": {
            "text/plain": [
              "Id                         0\n",
              "ProductId                  0\n",
              "UserId                     0\n",
              "ProfileName               16\n",
              "HelpfulnessNumerator       0\n",
              "HelpfulnessDenominator     0\n",
              "Score                      0\n",
              "Time                       0\n",
              "Summary                   27\n",
              "Text                       0\n",
              "dtype: int64"
            ]
          },
          "metadata": {},
          "execution_count": 5
        }
      ],
      "source": [
        "df.isnull().sum()"
      ]
    },
    {
      "cell_type": "code",
      "execution_count": null,
      "metadata": {
        "id": "PBH8EAUQff_3"
      },
      "outputs": [],
      "source": [
        "df.ProfileName.fillna(value = \"\", inplace = True)\n",
        "df.Summary.fillna(value = \"\", inplace = True)\n",
        "df[\"Reviews\"] = df[\"Summary\"] + \" \" + df[\"Text\"]\n",
        "# df.head(50)\n"
      ]
    },
    {
      "cell_type": "code",
      "execution_count": null,
      "metadata": {
        "colab": {
          "base_uri": "https://localhost:8080/",
          "height": 482
        },
        "id": "NYbG1fkplGtT",
        "outputId": "a5992f46-98d4-4562-e051-e1eec5a946fd"
      },
      "outputs": [
        {
          "output_type": "display_data",
          "data": {
            "text/plain": [
              "<Figure size 576x576 with 1 Axes>"
            ],
            "image/png": "[encoded data removed]"
          },
          "metadata": {}
        }
      ],
      "source": [
        "import matplotlib as plt\n",
        "import matplotlib.pyplot as plt\n",
        "df.Score.value_counts().plot(kind = \"pie\", legend = False, autopct = \"%1.2f%%\", fontsize = 10, figsize=(8,8))\n",
        "plt.title(\"Percentages of Ratings Given from The Customers\", loc = \"center\")\n",
        "plt.show()"
      ]
    },
    {
      "cell_type": "code",
      "execution_count": null,
      "metadata": {
        "id": "KCBpqCTiSI1K"
      },
      "outputs": [],
      "source": [
        "def identify_sentiment(val):\n",
        "  if (val<3):\n",
        "    entry='negative'\n",
        "  elif (val==3):\n",
        "    entry='neutral'\n",
        "  else:\n",
        "    entry='positive'\n",
        "  return entry\n",
        "\n",
        "\n",
        "df['Sentiment']= df['Score'].apply(lambda x: identify_sentiment(x))\n",
        "# df.head(50)"
      ]
    },
    {
      "cell_type": "code",
      "execution_count": null,
      "metadata": {
        "colab": {
          "base_uri": "https://localhost:8080/",
          "height": 327
        },
        "id": "8gMZq1ir2DM1",
        "outputId": "194b18f0-d961-4d85-a3ed-63eabe1f20aa"
      },
      "outputs": [
        {
          "output_type": "display_data",
          "data": {
            "text/plain": [
              "<Figure size 432x288 with 1 Axes>"
            ],
            "image/png": "[encoded data removed]"
          },
          "metadata": {
            "needs_background": "light"
          }
        }
      ],
      "source": [
        "df[\"Sentiment\"].value_counts().plot(kind = \"bar\", color = \"blue\")\n",
        "plt.title(\"Amount of Each Sentiments Based On Rating Given\", loc = \"center\", fontsize = 15, color = \"red\", pad = 25)\n",
        "plt.xlabel(\"Sentiments\", color = \"green\", fontsize = 10, labelpad = 15)\n",
        "plt.xticks(rotation = 0)\n",
        "plt.ylabel(\"Amount of Sentiments\", color = \"green\", fontsize = 10, labelpad = 15)\n",
        "plt.show()"
      ]
    },
    {
      "cell_type": "code",
      "execution_count": null,
      "metadata": {
        "colab": {
          "base_uri": "https://localhost:8080/"
        },
        "id": "nlod6vr7t4um",
        "outputId": "134cb519-cc3c-4209-ed29-3078120e270f"
      },
      "outputs": [
        {
          "output_type": "execute_result",
          "data": {
            "text/plain": [
              "positive    443777\n",
              "negative     82037\n",
              "neutral      42640\n",
              "Name: Sentiment, dtype: int64"
            ]
          },
          "metadata": {},
          "execution_count": 10
        }
      ],
      "source": [
        "df[\"Sentiment\"].value_counts()"
      ]
    },
    {
      "cell_type": "code",
      "execution_count": null,
      "metadata": {
        "id": "HLp8gxiRbaxd"
      },
      "outputs": [],
      "source": [
        "# Remove neutral reviews from dataframe because they're not a significant number of them \n",
        "df.drop(df.index[df['Sentiment'] == 'neutral'], inplace=True)"
      ]
    },
    {
      "cell_type": "code",
      "execution_count": null,
      "metadata": {
        "colab": {
          "base_uri": "https://localhost:8080/"
        },
        "id": "TphrAScNu65s",
        "outputId": "348d51c0-bddd-4051-ef92-a4b7ee8b4cd8"
      },
      "outputs": [
        {
          "output_type": "execute_result",
          "data": {
            "text/plain": [
              "positive    443777\n",
              "negative     82037\n",
              "Name: Sentiment, dtype: int64"
            ]
          },
          "metadata": {},
          "execution_count": 12
        }
      ],
      "source": [
        "df[\"Sentiment\"].value_counts()"
      ]
    },
    {
      "cell_type": "code",
      "execution_count": null,
      "metadata": {
        "colab": {
          "base_uri": "https://localhost:8080/"
        },
        "id": "01gxA_NK7F9B",
        "outputId": "680740c3-d7ce-4b57-a45f-2aef7ce81af6"
      },
      "outputs": [
        {
          "output_type": "execute_result",
          "data": {
            "text/plain": [
              "0    good quality dog food i have bought several of...\n",
              "1    not as advertised product arrived labeled as j...\n",
              "2    delight says it all this is a confection that ...\n",
              "3    cough medicine if you are looking for the secr...\n",
              "4    great taffy great taffy at a great price  ther...\n",
              "5    nice taffy i got a wild hair for taffy and ord...\n",
              "6    great  just as good as the expensive brands th...\n",
              "7    wonderful tasty taffy this taffy is so good  i...\n",
              "8    yay barley right now im mostly just sprouting ...\n",
              "9    healthy dog food this is a very healthy dog fo...\n",
              "Name: Cleaned_1, dtype: object"
            ]
          },
          "metadata": {},
          "execution_count": 13
        }
      ],
      "source": [
        "# def cleaned_text(text):\n",
        "#    text=text.lower()\n",
        "import re\n",
        "import string\n",
        "\n",
        "\n",
        "def clean_text(text):\n",
        "    '''Make text lowercase, remove text in square brackets, remove punctuation and remove words containing numbers.'''\n",
        "    text = text.lower()\n",
        "    text = re.sub('\\[.*?\\]', '', text)\n",
        "    text = re.sub('[%s]' % re.escape(string.punctuation), '', text)\n",
        "    text = re.sub('\\w*\\d\\w*', '', text)\n",
        "    return text\n",
        "\n",
        "df['Cleaned_1']=df['Reviews'].apply(lambda x: clean_text(x))\n",
        "df['Cleaned_1'].head(10)\n",
        "# df.head(10)\n",
        "\n"
      ]
    },
    {
      "cell_type": "code",
      "execution_count": null,
      "metadata": {
        "id": "Un2hHDTfGBcT",
        "colab": {
          "base_uri": "https://localhost:8080/"
        },
        "outputId": "ad4065cd-54ff-4b73-f0b0-27edb7ab7f6e"
      },
      "outputs": [
        {
          "output_type": "execute_result",
          "data": {
            "text/plain": [
              "0    good quality dog food i have bought several of...\n",
              "1    not as advertised product arrived labeled as j...\n",
              "2    delight says it all this is a confection that ...\n",
              "3    cough medicine if you are looking for the secr...\n",
              "4    great taffy great taffy at a great price  ther...\n",
              "5    nice taffy i got a wild hair for taffy and ord...\n",
              "6    great  just as good as the expensive brands th...\n",
              "7    wonderful tasty taffy this taffy is so good  i...\n",
              "8    yay barley right now im mostly just sprouting ...\n",
              "9    healthy dog food this is a very healthy dog fo...\n",
              "Name: Cleaned_1, dtype: object"
            ]
          },
          "metadata": {},
          "execution_count": 14
        }
      ],
      "source": [
        "df['Cleaned_1'].head(10)"
      ]
    },
    {
      "cell_type": "code",
      "execution_count": null,
      "metadata": {
        "id": "hatx-EtGb-E8",
        "colab": {
          "base_uri": "https://localhost:8080/"
        },
        "outputId": "2a9df5ab-c0ed-4fe4-bf3f-4134c2acc0dc"
      },
      "outputs": [
        {
          "output_type": "execute_result",
          "data": {
            "text/plain": [
              "(525814, 2)"
            ]
          },
          "metadata": {},
          "execution_count": 15
        }
      ],
      "source": [
        "df1 = df[['Sentiment','Cleaned_1']]\n",
        "df1.shape"
      ]
    },
    {
      "cell_type": "code",
      "execution_count": null,
      "metadata": {
        "id": "mlXksLK9MPpq",
        "colab": {
          "base_uri": "https://localhost:8080/"
        },
        "outputId": "f205f6e2-6229-4e62-bc13-c36d155852e4"
      },
      "outputs": [
        {
          "output_type": "stream",
          "name": "stdout",
          "text": [
            "frozenset({'should', 'where', 'serious', 'ourselves', 'after', 'many', 'one', 'top', 'wherein', 'whatever', 'am', 'co', 'whoever', 'your', 'or', 'for', 'our', 'of', 'into', 'less', 'hence', 'over', 'although', 'will', 'not', 'else', 'have', 'only', 'give', 'mill', 'full', 'ever', 'whither', 'mostly', 'do', 'she', 'everyone', 'thru', 'namely', 'mine', 'his', 'most', 'etc', 'meanwhile', 'has', 'among', 'yours', 'take', 'couldnt', 'off', 'because', 'beyond', 'put', 'about', 'fifty', 'five', 'moreover', 'forty', 'herself', 'whether', 'they', 'it', 'since', 'already', 'nor', 'who', 'whenever', 'could', 'everything', 'yet', 'done', 'until', 'its', 'name', 'whence', 'below', 'due', 'wherever', 'via', 'least', 'alone', 'been', 'both', 'thin', 'anyway', 'system', 'ours', 'whom', 'each', 'all', 'some', 'noone', 'you', 'under', 'same', 'nevertheless', 'whereupon', 'none', 'was', 'from', 'show', 'an', 'above', 'amongst', 'hereafter', 'being', 'even', 'behind', 'before', 'were', 'somewhere', 'interest', 'yourselves', 'few', 'thereupon', 'former', 'still', 'to', 'me', 'hundred', 'towards', 'now', 'indeed', 'would', 'become', 'whole', 'why', 'with', 'nine', 'sometimes', 'next', 'cannot', 'i', 'eleven', 'whereby', 'once', 'two', 'becoming', 'during', 'several', 'first', 'detail', 'along', 'sixty', 'anyone', 'other', 'any', 'thick', 'made', 'eg', 'sometime', 'yourself', 'then', 'found', 'also', 'together', 'twelve', 'elsewhere', 'un', 'neither', 'somehow', 'find', 'beside', 'call', 'describe', 'ten', 'go', 'almost', 'the', 'us', 'thence', 'without', 'get', 'three', 'inc', 'fifteen', 'latter', 'him', 'becomes', 'toward', 'hers', 'be', 'while', 'either', 'them', 'and', 'we', 'four', 'than', 'if', 'whereas', 'is', 'hereby', 'though', 'against', 're', 'seem', 'rather', 'themselves', 'hereupon', 'con', 'may', 'keep', 'their', 'whose', 'on', 'around', 'down', 'are', 'amoungst', 'myself', 'per', 'this', 'too', 'own', 'last', 'across', 'can', 'thereby', 'fill', 'a', 'there', 'enough', 'sincere', 'well', 'latterly', 'through', 'he', 'therein', 'side', 'afterwards', 'as', 'another', 'that', 'otherwise', 'anyhow', 'throughout', 'upon', 'might', 'formerly', 'eight', 'twenty', 'such', 'those', 'seeming', 'herein', 'nothing', 'so', 'very', 'cant', 'hasnt', 'what', 'however', 'had', 'back', 'bill', 'within', 'de', 'my', 'again', 'up', 'never', 'please', 'every', 'part', 'no', 'thereafter', 'something', 'always', 'became', 'empty', 'besides', 'out', 'here', 'bottom', 'nobody', 'by', 'someone', 'which', 'much', 'himself', 'anywhere', 'others', 'at', 'more', 'her', 'but', 'fire', 'front', 'ltd', 'when', 'amount', 'third', 'onto', 'itself', 'in', 'cry', 'beforehand', 'ie', 'see', 'nowhere', 'anything', 'seems', 'between', 'whereafter', 'six', 'thus', 'further', 'must', 'everywhere', 'how', 'perhaps', 'therefore', 'these', 'often', 'move', 'seemed', 'except'})\n"
          ]
        }
      ],
      "source": [
        "from sklearn.feature_extraction.text import ENGLISH_STOP_WORDS\n",
        "print(ENGLISH_STOP_WORDS)"
      ]
    },
    {
      "cell_type": "code",
      "execution_count": null,
      "metadata": {
        "id": "IYmCs6-kMQBD",
        "colab": {
          "base_uri": "https://localhost:8080/"
        },
        "outputId": "95bf9eae-8d30-4276-d0de-60b5c7478294"
      },
      "outputs": [
        {
          "output_type": "stream",
          "name": "stderr",
          "text": [
            "/usr/local/lib/python3.7/dist-packages/ipykernel_launcher.py:33: SettingWithCopyWarning: \n",
            "A value is trying to be set on a copy of a slice from a DataFrame.\n",
            "Try using .loc[row_indexer,col_indexer] = value instead\n",
            "\n",
            "See the caveats in the documentation: https://pandas.pydata.org/pandas-docs/stable/user_guide/indexing.html#returning-a-view-versus-a-copy\n"
          ]
        },
        {
          "output_type": "execute_result",
          "data": {
            "text/plain": [
              "(525814, 3)"
            ]
          },
          "metadata": {},
          "execution_count": 17
        }
      ],
      "source": [
        "\n",
        "stop_words = frozenset({'mill', 'back', 'from', 'onto', 'ever', 'upon', 'because', 'co', 'would', 'during', 'nobody', 'i', 'until', 'bottom', \n",
        "                         'please', 'than', 'eight', 'do', 'everything', 'or', 'system', 'ie', 'is', 'our', 'every', 'nevertheless', 'un', \n",
        "                         'always', 'what', 'am', 'whose', 'before', 'may', 'inc', 'herein', 'many', 'only', 'something', 'mostly', 'such', 'describe', \n",
        "                         'get', 'together', 'latter', 'their', 'third', 'most', 'enough', 'which', 'serious', 'empty', 'ours', 'per', 'ten', 'he', \n",
        "                         'and', 'twenty', 'by', 'several', 'why', 'nothing', 'itself', 'mine', 'due', 'must', 'hence', 'all', 'becomes', 'within', \n",
        "                         'someone', 'neither', 'whether', 'same', 'forty', 'well', 'wherein', 'de', 'via', 'sixty', 'con', 'toward', 'indeed', 'we', \n",
        "                         'hasnt', 'next', 'who', 'first', 'the', 'her', 'eg', 'beside', 'latterly', 'fifty', 'thin', 'that', 'so', 'whereafter', \n",
        "                         'however', 'between', 'cry', 'can', 'with', 'you', 'part', 'keep', 'eleven', 'to', 'these', 'find', 'wherever', \n",
        "                         'has', 'also', 'anyway', 'therein', 'hereupon', 'it', 'himself', 'another', 'fill', 'seeming', 'anyone', 'less', \n",
        "                         'afterwards', 'she', 'its', 'then', 'whereby', 'see', 'whoever', 'six', 'there', 'will', 'against', 'without', 'whole', 'now',\n",
        "                         'everyone', 'perhaps', 'move', 'any', 'of', 'already', 'formerly', 'hers', 'him', 'ltd', 'into', 'put', 'both', 'becoming',\n",
        "                         'should', 'whenever', 'amoungst', 'somehow', 'three', 'how', 'was', 'amount', 'yourselves', 'themselves', 'often', 'up', \n",
        "                         'side', 'otherwise', 'be', 'whatever', 'sincere', 'seems', 'out', 'two', 'hundred', 'interest', 'everywhere', 'other', \n",
        "                         'where', 'off', 'nor', 'else', 'top', 'cant', 'might', 'except', 'amongst', 'on', 'anywhere', 'others', 'detail', 'name', \n",
        "                         'take', 'thence', 'whence', 'though', 'behind', 'more', 'my', 'beforehand', 'seem', 'thick', 'thru', 'sometime', 'somewhere',\n",
        "                         'fifteen', 'meanwhile', 'thereafter', 'almost', 'done', 'yourself', 'seemed', 'as', 'bill', 'made', 'some', 'very', 'along', \n",
        "                          'above', 'ourselves', 'them', 'elsewhere', 'anything', 'none', 'are', 'once', 'nine', 'too', 'hereby', 'five',\n",
        "                         'show', 'rather', 'through', 'below', 'yours', 'thereby', 'call', 'have', 'twelve', 'thereupon', 'when', 'own', 'after', \n",
        "                         'thus', 'front', 'down', 'namely', 'here', 'herself', 'either', 'myself', 'alone', 'whom', 'become', 'therefore', 'his',\n",
        "                         'me', 'least', 'whereupon', 'for', 'a', 'anyhow', 'even', 'under', 'besides', 'etc', 'give', 'few', 'go', 'they', 'among', \n",
        "                         'full', 'were', 'former', 'us', 'four', 'much', 'hereafter', 'while', 'further', 'became', 'each', 'those', 'been', 'around', \n",
        "                         'being', 'since', 'towards', 're', 'nowhere', 'your', 'sometimes', 'whereas', 'noone', 'yet', 'throughout', 'over', 'found',\n",
        "                         'although', 'at', 'across', 'moreover', 'couldnt', 'fire', 'about', 'last', 'had', 'an', 'one', 'but', 'again', 'this', \n",
        "                         'whither', 'in', 'if', 'beyond', 'still'})\n",
        "\n",
        "#create your custom stop words list\n",
        "def remove_stopwords(text):\n",
        "  words = [word for word in text.split() if word not in stop_words]\n",
        "  new_text = \" \".join(words)\n",
        "  return new_text\n",
        "\n",
        "df1['Stopwords']=df1['Cleaned_1'].apply(lambda x: remove_stopwords(x))\n",
        "df1.shape\n",
        "\n"
      ]
    },
    {
      "cell_type": "code",
      "execution_count": null,
      "metadata": {
        "id": "pnufq-mTSANY",
        "colab": {
          "base_uri": "https://localhost:8080/"
        },
        "outputId": "71bd7045-1926-47f4-bf45-52b5d97522f7"
      },
      "outputs": [
        {
          "output_type": "execute_result",
          "data": {
            "text/plain": [
              "0    good quality dog food bought vitality canned d...\n",
              "1    not advertised product arrived labeled jumbo s...\n",
              "2    delight says confection centuries light pillow...\n",
              "3    cough medicine looking secret ingredient robit...\n",
              "4    great taffy great taffy great price wide assor...\n",
              "5    nice taffy got wild hair taffy ordered pound b...\n",
              "6    great just good expensive brands saltwater taf...\n",
              "7    wonderful tasty taffy taffy good soft chewy fl...\n",
              "8    yay barley right im just sprouting cats eat gr...\n",
              "9    healthy dog food healthy dog food good digesti...\n",
              "Name: Stopwords, dtype: object"
            ]
          },
          "metadata": {},
          "execution_count": 18
        }
      ],
      "source": [
        "\n",
        "df1['Stopwords'].head(10)\n"
      ]
    },
    {
      "cell_type": "code",
      "execution_count": null,
      "metadata": {
        "id": "i21M_goS2Dh1"
      },
      "outputs": [],
      "source": [
        "# from gensim.utils import simple_preprocess\n",
        "\n",
        "# df1['tokenized'] = [simple_preprocess(line, deacc=True) for line in df1['Stopwords']] \n",
        "# df1['tokenized'].head(10)"
      ]
    },
    {
      "cell_type": "code",
      "execution_count": null,
      "metadata": {
        "id": "LuVcAlhOK0iB",
        "colab": {
          "base_uri": "https://localhost:8080/",
          "height": 488
        },
        "outputId": "9f29e4e7-8103-435d-84ac-5f27b1ec640f"
      },
      "outputs": [
        {
          "output_type": "execute_result",
          "data": {
            "text/plain": [
              "  Sentiment                                          Cleaned_1  \\\n",
              "0  positive  good quality dog food i have bought several of...   \n",
              "1  negative  not as advertised product arrived labeled as j...   \n",
              "2  positive  delight says it all this is a confection that ...   \n",
              "3  negative  cough medicine if you are looking for the secr...   \n",
              "4  positive  great taffy great taffy at a great price  ther...   \n",
              "5  positive  nice taffy i got a wild hair for taffy and ord...   \n",
              "6  positive  great  just as good as the expensive brands th...   \n",
              "7  positive  wonderful tasty taffy this taffy is so good  i...   \n",
              "8  positive  yay barley right now im mostly just sprouting ...   \n",
              "9  positive  healthy dog food this is a very healthy dog fo...   \n",
              "\n",
              "                                           Stopwords  \n",
              "0  good quality dog food bought vitality canned d...  \n",
              "1  not advertised product arrived labeled jumbo s...  \n",
              "2  delight says confection centuries light pillow...  \n",
              "3  cough medicine looking secret ingredient robit...  \n",
              "4  great taffy great taffy great price wide assor...  \n",
              "5  nice taffy got wild hair taffy ordered pound b...  \n",
              "6  great just good expensive brands saltwater taf...  \n",
              "7  wonderful tasty taffy taffy good soft chewy fl...  \n",
              "8  yay barley right im just sprouting cats eat gr...  \n",
              "9  healthy dog food healthy dog food good digesti...  "
            ],
            "text/html": [
              "\n",
              "  <div id=\"df-2e71bd13-df2b-4de1-bee6-3aee6127b8bc\">\n",
              "    <div class=\"colab-df-container\">\n",
              "      <div>\n",
              "<style scoped>\n",
              "    .dataframe tbody tr th:only-of-type {\n",
              "        vertical-align: middle;\n",
              "    }\n",
              "\n",
              "    .dataframe tbody tr th {\n",
              "        vertical-align: top;\n",
              "    }\n",
              "\n",
              "    .dataframe thead th {\n",
              "        text-align: right;\n",
              "    }\n",
              "</style>\n",
              "<table border=\"1\" class=\"dataframe\">\n",
              "  <thead>\n",
              "    <tr style=\"text-align: right;\">\n",
              "      <th></th>\n",
              "      <th>Sentiment</th>\n",
              "      <th>Cleaned_1</th>\n",
              "      <th>Stopwords</th>\n",
              "    </tr>\n",
              "  </thead>\n",
              "  <tbody>\n",
              "    <tr>\n",
              "      <th>0</th>\n",
              "      <td>positive</td>\n",
              "      <td>good quality dog food i have bought several of...</td>\n",
              "      <td>good quality dog food bought vitality canned d...</td>\n",
              "    </tr>\n",
              "    <tr>\n",
              "      <th>1</th>\n",
              "      <td>negative</td>\n",
              "      <td>not as advertised product arrived labeled as j...</td>\n",
              "      <td>not advertised product arrived labeled jumbo s...</td>\n",
              "    </tr>\n",
              "    <tr>\n",
              "      <th>2</th>\n",
              "      <td>positive</td>\n",
              "      <td>delight says it all this is a confection that ...</td>\n",
              "      <td>delight says confection centuries light pillow...</td>\n",
              "    </tr>\n",
              "    <tr>\n",
              "      <th>3</th>\n",
              "      <td>negative</td>\n",
              "      <td>cough medicine if you are looking for the secr...</td>\n",
              "      <td>cough medicine looking secret ingredient robit...</td>\n",
              "    </tr>\n",
              "    <tr>\n",
              "      <th>4</th>\n",
              "      <td>positive</td>\n",
              "      <td>great taffy great taffy at a great price  ther...</td>\n",
              "      <td>great taffy great taffy great price wide assor...</td>\n",
              "    </tr>\n",
              "    <tr>\n",
              "      <th>5</th>\n",
              "      <td>positive</td>\n",
              "      <td>nice taffy i got a wild hair for taffy and ord...</td>\n",
              "      <td>nice taffy got wild hair taffy ordered pound b...</td>\n",
              "    </tr>\n",
              "    <tr>\n",
              "      <th>6</th>\n",
              "      <td>positive</td>\n",
              "      <td>great  just as good as the expensive brands th...</td>\n",
              "      <td>great just good expensive brands saltwater taf...</td>\n",
              "    </tr>\n",
              "    <tr>\n",
              "      <th>7</th>\n",
              "      <td>positive</td>\n",
              "      <td>wonderful tasty taffy this taffy is so good  i...</td>\n",
              "      <td>wonderful tasty taffy taffy good soft chewy fl...</td>\n",
              "    </tr>\n",
              "    <tr>\n",
              "      <th>8</th>\n",
              "      <td>positive</td>\n",
              "      <td>yay barley right now im mostly just sprouting ...</td>\n",
              "      <td>yay barley right im just sprouting cats eat gr...</td>\n",
              "    </tr>\n",
              "    <tr>\n",
              "      <th>9</th>\n",
              "      <td>positive</td>\n",
              "      <td>healthy dog food this is a very healthy dog fo...</td>\n",
              "      <td>healthy dog food healthy dog food good digesti...</td>\n",
              "    </tr>\n",
              "  </tbody>\n",
              "</table>\n",
              "</div>\n",
              "      <button class=\"colab-df-convert\" onclick=\"convertToInteractive('df-2e71bd13-df2b-4de1-bee6-3aee6127b8bc')\"\n",
              "              title=\"Convert this dataframe to an interactive table.\"\n",
              "              style=\"display:none;\">\n",
              "        \n",
              "  <svg xmlns=\"http://www.w3.org/2000/svg\" height=\"24px\"viewBox=\"0 0 24 24\"\n",
              "       width=\"24px\">\n",
              "    <path d=\"M0 0h24v24H0V0z\" fill=\"none\"/>\n",
              "    <path d=\"M18.56 5.44l.94 2.06.94-2.06 2.06-.94-2.06-.94-.94-2.06-.94 2.06-2.06.94zm-11 1L8.5 8.5l.94-2.06 2.06-.94-2.06-.94L8.5 2.5l-.94 2.06-2.06.94zm10 10l.94 2.06.94-2.06 2.06-.94-2.06-.94-.94-2.06-.94 2.06-2.06.94z\"/><path d=\"M17.41 7.96l-1.37-1.37c-.4-.4-.92-.59-1.43-.59-.52 0-1.04.2-1.43.59L10.3 9.45l-7.72 7.72c-.78.78-.78 2.05 0 2.83L4 21.41c.39.39.9.59 1.41.59.51 0 1.02-.2 1.41-.59l7.78-7.78 2.81-2.81c.8-.78.8-2.07 0-2.86zM5.41 20L4 18.59l7.72-7.72 1.47 1.35L5.41 20z\"/>\n",
              "  </svg>\n",
              "      </button>\n",
              "      \n",
              "  <style>\n",
              "    .colab-df-container {\n",
              "      display:flex;\n",
              "      flex-wrap:wrap;\n",
              "      gap: 12px;\n",
              "    }\n",
              "\n",
              "    .colab-df-convert {\n",
              "      background-color: #E8F0FE;\n",
              "      border: none;\n",
              "      border-radius: 50%;\n",
              "      cursor: pointer;\n",
              "      display: none;\n",
              "      fill: #1967D2;\n",
              "      height: 32px;\n",
              "      padding: 0 0 0 0;\n",
              "      width: 32px;\n",
              "    }\n",
              "\n",
              "    .colab-df-convert:hover {\n",
              "      background-color: #E2EBFA;\n",
              "      box-shadow: 0px 1px 2px rgba(60, 64, 67, 0.3), 0px 1px 3px 1px rgba(60, 64, 67, 0.15);\n",
              "      fill: #174EA6;\n",
              "    }\n",
              "\n",
              "    [theme=dark] .colab-df-convert {\n",
              "      background-color: #3B4455;\n",
              "      fill: #D2E3FC;\n",
              "    }\n",
              "\n",
              "    [theme=dark] .colab-df-convert:hover {\n",
              "      background-color: #434B5C;\n",
              "      box-shadow: 0px 1px 3px 1px rgba(0, 0, 0, 0.15);\n",
              "      filter: drop-shadow(0px 1px 2px rgba(0, 0, 0, 0.3));\n",
              "      fill: #FFFFFF;\n",
              "    }\n",
              "  </style>\n",
              "\n",
              "      <script>\n",
              "        const buttonEl =\n",
              "          document.querySelector('#df-2e71bd13-df2b-4de1-bee6-3aee6127b8bc button.colab-df-convert');\n",
              "        buttonEl.style.display =\n",
              "          google.colab.kernel.accessAllowed ? 'block' : 'none';\n",
              "\n",
              "        async function convertToInteractive(key) {\n",
              "          const element = document.querySelector('#df-2e71bd13-df2b-4de1-bee6-3aee6127b8bc');\n",
              "          const dataTable =\n",
              "            await google.colab.kernel.invokeFunction('convertToInteractive',\n",
              "                                                     [key], {});\n",
              "          if (!dataTable) return;\n",
              "\n",
              "          const docLinkHtml = 'Like what you see? Visit the ' +\n",
              "            '<a target=\"_blank\" href=https://colab.research.google.com/notebooks/data_table.ipynb>data table notebook</a>'\n",
              "            + ' to learn more about interactive tables.';\n",
              "          element.innerHTML = '';\n",
              "          dataTable['output_type'] = 'display_data';\n",
              "          await google.colab.output.renderOutput(dataTable, element);\n",
              "          const docLink = document.createElement('div');\n",
              "          docLink.innerHTML = docLinkHtml;\n",
              "          element.appendChild(docLink);\n",
              "        }\n",
              "      </script>\n",
              "    </div>\n",
              "  </div>\n",
              "  "
            ]
          },
          "metadata": {},
          "execution_count": 20
        }
      ],
      "source": [
        "df1.head(10)"
      ]
    },
    {
      "cell_type": "markdown",
      "source": [
        "    Encoding the positive reviews with 1 and the negative ones with 0. \n",
        "    \n",
        "\n"
      ],
      "metadata": {
        "id": "I7ELTgSrHj6R"
      }
    },
    {
      "cell_type": "code",
      "execution_count": null,
      "metadata": {
        "id": "i1ykqzNdQ3ya",
        "colab": {
          "base_uri": "https://localhost:8080/",
          "height": 676
        },
        "outputId": "8caede85-a113-480c-e4b0-d949f586160c"
      },
      "outputs": [
        {
          "output_type": "stream",
          "name": "stderr",
          "text": [
            "/usr/local/lib/python3.7/dist-packages/ipykernel_launcher.py:9: SettingWithCopyWarning: \n",
            "A value is trying to be set on a copy of a slice from a DataFrame.\n",
            "Try using .loc[row_indexer,col_indexer] = value instead\n",
            "\n",
            "See the caveats in the documentation: https://pandas.pydata.org/pandas-docs/stable/user_guide/indexing.html#returning-a-view-versus-a-copy\n",
            "  if __name__ == '__main__':\n"
          ]
        },
        {
          "output_type": "execute_result",
          "data": {
            "text/plain": [
              "  Sentiment                                          Cleaned_1  \\\n",
              "0  positive  good quality dog food i have bought several of...   \n",
              "1  negative  not as advertised product arrived labeled as j...   \n",
              "2  positive  delight says it all this is a confection that ...   \n",
              "3  negative  cough medicine if you are looking for the secr...   \n",
              "4  positive  great taffy great taffy at a great price  ther...   \n",
              "5  positive  nice taffy i got a wild hair for taffy and ord...   \n",
              "6  positive  great  just as good as the expensive brands th...   \n",
              "7  positive  wonderful tasty taffy this taffy is so good  i...   \n",
              "8  positive  yay barley right now im mostly just sprouting ...   \n",
              "9  positive  healthy dog food this is a very healthy dog fo...   \n",
              "\n",
              "                                           Stopwords  Sentiment_rating  \n",
              "0  good quality dog food bought vitality canned d...                 1  \n",
              "1  not advertised product arrived labeled jumbo s...                 0  \n",
              "2  delight says confection centuries light pillow...                 1  \n",
              "3  cough medicine looking secret ingredient robit...                 0  \n",
              "4  great taffy great taffy great price wide assor...                 1  \n",
              "5  nice taffy got wild hair taffy ordered pound b...                 1  \n",
              "6  great just good expensive brands saltwater taf...                 1  \n",
              "7  wonderful tasty taffy taffy good soft chewy fl...                 1  \n",
              "8  yay barley right im just sprouting cats eat gr...                 1  \n",
              "9  healthy dog food healthy dog food good digesti...                 1  "
            ],
            "text/html": [
              "\n",
              "  <div id=\"df-cf30a968-2340-4b44-9f8c-77bccbd81750\">\n",
              "    <div class=\"colab-df-container\">\n",
              "      <div>\n",
              "<style scoped>\n",
              "    .dataframe tbody tr th:only-of-type {\n",
              "        vertical-align: middle;\n",
              "    }\n",
              "\n",
              "    .dataframe tbody tr th {\n",
              "        vertical-align: top;\n",
              "    }\n",
              "\n",
              "    .dataframe thead th {\n",
              "        text-align: right;\n",
              "    }\n",
              "</style>\n",
              "<table border=\"1\" class=\"dataframe\">\n",
              "  <thead>\n",
              "    <tr style=\"text-align: right;\">\n",
              "      <th></th>\n",
              "      <th>Sentiment</th>\n",
              "      <th>Cleaned_1</th>\n",
              "      <th>Stopwords</th>\n",
              "      <th>Sentiment_rating</th>\n",
              "    </tr>\n",
              "  </thead>\n",
              "  <tbody>\n",
              "    <tr>\n",
              "      <th>0</th>\n",
              "      <td>positive</td>\n",
              "      <td>good quality dog food i have bought several of...</td>\n",
              "      <td>good quality dog food bought vitality canned d...</td>\n",
              "      <td>1</td>\n",
              "    </tr>\n",
              "    <tr>\n",
              "      <th>1</th>\n",
              "      <td>negative</td>\n",
              "      <td>not as advertised product arrived labeled as j...</td>\n",
              "      <td>not advertised product arrived labeled jumbo s...</td>\n",
              "      <td>0</td>\n",
              "    </tr>\n",
              "    <tr>\n",
              "      <th>2</th>\n",
              "      <td>positive</td>\n",
              "      <td>delight says it all this is a confection that ...</td>\n",
              "      <td>delight says confection centuries light pillow...</td>\n",
              "      <td>1</td>\n",
              "    </tr>\n",
              "    <tr>\n",
              "      <th>3</th>\n",
              "      <td>negative</td>\n",
              "      <td>cough medicine if you are looking for the secr...</td>\n",
              "      <td>cough medicine looking secret ingredient robit...</td>\n",
              "      <td>0</td>\n",
              "    </tr>\n",
              "    <tr>\n",
              "      <th>4</th>\n",
              "      <td>positive</td>\n",
              "      <td>great taffy great taffy at a great price  ther...</td>\n",
              "      <td>great taffy great taffy great price wide assor...</td>\n",
              "      <td>1</td>\n",
              "    </tr>\n",
              "    <tr>\n",
              "      <th>5</th>\n",
              "      <td>positive</td>\n",
              "      <td>nice taffy i got a wild hair for taffy and ord...</td>\n",
              "      <td>nice taffy got wild hair taffy ordered pound b...</td>\n",
              "      <td>1</td>\n",
              "    </tr>\n",
              "    <tr>\n",
              "      <th>6</th>\n",
              "      <td>positive</td>\n",
              "      <td>great  just as good as the expensive brands th...</td>\n",
              "      <td>great just good expensive brands saltwater taf...</td>\n",
              "      <td>1</td>\n",
              "    </tr>\n",
              "    <tr>\n",
              "      <th>7</th>\n",
              "      <td>positive</td>\n",
              "      <td>wonderful tasty taffy this taffy is so good  i...</td>\n",
              "      <td>wonderful tasty taffy taffy good soft chewy fl...</td>\n",
              "      <td>1</td>\n",
              "    </tr>\n",
              "    <tr>\n",
              "      <th>8</th>\n",
              "      <td>positive</td>\n",
              "      <td>yay barley right now im mostly just sprouting ...</td>\n",
              "      <td>yay barley right im just sprouting cats eat gr...</td>\n",
              "      <td>1</td>\n",
              "    </tr>\n",
              "    <tr>\n",
              "      <th>9</th>\n",
              "      <td>positive</td>\n",
              "      <td>healthy dog food this is a very healthy dog fo...</td>\n",
              "      <td>healthy dog food healthy dog food good digesti...</td>\n",
              "      <td>1</td>\n",
              "    </tr>\n",
              "  </tbody>\n",
              "</table>\n",
              "</div>\n",
              "      <button class=\"colab-df-convert\" onclick=\"convertToInteractive('df-cf30a968-2340-4b44-9f8c-77bccbd81750')\"\n",
              "              title=\"Convert this dataframe to an interactive table.\"\n",
              "              style=\"display:none;\">\n",
              "        \n",
              "  <svg xmlns=\"http://www.w3.org/2000/svg\" height=\"24px\"viewBox=\"0 0 24 24\"\n",
              "       width=\"24px\">\n",
              "    <path d=\"M0 0h24v24H0V0z\" fill=\"none\"/>\n",
              "    <path d=\"M18.56 5.44l.94 2.06.94-2.06 2.06-.94-2.06-.94-.94-2.06-.94 2.06-2.06.94zm-11 1L8.5 8.5l.94-2.06 2.06-.94-2.06-.94L8.5 2.5l-.94 2.06-2.06.94zm10 10l.94 2.06.94-2.06 2.06-.94-2.06-.94-.94-2.06-.94 2.06-2.06.94z\"/><path d=\"M17.41 7.96l-1.37-1.37c-.4-.4-.92-.59-1.43-.59-.52 0-1.04.2-1.43.59L10.3 9.45l-7.72 7.72c-.78.78-.78 2.05 0 2.83L4 21.41c.39.39.9.59 1.41.59.51 0 1.02-.2 1.41-.59l7.78-7.78 2.81-2.81c.8-.78.8-2.07 0-2.86zM5.41 20L4 18.59l7.72-7.72 1.47 1.35L5.41 20z\"/>\n",
              "  </svg>\n",
              "      </button>\n",
              "      \n",
              "  <style>\n",
              "    .colab-df-container {\n",
              "      display:flex;\n",
              "      flex-wrap:wrap;\n",
              "      gap: 12px;\n",
              "    }\n",
              "\n",
              "    .colab-df-convert {\n",
              "      background-color: #E8F0FE;\n",
              "      border: none;\n",
              "      border-radius: 50%;\n",
              "      cursor: pointer;\n",
              "      display: none;\n",
              "      fill: #1967D2;\n",
              "      height: 32px;\n",
              "      padding: 0 0 0 0;\n",
              "      width: 32px;\n",
              "    }\n",
              "\n",
              "    .colab-df-convert:hover {\n",
              "      background-color: #E2EBFA;\n",
              "      box-shadow: 0px 1px 2px rgba(60, 64, 67, 0.3), 0px 1px 3px 1px rgba(60, 64, 67, 0.15);\n",
              "      fill: #174EA6;\n",
              "    }\n",
              "\n",
              "    [theme=dark] .colab-df-convert {\n",
              "      background-color: #3B4455;\n",
              "      fill: #D2E3FC;\n",
              "    }\n",
              "\n",
              "    [theme=dark] .colab-df-convert:hover {\n",
              "      background-color: #434B5C;\n",
              "      box-shadow: 0px 1px 3px 1px rgba(0, 0, 0, 0.15);\n",
              "      filter: drop-shadow(0px 1px 2px rgba(0, 0, 0, 0.3));\n",
              "      fill: #FFFFFF;\n",
              "    }\n",
              "  </style>\n",
              "\n",
              "      <script>\n",
              "        const buttonEl =\n",
              "          document.querySelector('#df-cf30a968-2340-4b44-9f8c-77bccbd81750 button.colab-df-convert');\n",
              "        buttonEl.style.display =\n",
              "          google.colab.kernel.accessAllowed ? 'block' : 'none';\n",
              "\n",
              "        async function convertToInteractive(key) {\n",
              "          const element = document.querySelector('#df-cf30a968-2340-4b44-9f8c-77bccbd81750');\n",
              "          const dataTable =\n",
              "            await google.colab.kernel.invokeFunction('convertToInteractive',\n",
              "                                                     [key], {});\n",
              "          if (!dataTable) return;\n",
              "\n",
              "          const docLinkHtml = 'Like what you see? Visit the ' +\n",
              "            '<a target=\"_blank\" href=https://colab.research.google.com/notebooks/data_table.ipynb>data table notebook</a>'\n",
              "            + ' to learn more about interactive tables.';\n",
              "          element.innerHTML = '';\n",
              "          dataTable['output_type'] = 'display_data';\n",
              "          await google.colab.output.renderOutput(dataTable, element);\n",
              "          const docLink = document.createElement('div');\n",
              "          docLink.innerHTML = docLinkHtml;\n",
              "          element.appendChild(docLink);\n",
              "        }\n",
              "      </script>\n",
              "    </div>\n",
              "  </div>\n",
              "  "
            ]
          },
          "metadata": {},
          "execution_count": 21
        }
      ],
      "source": [
        "def sentiment_rating(val):\n",
        "  if (val=='positive'):\n",
        "    entry=1\n",
        "  else:\n",
        "    entry=0\n",
        "  return entry\n",
        "\n",
        "\n",
        "df1['Sentiment_rating']= df1['Sentiment'].apply(lambda x: sentiment_rating(x))\n",
        "# df.head(50)'].apply(lambda x: identify_sentiment(x))\n",
        "df1.head(10)"
      ]
    },
    {
      "cell_type": "code",
      "execution_count": null,
      "metadata": {
        "id": "E8eSaIUI8ubL",
        "colab": {
          "base_uri": "https://localhost:8080/"
        },
        "outputId": "7156251d-30b5-4f2b-e8db-a8adf78795f5"
      },
      "outputs": [
        {
          "output_type": "execute_result",
          "data": {
            "text/plain": [
              "1    443777\n",
              "0     82037\n",
              "Name: Sentiment_rating, dtype: int64"
            ]
          },
          "metadata": {},
          "execution_count": 22
        }
      ],
      "source": [
        "df1['Sentiment_rating'].value_counts()"
      ]
    },
    {
      "cell_type": "markdown",
      "source": [
        "Looking at the value counts we can see that the data is pretty imbalanced with a lot more positive reviews than negative ones."
      ],
      "metadata": {
        "id": "EAbm0BxnIN5_"
      }
    },
    {
      "cell_type": "code",
      "execution_count": null,
      "metadata": {
        "colab": {
          "base_uri": "https://localhost:8080/",
          "height": 555
        },
        "id": "Gdv7VnbFUGIu",
        "outputId": "14f0b960-397b-4a01-8682-1c0d9c1dad8d"
      },
      "outputs": [
        {
          "output_type": "execute_result",
          "data": {
            "text/plain": [
              "  Sentiment                                          Cleaned_1  \\\n",
              "0  positive  good quality dog food i have bought several of...   \n",
              "1  negative  not as advertised product arrived labeled as j...   \n",
              "2  positive  delight says it all this is a confection that ...   \n",
              "3  negative  cough medicine if you are looking for the secr...   \n",
              "4  positive  great taffy great taffy at a great price  ther...   \n",
              "5  positive  nice taffy i got a wild hair for taffy and ord...   \n",
              "6  positive  great  just as good as the expensive brands th...   \n",
              "7  positive  wonderful tasty taffy this taffy is so good  i...   \n",
              "8  positive  yay barley right now im mostly just sprouting ...   \n",
              "9  positive  healthy dog food this is a very healthy dog fo...   \n",
              "\n",
              "                                           Stopwords  Sentiment_rating  \n",
              "0  good quality dog food bought vitality canned d...                 1  \n",
              "1  not advertised product arrived labeled jumbo s...                 0  \n",
              "2  delight says confection centuries light pillow...                 1  \n",
              "3  cough medicine looking secret ingredient robit...                 0  \n",
              "4  great taffy great taffy great price wide assor...                 1  \n",
              "5  nice taffy got wild hair taffy ordered pound b...                 1  \n",
              "6  great just good expensive brands saltwater taf...                 1  \n",
              "7  wonderful tasty taffy taffy good soft chewy fl...                 1  \n",
              "8  yay barley right im just sprouting cats eat gr...                 1  \n",
              "9  healthy dog food healthy dog food good digesti...                 1  "
            ],
            "text/html": [
              "\n",
              "  <div id=\"df-fa01010e-d75d-47d3-944d-f10a2d97ef34\">\n",
              "    <div class=\"colab-df-container\">\n",
              "      <div>\n",
              "<style scoped>\n",
              "    .dataframe tbody tr th:only-of-type {\n",
              "        vertical-align: middle;\n",
              "    }\n",
              "\n",
              "    .dataframe tbody tr th {\n",
              "        vertical-align: top;\n",
              "    }\n",
              "\n",
              "    .dataframe thead th {\n",
              "        text-align: right;\n",
              "    }\n",
              "</style>\n",
              "<table border=\"1\" class=\"dataframe\">\n",
              "  <thead>\n",
              "    <tr style=\"text-align: right;\">\n",
              "      <th></th>\n",
              "      <th>Sentiment</th>\n",
              "      <th>Cleaned_1</th>\n",
              "      <th>Stopwords</th>\n",
              "      <th>Sentiment_rating</th>\n",
              "    </tr>\n",
              "  </thead>\n",
              "  <tbody>\n",
              "    <tr>\n",
              "      <th>0</th>\n",
              "      <td>positive</td>\n",
              "      <td>good quality dog food i have bought several of...</td>\n",
              "      <td>good quality dog food bought vitality canned d...</td>\n",
              "      <td>1</td>\n",
              "    </tr>\n",
              "    <tr>\n",
              "      <th>1</th>\n",
              "      <td>negative</td>\n",
              "      <td>not as advertised product arrived labeled as j...</td>\n",
              "      <td>not advertised product arrived labeled jumbo s...</td>\n",
              "      <td>0</td>\n",
              "    </tr>\n",
              "    <tr>\n",
              "      <th>2</th>\n",
              "      <td>positive</td>\n",
              "      <td>delight says it all this is a confection that ...</td>\n",
              "      <td>delight says confection centuries light pillow...</td>\n",
              "      <td>1</td>\n",
              "    </tr>\n",
              "    <tr>\n",
              "      <th>3</th>\n",
              "      <td>negative</td>\n",
              "      <td>cough medicine if you are looking for the secr...</td>\n",
              "      <td>cough medicine looking secret ingredient robit...</td>\n",
              "      <td>0</td>\n",
              "    </tr>\n",
              "    <tr>\n",
              "      <th>4</th>\n",
              "      <td>positive</td>\n",
              "      <td>great taffy great taffy at a great price  ther...</td>\n",
              "      <td>great taffy great taffy great price wide assor...</td>\n",
              "      <td>1</td>\n",
              "    </tr>\n",
              "    <tr>\n",
              "      <th>5</th>\n",
              "      <td>positive</td>\n",
              "      <td>nice taffy i got a wild hair for taffy and ord...</td>\n",
              "      <td>nice taffy got wild hair taffy ordered pound b...</td>\n",
              "      <td>1</td>\n",
              "    </tr>\n",
              "    <tr>\n",
              "      <th>6</th>\n",
              "      <td>positive</td>\n",
              "      <td>great  just as good as the expensive brands th...</td>\n",
              "      <td>great just good expensive brands saltwater taf...</td>\n",
              "      <td>1</td>\n",
              "    </tr>\n",
              "    <tr>\n",
              "      <th>7</th>\n",
              "      <td>positive</td>\n",
              "      <td>wonderful tasty taffy this taffy is so good  i...</td>\n",
              "      <td>wonderful tasty taffy taffy good soft chewy fl...</td>\n",
              "      <td>1</td>\n",
              "    </tr>\n",
              "    <tr>\n",
              "      <th>8</th>\n",
              "      <td>positive</td>\n",
              "      <td>yay barley right now im mostly just sprouting ...</td>\n",
              "      <td>yay barley right im just sprouting cats eat gr...</td>\n",
              "      <td>1</td>\n",
              "    </tr>\n",
              "    <tr>\n",
              "      <th>9</th>\n",
              "      <td>positive</td>\n",
              "      <td>healthy dog food this is a very healthy dog fo...</td>\n",
              "      <td>healthy dog food healthy dog food good digesti...</td>\n",
              "      <td>1</td>\n",
              "    </tr>\n",
              "  </tbody>\n",
              "</table>\n",
              "</div>\n",
              "      <button class=\"colab-df-convert\" onclick=\"convertToInteractive('df-fa01010e-d75d-47d3-944d-f10a2d97ef34')\"\n",
              "              title=\"Convert this dataframe to an interactive table.\"\n",
              "              style=\"display:none;\">\n",
              "        \n",
              "  <svg xmlns=\"http://www.w3.org/2000/svg\" height=\"24px\"viewBox=\"0 0 24 24\"\n",
              "       width=\"24px\">\n",
              "    <path d=\"M0 0h24v24H0V0z\" fill=\"none\"/>\n",
              "    <path d=\"M18.56 5.44l.94 2.06.94-2.06 2.06-.94-2.06-.94-.94-2.06-.94 2.06-2.06.94zm-11 1L8.5 8.5l.94-2.06 2.06-.94-2.06-.94L8.5 2.5l-.94 2.06-2.06.94zm10 10l.94 2.06.94-2.06 2.06-.94-2.06-.94-.94-2.06-.94 2.06-2.06.94z\"/><path d=\"M17.41 7.96l-1.37-1.37c-.4-.4-.92-.59-1.43-.59-.52 0-1.04.2-1.43.59L10.3 9.45l-7.72 7.72c-.78.78-.78 2.05 0 2.83L4 21.41c.39.39.9.59 1.41.59.51 0 1.02-.2 1.41-.59l7.78-7.78 2.81-2.81c.8-.78.8-2.07 0-2.86zM5.41 20L4 18.59l7.72-7.72 1.47 1.35L5.41 20z\"/>\n",
              "  </svg>\n",
              "      </button>\n",
              "      \n",
              "  <style>\n",
              "    .colab-df-container {\n",
              "      display:flex;\n",
              "      flex-wrap:wrap;\n",
              "      gap: 12px;\n",
              "    }\n",
              "\n",
              "    .colab-df-convert {\n",
              "      background-color: #E8F0FE;\n",
              "      border: none;\n",
              "      border-radius: 50%;\n",
              "      cursor: pointer;\n",
              "      display: none;\n",
              "      fill: #1967D2;\n",
              "      height: 32px;\n",
              "      padding: 0 0 0 0;\n",
              "      width: 32px;\n",
              "    }\n",
              "\n",
              "    .colab-df-convert:hover {\n",
              "      background-color: #E2EBFA;\n",
              "      box-shadow: 0px 1px 2px rgba(60, 64, 67, 0.3), 0px 1px 3px 1px rgba(60, 64, 67, 0.15);\n",
              "      fill: #174EA6;\n",
              "    }\n",
              "\n",
              "    [theme=dark] .colab-df-convert {\n",
              "      background-color: #3B4455;\n",
              "      fill: #D2E3FC;\n",
              "    }\n",
              "\n",
              "    [theme=dark] .colab-df-convert:hover {\n",
              "      background-color: #434B5C;\n",
              "      box-shadow: 0px 1px 3px 1px rgba(0, 0, 0, 0.15);\n",
              "      filter: drop-shadow(0px 1px 2px rgba(0, 0, 0, 0.3));\n",
              "      fill: #FFFFFF;\n",
              "    }\n",
              "  </style>\n",
              "\n",
              "      <script>\n",
              "        const buttonEl =\n",
              "          document.querySelector('#df-fa01010e-d75d-47d3-944d-f10a2d97ef34 button.colab-df-convert');\n",
              "        buttonEl.style.display =\n",
              "          google.colab.kernel.accessAllowed ? 'block' : 'none';\n",
              "\n",
              "        async function convertToInteractive(key) {\n",
              "          const element = document.querySelector('#df-fa01010e-d75d-47d3-944d-f10a2d97ef34');\n",
              "          const dataTable =\n",
              "            await google.colab.kernel.invokeFunction('convertToInteractive',\n",
              "                                                     [key], {});\n",
              "          if (!dataTable) return;\n",
              "\n",
              "          const docLinkHtml = 'Like what you see? Visit the ' +\n",
              "            '<a target=\"_blank\" href=https://colab.research.google.com/notebooks/data_table.ipynb>data table notebook</a>'\n",
              "            + ' to learn more about interactive tables.';\n",
              "          element.innerHTML = '';\n",
              "          dataTable['output_type'] = 'display_data';\n",
              "          await google.colab.output.renderOutput(dataTable, element);\n",
              "          const docLink = document.createElement('div');\n",
              "          docLink.innerHTML = docLinkHtml;\n",
              "          element.appendChild(docLink);\n",
              "        }\n",
              "      </script>\n",
              "    </div>\n",
              "  </div>\n",
              "  "
            ]
          },
          "metadata": {},
          "execution_count": 23
        }
      ],
      "source": [
        "df1.head(10)"
      ]
    },
    {
      "cell_type": "code",
      "execution_count": null,
      "metadata": {
        "colab": {
          "base_uri": "https://localhost:8080/"
        },
        "id": "4TY9tCf93TqG",
        "outputId": "ff30aa8c-a76a-4188-c08c-ce9e72a31237"
      },
      "outputs": [
        {
          "output_type": "execute_result",
          "data": {
            "text/plain": [
              "0    good quality dog food bought vitality canned d...\n",
              "1    not advertised product arrived labeled jumbo s...\n",
              "2    delight says confection centuries light pillow...\n",
              "3    cough medicine looking secret ingredient robit...\n",
              "4    great taffy great taffy great price wide assor...\n",
              "Name: Stopwords, dtype: object"
            ]
          },
          "metadata": {},
          "execution_count": 24
        }
      ],
      "source": [
        "df1['Stopwords'].head()\n",
        "# tokens"
      ]
    },
    {
      "cell_type": "markdown",
      "source": [
        "Creating a separate dataframe of the negative reviews in order to upsample them. "
      ],
      "metadata": {
        "id": "mCi2unxxIlLX"
      }
    },
    {
      "cell_type": "code",
      "execution_count": null,
      "metadata": {
        "colab": {
          "base_uri": "https://localhost:8080/",
          "height": 323
        },
        "id": "R_BHIdTqP3qp",
        "outputId": "2aa52db0-ec78-48fc-ed20-d4157c1bacef"
      },
      "outputs": [
        {
          "output_type": "execute_result",
          "data": {
            "text/plain": [
              "   Sentiment                                          Cleaned_1  \\\n",
              "1   negative  not as advertised product arrived labeled as j...   \n",
              "3   negative  cough medicine if you are looking for the secr...   \n",
              "12  negative  my cats are not fans of the new food my cats h...   \n",
              "16  negative  poor taste i love eating them and they are goo...   \n",
              "26  negative  nasty no flavor the candy is just red  no flav...   \n",
              "\n",
              "                                            Stopwords  Sentiment_rating  \n",
              "1   not advertised product arrived labeled jumbo s...                 0  \n",
              "3   cough medicine looking secret ingredient robit...                 0  \n",
              "12  cats not fans new food cats happily eating fel...                 0  \n",
              "16  poor taste love eating good watching tv lookin...                 0  \n",
              "26  nasty no flavor candy just red no flavor just ...                 0  "
            ],
            "text/html": [
              "\n",
              "  <div id=\"df-121a7a08-9a75-4dfb-9290-4d9f2b394165\">\n",
              "    <div class=\"colab-df-container\">\n",
              "      <div>\n",
              "<style scoped>\n",
              "    .dataframe tbody tr th:only-of-type {\n",
              "        vertical-align: middle;\n",
              "    }\n",
              "\n",
              "    .dataframe tbody tr th {\n",
              "        vertical-align: top;\n",
              "    }\n",
              "\n",
              "    .dataframe thead th {\n",
              "        text-align: right;\n",
              "    }\n",
              "</style>\n",
              "<table border=\"1\" class=\"dataframe\">\n",
              "  <thead>\n",
              "    <tr style=\"text-align: right;\">\n",
              "      <th></th>\n",
              "      <th>Sentiment</th>\n",
              "      <th>Cleaned_1</th>\n",
              "      <th>Stopwords</th>\n",
              "      <th>Sentiment_rating</th>\n",
              "    </tr>\n",
              "  </thead>\n",
              "  <tbody>\n",
              "    <tr>\n",
              "      <th>1</th>\n",
              "      <td>negative</td>\n",
              "      <td>not as advertised product arrived labeled as j...</td>\n",
              "      <td>not advertised product arrived labeled jumbo s...</td>\n",
              "      <td>0</td>\n",
              "    </tr>\n",
              "    <tr>\n",
              "      <th>3</th>\n",
              "      <td>negative</td>\n",
              "      <td>cough medicine if you are looking for the secr...</td>\n",
              "      <td>cough medicine looking secret ingredient robit...</td>\n",
              "      <td>0</td>\n",
              "    </tr>\n",
              "    <tr>\n",
              "      <th>12</th>\n",
              "      <td>negative</td>\n",
              "      <td>my cats are not fans of the new food my cats h...</td>\n",
              "      <td>cats not fans new food cats happily eating fel...</td>\n",
              "      <td>0</td>\n",
              "    </tr>\n",
              "    <tr>\n",
              "      <th>16</th>\n",
              "      <td>negative</td>\n",
              "      <td>poor taste i love eating them and they are goo...</td>\n",
              "      <td>poor taste love eating good watching tv lookin...</td>\n",
              "      <td>0</td>\n",
              "    </tr>\n",
              "    <tr>\n",
              "      <th>26</th>\n",
              "      <td>negative</td>\n",
              "      <td>nasty no flavor the candy is just red  no flav...</td>\n",
              "      <td>nasty no flavor candy just red no flavor just ...</td>\n",
              "      <td>0</td>\n",
              "    </tr>\n",
              "  </tbody>\n",
              "</table>\n",
              "</div>\n",
              "      <button class=\"colab-df-convert\" onclick=\"convertToInteractive('df-121a7a08-9a75-4dfb-9290-4d9f2b394165')\"\n",
              "              title=\"Convert this dataframe to an interactive table.\"\n",
              "              style=\"display:none;\">\n",
              "        \n",
              "  <svg xmlns=\"http://www.w3.org/2000/svg\" height=\"24px\"viewBox=\"0 0 24 24\"\n",
              "       width=\"24px\">\n",
              "    <path d=\"M0 0h24v24H0V0z\" fill=\"none\"/>\n",
              "    <path d=\"M18.56 5.44l.94 2.06.94-2.06 2.06-.94-2.06-.94-.94-2.06-.94 2.06-2.06.94zm-11 1L8.5 8.5l.94-2.06 2.06-.94-2.06-.94L8.5 2.5l-.94 2.06-2.06.94zm10 10l.94 2.06.94-2.06 2.06-.94-2.06-.94-.94-2.06-.94 2.06-2.06.94z\"/><path d=\"M17.41 7.96l-1.37-1.37c-.4-.4-.92-.59-1.43-.59-.52 0-1.04.2-1.43.59L10.3 9.45l-7.72 7.72c-.78.78-.78 2.05 0 2.83L4 21.41c.39.39.9.59 1.41.59.51 0 1.02-.2 1.41-.59l7.78-7.78 2.81-2.81c.8-.78.8-2.07 0-2.86zM5.41 20L4 18.59l7.72-7.72 1.47 1.35L5.41 20z\"/>\n",
              "  </svg>\n",
              "      </button>\n",
              "      \n",
              "  <style>\n",
              "    .colab-df-container {\n",
              "      display:flex;\n",
              "      flex-wrap:wrap;\n",
              "      gap: 12px;\n",
              "    }\n",
              "\n",
              "    .colab-df-convert {\n",
              "      background-color: #E8F0FE;\n",
              "      border: none;\n",
              "      border-radius: 50%;\n",
              "      cursor: pointer;\n",
              "      display: none;\n",
              "      fill: #1967D2;\n",
              "      height: 32px;\n",
              "      padding: 0 0 0 0;\n",
              "      width: 32px;\n",
              "    }\n",
              "\n",
              "    .colab-df-convert:hover {\n",
              "      background-color: #E2EBFA;\n",
              "      box-shadow: 0px 1px 2px rgba(60, 64, 67, 0.3), 0px 1px 3px 1px rgba(60, 64, 67, 0.15);\n",
              "      fill: #174EA6;\n",
              "    }\n",
              "\n",
              "    [theme=dark] .colab-df-convert {\n",
              "      background-color: #3B4455;\n",
              "      fill: #D2E3FC;\n",
              "    }\n",
              "\n",
              "    [theme=dark] .colab-df-convert:hover {\n",
              "      background-color: #434B5C;\n",
              "      box-shadow: 0px 1px 3px 1px rgba(0, 0, 0, 0.15);\n",
              "      filter: drop-shadow(0px 1px 2px rgba(0, 0, 0, 0.3));\n",
              "      fill: #FFFFFF;\n",
              "    }\n",
              "  </style>\n",
              "\n",
              "      <script>\n",
              "        const buttonEl =\n",
              "          document.querySelector('#df-121a7a08-9a75-4dfb-9290-4d9f2b394165 button.colab-df-convert');\n",
              "        buttonEl.style.display =\n",
              "          google.colab.kernel.accessAllowed ? 'block' : 'none';\n",
              "\n",
              "        async function convertToInteractive(key) {\n",
              "          const element = document.querySelector('#df-121a7a08-9a75-4dfb-9290-4d9f2b394165');\n",
              "          const dataTable =\n",
              "            await google.colab.kernel.invokeFunction('convertToInteractive',\n",
              "                                                     [key], {});\n",
              "          if (!dataTable) return;\n",
              "\n",
              "          const docLinkHtml = 'Like what you see? Visit the ' +\n",
              "            '<a target=\"_blank\" href=https://colab.research.google.com/notebooks/data_table.ipynb>data table notebook</a>'\n",
              "            + ' to learn more about interactive tables.';\n",
              "          element.innerHTML = '';\n",
              "          dataTable['output_type'] = 'display_data';\n",
              "          await google.colab.output.renderOutput(dataTable, element);\n",
              "          const docLink = document.createElement('div');\n",
              "          docLink.innerHTML = docLinkHtml;\n",
              "          element.appendChild(docLink);\n",
              "        }\n",
              "      </script>\n",
              "    </div>\n",
              "  </div>\n",
              "  "
            ]
          },
          "metadata": {},
          "execution_count": 25
        }
      ],
      "source": [
        "\n",
        "filtered_data = df1 [df1 [\"Sentiment_rating\"]==0] \n",
        "filtered_data.head(5)"
      ]
    },
    {
      "cell_type": "code",
      "execution_count": null,
      "metadata": {
        "id": "JhUNG8IbP4Fi"
      },
      "outputs": [],
      "source": [
        ""
      ]
    },
    {
      "cell_type": "markdown",
      "source": [
        "The following code will increase the number of negative reviews to match that of the positive class. Upsampled_data is the merged dataframe that we get after upsampling. "
      ],
      "metadata": {
        "id": "wN-MO6oAIwVG"
      }
    },
    {
      "cell_type": "code",
      "execution_count": null,
      "metadata": {
        "id": "fQ52zKPr7ySH"
      },
      "outputs": [],
      "source": [
        "from sklearn.utils import resample\n",
        "\n",
        "#create two different dataframe of majority and minority class \n",
        "\n",
        "cls_majority =df1[(df1['Sentiment_rating']==1)] \n",
        "cls_minority = df1[(df1['Sentiment_rating']==0)] \n",
        "\n",
        "# upsample minority class\n",
        "cls_minority_upsampled = resample(cls_minority, \n",
        "                                 replace=True,    #sample with replacement\n",
        "                                 n_samples= 443777, #to match majority class\n",
        "                                 random_state=42)  #reproducible results\n",
        "# Combine majority class with upsampled minority class\n",
        "upsampled_data = pd.concat([cls_minority_upsampled, cls_majority])"
      ]
    },
    {
      "cell_type": "code",
      "execution_count": null,
      "metadata": {
        "colab": {
          "base_uri": "https://localhost:8080/"
        },
        "id": "vvGZB8cowWw3",
        "outputId": "9e35e196-4d74-4d03-9da2-0205616736ad"
      },
      "outputs": [
        {
          "output_type": "execute_result",
          "data": {
            "text/plain": [
              "(887554, 4)"
            ]
          },
          "metadata": {},
          "execution_count": 27
        }
      ],
      "source": [
        "upsampled_data.shape"
      ]
    },
    {
      "cell_type": "markdown",
      "source": [
        "The following cell shuffles all the rows in the merged datframe.  "
      ],
      "metadata": {
        "id": "I42KpDFQJeFb"
      }
    },
    {
      "cell_type": "code",
      "execution_count": null,
      "metadata": {
        "id": "uV4KhpFYZCBE"
      },
      "outputs": [],
      "source": [
        "upsampled_data = upsampled_data.sample(frac=1).reset_index(drop=True)"
      ]
    },
    {
      "cell_type": "code",
      "execution_count": null,
      "metadata": {
        "id": "uzGmaKPFxo6t"
      },
      "outputs": [],
      "source": [
        "# upsampled_data.head(50)"
      ]
    },
    {
      "cell_type": "markdown",
      "source": [
        "Looking at the value counts again we can see that the imbalanced classes problem is now resolved. "
      ],
      "metadata": {
        "id": "oQYCYI0oJuMi"
      }
    },
    {
      "cell_type": "code",
      "execution_count": null,
      "metadata": {
        "colab": {
          "base_uri": "https://localhost:8080/"
        },
        "id": "6Zix7-zSxwyT",
        "outputId": "7e748772-07db-4a2b-ba22-13cb3e49231a"
      },
      "outputs": [
        {
          "output_type": "execute_result",
          "data": {
            "text/plain": [
              "0    443777\n",
              "1    443777\n",
              "Name: Sentiment_rating, dtype: int64"
            ]
          },
          "metadata": {},
          "execution_count": 30
        }
      ],
      "source": [
        "upsampled_data['Sentiment_rating'].value_counts()"
      ]
    },
    {
      "cell_type": "code",
      "execution_count": null,
      "metadata": {
        "colab": {
          "base_uri": "https://localhost:8080/"
        },
        "id": "rzS_oxJij2qY",
        "outputId": "1f6654a0-74e6-4b4c-ef41-fca43da222fc"
      },
      "outputs": [
        {
          "output_type": "execute_result",
          "data": {
            "text/plain": [
              "0         not fresh hard disappointed w product freshnes...\n",
              "1         delicious husband gluten free diet months bisc...\n",
              "2         tasty maybe beneficial midwife recommended pro...\n",
              "3         mix chocolate hemp milk people havent able tol...\n",
              "4         best service desperate receive raved product d...\n",
              "                                ...                        \n",
              "887549    best ginger ale awesome extremely intense flav...\n",
              "887550    best using kcups years time tried dozen differ...\n",
              "887551    beware product cause dogs getting sick ruining...\n",
              "887552    outrageous price increase really careful buyin...\n",
              "887553    fresh mixers small bowls quick hot meal busy f...\n",
              "Name: Stopwords, Length: 887554, dtype: object"
            ]
          },
          "metadata": {},
          "execution_count": 31
        }
      ],
      "source": [
        "upsampled_data['Stopwords']"
      ]
    },
    {
      "cell_type": "markdown",
      "source": [
        "In the following cells The entire corpus is tokenised and stored in a list(story) of lists on which the Word2Vec model will be trained. The sent_tokenise method from NLTK library and simple_preprocess from gensim is used for "
      ],
      "metadata": {
        "id": "QZkNiNEtNBBX"
      }
    },
    {
      "cell_type": "code",
      "execution_count": null,
      "metadata": {
        "colab": {
          "base_uri": "https://localhost:8080/"
        },
        "id": "0S1ZAwillX8_",
        "outputId": "bbc6f917-4a01-40cc-c258-55c5626e0369"
      },
      "outputs": [
        {
          "output_type": "stream",
          "name": "stderr",
          "text": [
            "[nltk_data] Downloading package punkt to /root/nltk_data...\n",
            "[nltk_data]   Unzipping tokenizers/punkt.zip.\n"
          ]
        }
      ],
      "source": [
        "import gensim\n",
        "from nltk import sent_tokenize\n",
        "import nltk\n",
        "nltk.download('punkt')\n",
        "from gensim.utils import simple_preprocess"
      ]
    },
    {
      "cell_type": "code",
      "execution_count": null,
      "metadata": {
        "id": "GYlji9a8lYLj"
      },
      "outputs": [],
      "source": [
        "story = []\n",
        "for doc in upsampled_data['Stopwords']:\n",
        "    raw_sent = sent_tokenize(doc)\n",
        "    for sent in raw_sent:\n",
        "        story.append(simple_preprocess(sent))"
      ]
    },
    {
      "cell_type": "code",
      "execution_count": null,
      "metadata": {
        "id": "mJophAhBRIdA",
        "colab": {
          "base_uri": "https://localhost:8080/"
        },
        "outputId": "52174905-5f4a-4762-85f5-1f8878f88923"
      },
      "outputs": [
        {
          "output_type": "stream",
          "name": "stdout",
          "text": [
            "[['not', 'fresh', 'hard', 'disappointed', 'product', 'freshness', 'excited', 'amazon', 'tasted', 'product', 'impressed', 'good', 'tasty', 'soft', 'recd', 'boxes', 'opened', 'really', 'excited', 'experience', 'foodgasm', 'got', 'introduced', 'fruit', 'barfirst', 'bite', 'food', 'nightmare', 'boxes', 'bars', 'dont', 'feel', 'like', 'consumingit', 'stale', 'hardwhat', 'waste']]\n"
          ]
        }
      ],
      "source": [
        "print(story[:1])"
      ]
    },
    {
      "cell_type": "markdown",
      "source": [
        "The Word2Vec model object is made with a word window of 5 words(one center word and 2 words on either side of it), a minimum count of 50 and with the dimension of each word vector in the model given by MAX_LEN i.e. 100 in this case.  "
      ],
      "metadata": {
        "id": "uPEjhwvvN9fV"
      }
    },
    {
      "cell_type": "code",
      "execution_count": null,
      "metadata": {
        "id": "vtefFksp-AE5"
      },
      "outputs": [],
      "source": [
        "MAX_LEN=100\n",
        "w2v_model = gensim.models.Word2Vec(min_count=50,\n",
        "                     window=5,\n",
        "                     size=MAX_LEN, workers=4)\n",
        "                    #  sample=6e-5, \n",
        "                    #  alpha=0.03, \n",
        "                    #  min_alpha=0.0007, \n",
        "                    #  negative=20,workers=4)"
      ]
    },
    {
      "cell_type": "code",
      "execution_count": null,
      "metadata": {
        "id": "QhxSCHA1-bda"
      },
      "outputs": [],
      "source": [
        "w2v_model.build_vocab(story, progress_per=10000)\n"
      ]
    },
    {
      "cell_type": "markdown",
      "source": [
        "Training the Word2Vec model( add more deets)"
      ],
      "metadata": {
        "id": "aRG9S4eOO3b0"
      }
    },
    {
      "cell_type": "code",
      "execution_count": null,
      "metadata": {
        "id": "bVYI3zED-sH-",
        "colab": {
          "base_uri": "https://localhost:8080/"
        },
        "outputId": "7ee1cb50-49f1-4637-81eb-2b177a008317"
      },
      "outputs": [
        {
          "output_type": "execute_result",
          "data": {
            "text/plain": [
              "(162345370, 182076200)"
            ]
          },
          "metadata": {},
          "execution_count": 37
        }
      ],
      "source": [
        "w2v_model.train(story, total_examples=w2v_model.corpus_count, epochs=5, report_delay=1)"
      ]
    },
    {
      "cell_type": "code",
      "execution_count": null,
      "metadata": {
        "id": "HMs_n9kVDbpL"
      },
      "outputs": [],
      "source": [
        "# from gensim.test.utils import lee_corpus_list\n",
        "from gensim.models import Word2Vec\n",
        "\n",
        "word_vectors = w2v_model.wv"
      ]
    },
    {
      "cell_type": "code",
      "execution_count": null,
      "metadata": {
        "id": "0CA5Jo-QDw6E"
      },
      "outputs": [],
      "source": [
        "from gensim.models import KeyedVectors\n",
        "word_vectors.save('vectors.kv')\n",
        "reloaded_word_vectors = KeyedVectors.load('vectors.kv')"
      ]
    },
    {
      "cell_type": "code",
      "execution_count": null,
      "metadata": {
        "id": "MsXB5XRPxUEz",
        "colab": {
          "base_uri": "https://localhost:8080/"
        },
        "outputId": "ac5da8c4-e421-48f4-c858-cab2153745fd"
      },
      "outputs": [
        {
          "output_type": "stream",
          "name": "stdout",
          "text": [
            "[ 0.11088125  0.7311057  -0.10916169  0.91382676 -1.8138148   1.0251664\n",
            " -0.42955357 -2.4651225   2.150801    1.214153    0.38980004 -0.64588886\n",
            " -0.2964192   0.1768776   0.5161903   2.2934618   0.02430562 -1.3239555\n",
            " -0.07292688 -0.45836696 -0.3616982   0.16944705 -1.8864304  -1.2591571\n",
            " -1.0601817  -3.1277146  -1.9539937  -0.211269    0.34633142 -0.7739599\n",
            " -0.5404395   0.6628092  -0.54159594 -3.165716    1.3339692   0.39738345\n",
            "  0.42152408  0.14424802 -1.2957295  -0.8955225   0.2799202   3.1981895\n",
            " -0.29841375  0.95394593  1.5539598  -2.705207   -1.1743448  -1.4519349\n",
            " -0.9677014  -1.4643544   0.9139383  -0.55836326 -0.60008705 -1.2930689\n",
            " -0.24208821 -0.80802745  0.14789447  1.9449153   0.8854854   0.68800527\n",
            "  1.6500603  -1.0442159   0.17700757  0.02831104 -1.1005273  -1.9562225\n",
            "  0.4379595  -0.7907813  -0.0374604  -0.01587401  2.280715   -1.5970067\n",
            "  2.4563475   1.6521454   1.3239129   2.839858   -0.80753255 -0.07015117\n",
            " -1.1082157   0.94547963  2.0163214  -1.3223051   0.7458914  -1.7658695\n",
            "  0.04007035 -1.5199121   0.4209697   1.5664319  -2.0661924   1.3304223\n",
            "  0.03669258  2.0093048  -2.9820554   1.6482342  -1.4834545  -0.01357457\n",
            " -0.79982656 -0.4245721  -1.1250713   3.3449435 ]\n"
          ]
        }
      ],
      "source": [
        "from gensim.models import KeyedVectors\n",
        "# Store just the words + their trained embeddings.\n",
        "word_vectors = w2v_model.wv\n",
        "word_vectors.save(\"word2vec.wordvectors\")\n",
        "# Load back with memory-mapping = read-only, shared across processes.\n",
        "wv = KeyedVectors.load(\"word2vec.wordvectors\", mmap='r')\n",
        "vector = wv['good']\n",
        "print(vector)"
      ]
    },
    {
      "cell_type": "code",
      "execution_count": null,
      "metadata": {
        "id": "dl2xWgXRSdQM",
        "colab": {
          "base_uri": "https://localhost:8080/"
        },
        "outputId": "82a1dc89-44de-4e1e-ba3d-9b8c9da021bb"
      },
      "outputs": [
        {
          "output_type": "execute_result",
          "data": {
            "text/plain": [
              "list"
            ]
          },
          "metadata": {},
          "execution_count": 41
        }
      ],
      "source": [
        "type(story)"
      ]
    },
    {
      "cell_type": "markdown",
      "source": [
        "Size of the vocab is defined by the Word2Vec model depending on the minimum word count specified earlier.  "
      ],
      "metadata": {
        "id": "PFi9lakCP4RU"
      }
    },
    {
      "cell_type": "code",
      "execution_count": null,
      "metadata": {
        "id": "X7G235h-Qq9b",
        "colab": {
          "base_uri": "https://localhost:8080/"
        },
        "outputId": "dc892b8d-b953-4b32-8dfa-4ef7e48bf443"
      },
      "outputs": [
        {
          "output_type": "stream",
          "name": "stdout",
          "text": [
            "Vocab size 20341\n"
          ]
        }
      ],
      "source": [
        "words = w2v_model.wv.vocab.keys()\n",
        "w2v_vocab = len(words)\n",
        "print(\"Vocab size\", w2v_vocab)"
      ]
    },
    {
      "cell_type": "code",
      "execution_count": null,
      "metadata": {
        "id": "hzvRpizc_DDc",
        "colab": {
          "base_uri": "https://localhost:8080/"
        },
        "outputId": "addb6425-a17d-408b-9990-e96e84f54bd8"
      },
      "outputs": [
        {
          "output_type": "execute_result",
          "data": {
            "text/plain": [
              "[('good', 0.7499016523361206),\n",
              " ('reasonable', 0.5948527455329895),\n",
              " ('great', 0.5651198625564575),\n",
              " ('better', 0.5593924522399902),\n",
              " ('inexpensive', 0.5517677664756775),\n",
              " ('comparable', 0.5276227593421936),\n",
              " ('cheap', 0.5271986722946167),\n",
              " ('nice', 0.5178136825561523),\n",
              " ('inline', 0.48408985137939453),\n",
              " ('goodbr', 0.4840465188026428)]"
            ]
          },
          "metadata": {},
          "execution_count": 43
        }
      ],
      "source": [
        "w2v_model.wv.most_similar(positive=[\"decent\"])"
      ]
    },
    {
      "cell_type": "code",
      "execution_count": null,
      "metadata": {
        "id": "OEtvLNThR6Qn",
        "colab": {
          "base_uri": "https://localhost:8080/"
        },
        "outputId": "026f8695-6392-4933-e99e-fa85e4580f49"
      },
      "outputs": [
        {
          "output_type": "stream",
          "name": "stdout",
          "text": [
            "Total words 203999\n",
            "The document count 887553\n"
          ]
        }
      ],
      "source": [
        "from keras.preprocessing.text import Tokenizer\n",
        "from keras.preprocessing.sequence import pad_sequences\n",
        "tokenizer = Tokenizer(num_words=w2v_vocab)\n",
        "tokenizer.fit_on_texts(story)\n",
        "\n",
        "token_vocab = len(tokenizer.word_index) + 1\n",
        "print(\"Total words\", token_vocab)\n",
        "print(\"The document count\",tokenizer.document_count)"
      ]
    },
    {
      "cell_type": "code",
      "execution_count": null,
      "metadata": {
        "id": "lAFbyKQBIu1k",
        "colab": {
          "base_uri": "https://localhost:8080/"
        },
        "outputId": "2b38e9ef-0bd8-4900-9bc5-3a9f38137ecd"
      },
      "outputs": [
        {
          "output_type": "stream",
          "name": "stdout",
          "text": [
            "(887554, 100)\n"
          ]
        }
      ],
      "source": [
        "\n",
        "sequences = tokenizer.texts_to_sequences(upsampled_data['Stopwords'])\n",
        "data = pad_sequences(sequences, maxlen= MAX_LEN,padding='post') \n",
        "print(data.shape) \n"
      ]
    },
    {
      "cell_type": "code",
      "execution_count": null,
      "metadata": {
        "id": "Cg42r_1rKoyT",
        "colab": {
          "base_uri": "https://localhost:8080/"
        },
        "outputId": "92e19191-48bd-4c36-ca75-84898c207d38"
      },
      "outputs": [
        {
          "output_type": "stream",
          "name": "stdout",
          "text": [
            "[   65   292   213    69   124   193  1191   141    56   193   124   286\n",
            "    49   784   294 15807    20   138    15    28   213    69    14  1191\n",
            "   292 13107   187     6   744   124     0     0     0     0     0     0\n",
            "     0     0     0     0     0     0     0     0     0     0     0     0\n",
            "     0     0     0     0     0     0     0     0     0     0     0     0\n",
            "     0     0     0     0     0     0     0     0     0     0     0     0\n",
            "     0     0     0     0     0     0     0     0     0     0     0     0\n",
            "     0     0     0     0     0     0     0     0     0     0     0     0\n",
            "     0     0     0     0]\n"
          ]
        }
      ],
      "source": [
        "print(data[1]) \n"
      ]
    },
    {
      "cell_type": "code",
      "execution_count": null,
      "metadata": {
        "id": "nm6UdNlqTyfP",
        "colab": {
          "base_uri": "https://localhost:8080/"
        },
        "outputId": "278069f7-e1db-4e28-c7d0-c15e0bf448a0"
      },
      "outputs": [
        {
          "output_type": "execute_result",
          "data": {
            "text/plain": [
              "(887554, 100)"
            ]
          },
          "metadata": {},
          "execution_count": 47
        }
      ],
      "source": [
        "data.shape"
      ]
    },
    {
      "cell_type": "code",
      "execution_count": null,
      "metadata": {
        "id": "nGifBDKyUIof",
        "colab": {
          "base_uri": "https://localhost:8080/"
        },
        "outputId": "d9779bfa-65c3-45ee-8d57-cbd34da22a18"
      },
      "outputs": [
        {
          "output_type": "stream",
          "name": "stdout",
          "text": [
            "[[4 6 0 0 0 0 0 0 0 0 0 0 0 0 0 0 0 0 0 0 0 0 0 0 0 0 0 0 0 0 0 0 0 0 0 0\n",
            "  0 0 0 0 0 0 0 0 0 0 0 0 0 0 0 0 0 0 0 0 0 0 0 0 0 0 0 0 0 0 0 0 0 0 0 0\n",
            "  0 0 0 0 0 0 0 0 0 0 0 0 0 0 0 0 0 0 0 0 0 0 0 0 0 0 0 0]]\n"
          ]
        }
      ],
      "source": [
        "sequences = tokenizer.texts_to_sequences([\"good product \"])\n",
        "text = pad_sequences(sequences, maxlen=MAX_LEN, padding='post')\n",
        "print(text)"
      ]
    },
    {
      "cell_type": "code",
      "execution_count": null,
      "metadata": {
        "id": "2oz0FzCqQTAU"
      },
      "outputs": [],
      "source": [
        ""
      ]
    },
    {
      "cell_type": "code",
      "execution_count": null,
      "metadata": {
        "id": "zs6Ko4Z0lxa8"
      },
      "outputs": [],
      "source": [
        "# print(upsampled_data['Sentiment_rating'].head(50))\n",
        "y = upsampled_data['Sentiment_rating']\n"
      ]
    },
    {
      "cell_type": "code",
      "execution_count": null,
      "metadata": {
        "id": "cIwC1uvKkiyw"
      },
      "outputs": [],
      "source": [
        "from sklearn.model_selection import train_test_split\n",
        "X_train, X_test, y_train, y_test = train_test_split(data, y, test_size=0.25, random_state=0)"
      ]
    },
    {
      "cell_type": "code",
      "execution_count": null,
      "metadata": {
        "id": "iBVLxjuPNakL",
        "colab": {
          "base_uri": "https://localhost:8080/"
        },
        "outputId": "f8fbe46d-c015-4c23-e2b6-e7e172227409"
      },
      "outputs": [
        {
          "output_type": "stream",
          "name": "stdout",
          "text": [
            "20341\n",
            "[[ 0.          0.          0.         ...  0.          0.\n",
            "   0.        ]\n",
            " [-0.20269518 -1.43183494 -0.13479824 ...  1.08685815 -0.79805183\n",
            "  -0.62826443]\n",
            " [-0.67045313 -0.15562218 -0.67772228 ...  0.48427579 -2.52980042\n",
            "   1.52564144]\n",
            " ...\n",
            " [-0.21251175 -0.67027313  0.02326156 ...  0.1033967   0.06796174\n",
            "   0.07990099]\n",
            " [ 0.62250149 -0.06404798  0.12015792 ...  0.02241249  0.13257714\n",
            "   0.13002591]\n",
            " [-0.44956303 -0.06441514  0.5523271  ... -0.47916779  0.24524871\n",
            "  -0.38213292]]\n"
          ]
        }
      ],
      "source": [
        "import numpy as np\n",
        "print(w2v_vocab)\n",
        "embedding_matrix = np.zeros((w2v_vocab +1, MAX_LEN))\n",
        "for word, i in tokenizer.word_index.items():\n",
        "  if word in w2v_model.wv:\n",
        "    embedding_matrix[i] = w2v_model.wv[word]\n",
        "print(embedding_matrix)"
      ]
    },
    {
      "cell_type": "code",
      "execution_count": null,
      "metadata": {
        "id": "zw3NrkY_FDb7",
        "colab": {
          "base_uri": "https://localhost:8080/"
        },
        "outputId": "bb5ad69c-7381-482c-ac1d-c58ca5fb70c0"
      },
      "outputs": [
        {
          "output_type": "execute_result",
          "data": {
            "text/plain": [
              "(20342, 100)"
            ]
          },
          "metadata": {},
          "execution_count": 52
        }
      ],
      "source": [
        "embedding_matrix.shape"
      ]
    },
    {
      "cell_type": "code",
      "execution_count": null,
      "metadata": {
        "id": "NDLtcqXXLdJY"
      },
      "outputs": [],
      "source": [
        "# To create the embedding matrix what you need to do is that iterate over each item in the numpy array \n",
        "# data and if you find a word which is there in the W2v vocab then keep it otherwise replace that spot with 0. \n",
        "# Checkout the to matrix function of keras tokenizer for this   "
      ]
    },
    {
      "cell_type": "code",
      "execution_count": null,
      "metadata": {
        "id": "g2Hy6noiNsmH"
      },
      "outputs": [],
      "source": [
        "from keras.layers.embeddings import Embedding\n",
        "embedding_layer = Embedding(w2v_vocab+1,output_dim=MAX_LEN, weights=[embedding_matrix], input_length=MAX_LEN, trainable=False)\n"
      ]
    },
    {
      "cell_type": "code",
      "execution_count": null,
      "metadata": {
        "id": "E3TtfjifOpRD",
        "colab": {
          "base_uri": "https://localhost:8080/"
        },
        "outputId": "56ef657f-4f57-439f-ddbc-08f9223fdff2"
      },
      "outputs": [
        {
          "output_type": "stream",
          "name": "stdout",
          "text": [
            "WARNING:tensorflow:Layer lstm will not use cuDNN kernels since it doesn't meet the criteria. It will use a generic GPU kernel as fallback when running on GPU.\n",
            "Model: \"sequential\"\n",
            "_________________________________________________________________\n",
            " Layer (type)                Output Shape              Param #   \n",
            "=================================================================\n",
            " embedding (Embedding)       (None, 100, 100)          2034200   \n",
            "                                                                 \n",
            " dropout (Dropout)           (None, 100, 100)          0         \n",
            "                                                                 \n",
            " lstm (LSTM)                 (None, 100)               80400     \n",
            "                                                                 \n",
            " dense (Dense)               (None, 1)                 101       \n",
            "                                                                 \n",
            "=================================================================\n",
            "Total params: 2,114,701\n",
            "Trainable params: 80,501\n",
            "Non-trainable params: 2,034,200\n",
            "_________________________________________________________________\n"
          ]
        }
      ],
      "source": [
        "from keras.preprocessing.text import Tokenizer\n",
        "from keras.preprocessing.sequence import pad_sequences\n",
        "from keras.models import Sequential\n",
        "from keras.layers import Activation, Dense, Dropout, Embedding, Flatten, Conv1D, MaxPooling1D, LSTM\n",
        "from keras import utils\n",
        "from keras.callbacks import ReduceLROnPlateau, EarlyStopping\n",
        "model = Sequential()\n",
        "model.add(embedding_layer)\n",
        "model.add(Dropout(0.5))\n",
        "model.add(LSTM(100, dropout=0.2, recurrent_dropout=0.2))\n",
        "model.add(Dense(1, activation='sigmoid'))\n",
        "\n",
        "model.summary()"
      ]
    },
    {
      "cell_type": "code",
      "execution_count": null,
      "metadata": {
        "id": "WCHC7mLoOpja"
      },
      "outputs": [],
      "source": [
        "model.compile(loss='binary_crossentropy',\n",
        "              optimizer=\"adam\",\n",
        "              metrics=['accuracy'])"
      ]
    },
    {
      "cell_type": "code",
      "execution_count": null,
      "metadata": {
        "id": "iMLyp-vvOp1e"
      },
      "outputs": [],
      "source": [
        "# callbacks = [ ReduceLROnPlateau(monitor='val_loss', patience=5, cooldown=0),\n",
        "              # EarlyStopping(monitor='val_acc', min_delta=1e-4, patience=5)]"
      ]
    },
    {
      "cell_type": "code",
      "execution_count": null,
      "metadata": {
        "id": "Va2gVjiUhRdl",
        "colab": {
          "base_uri": "https://localhost:8080/",
          "height": 405
        },
        "outputId": "ada466c6-17ae-4e0d-8dbd-2c426cada4e9"
      },
      "outputs": [
        {
          "output_type": "stream",
          "name": "stdout",
          "text": [
            "Epoch 1/3\n",
            "562/976 [================>.............] - ETA: 2:24 - loss: 0.3596 - accuracy: 0.8348"
          ]
        },
        {
          "output_type": "error",
          "ename": "KeyboardInterrupt",
          "evalue": "ignored",
          "traceback": [
            "\u001b[0;31m---------------------------------------------------------------------------\u001b[0m",
            "\u001b[0;31mKeyboardInterrupt\u001b[0m                         Traceback (most recent call last)",
            "\u001b[0;32m<ipython-input-58-7428ffc21e58>\u001b[0m in \u001b[0;36m<module>\u001b[0;34m()\u001b[0m\n\u001b[1;32m      3\u001b[0m                     \u001b[0mepochs\u001b[0m\u001b[0;34m=\u001b[0m\u001b[0;36m3\u001b[0m\u001b[0;34m,\u001b[0m\u001b[0;34m\u001b[0m\u001b[0;34m\u001b[0m\u001b[0m\n\u001b[1;32m      4\u001b[0m                     \u001b[0mvalidation_split\u001b[0m\u001b[0;34m=\u001b[0m\u001b[0;36m0.25\u001b[0m\u001b[0;34m,\u001b[0m\u001b[0;34m\u001b[0m\u001b[0;34m\u001b[0m\u001b[0m\n\u001b[0;32m----> 5\u001b[0;31m                     verbose=1)\n\u001b[0m\u001b[1;32m      6\u001b[0m                     \u001b[0;31m# callbacks=callbacks)\u001b[0m\u001b[0;34m\u001b[0m\u001b[0;34m\u001b[0m\u001b[0;34m\u001b[0m\u001b[0m\n",
            "\u001b[0;32m/usr/local/lib/python3.7/dist-packages/keras/utils/traceback_utils.py\u001b[0m in \u001b[0;36merror_handler\u001b[0;34m(*args, **kwargs)\u001b[0m\n\u001b[1;32m     62\u001b[0m     \u001b[0mfiltered_tb\u001b[0m \u001b[0;34m=\u001b[0m \u001b[0;32mNone\u001b[0m\u001b[0;34m\u001b[0m\u001b[0;34m\u001b[0m\u001b[0m\n\u001b[1;32m     63\u001b[0m     \u001b[0;32mtry\u001b[0m\u001b[0;34m:\u001b[0m\u001b[0;34m\u001b[0m\u001b[0;34m\u001b[0m\u001b[0m\n\u001b[0;32m---> 64\u001b[0;31m       \u001b[0;32mreturn\u001b[0m \u001b[0mfn\u001b[0m\u001b[0;34m(\u001b[0m\u001b[0;34m*\u001b[0m\u001b[0margs\u001b[0m\u001b[0;34m,\u001b[0m \u001b[0;34m**\u001b[0m\u001b[0mkwargs\u001b[0m\u001b[0;34m)\u001b[0m\u001b[0;34m\u001b[0m\u001b[0;34m\u001b[0m\u001b[0m\n\u001b[0m\u001b[1;32m     65\u001b[0m     \u001b[0;32mexcept\u001b[0m \u001b[0mException\u001b[0m \u001b[0;32mas\u001b[0m \u001b[0me\u001b[0m\u001b[0;34m:\u001b[0m  \u001b[0;31m# pylint: disable=broad-except\u001b[0m\u001b[0;34m\u001b[0m\u001b[0;34m\u001b[0m\u001b[0m\n\u001b[1;32m     66\u001b[0m       \u001b[0mfiltered_tb\u001b[0m \u001b[0;34m=\u001b[0m \u001b[0m_process_traceback_frames\u001b[0m\u001b[0;34m(\u001b[0m\u001b[0me\u001b[0m\u001b[0;34m.\u001b[0m\u001b[0m__traceback__\u001b[0m\u001b[0;34m)\u001b[0m\u001b[0;34m\u001b[0m\u001b[0;34m\u001b[0m\u001b[0m\n",
            "\u001b[0;32m/usr/local/lib/python3.7/dist-packages/keras/engine/training.py\u001b[0m in \u001b[0;36mfit\u001b[0;34m(self, x, y, batch_size, epochs, verbose, callbacks, validation_split, validation_data, shuffle, class_weight, sample_weight, initial_epoch, steps_per_epoch, validation_steps, validation_batch_size, validation_freq, max_queue_size, workers, use_multiprocessing)\u001b[0m\n\u001b[1;32m   1382\u001b[0m                 _r=1):\n\u001b[1;32m   1383\u001b[0m               \u001b[0mcallbacks\u001b[0m\u001b[0;34m.\u001b[0m\u001b[0mon_train_batch_begin\u001b[0m\u001b[0;34m(\u001b[0m\u001b[0mstep\u001b[0m\u001b[0;34m)\u001b[0m\u001b[0;34m\u001b[0m\u001b[0;34m\u001b[0m\u001b[0m\n\u001b[0;32m-> 1384\u001b[0;31m               \u001b[0mtmp_logs\u001b[0m \u001b[0;34m=\u001b[0m \u001b[0mself\u001b[0m\u001b[0;34m.\u001b[0m\u001b[0mtrain_function\u001b[0m\u001b[0;34m(\u001b[0m\u001b[0miterator\u001b[0m\u001b[0;34m)\u001b[0m\u001b[0;34m\u001b[0m\u001b[0;34m\u001b[0m\u001b[0m\n\u001b[0m\u001b[1;32m   1385\u001b[0m               \u001b[0;32mif\u001b[0m \u001b[0mdata_handler\u001b[0m\u001b[0;34m.\u001b[0m\u001b[0mshould_sync\u001b[0m\u001b[0;34m:\u001b[0m\u001b[0;34m\u001b[0m\u001b[0;34m\u001b[0m\u001b[0m\n\u001b[1;32m   1386\u001b[0m                 \u001b[0mcontext\u001b[0m\u001b[0;34m.\u001b[0m\u001b[0masync_wait\u001b[0m\u001b[0;34m(\u001b[0m\u001b[0;34m)\u001b[0m\u001b[0;34m\u001b[0m\u001b[0;34m\u001b[0m\u001b[0m\n",
            "\u001b[0;32m/usr/local/lib/python3.7/dist-packages/tensorflow/python/util/traceback_utils.py\u001b[0m in \u001b[0;36merror_handler\u001b[0;34m(*args, **kwargs)\u001b[0m\n\u001b[1;32m    148\u001b[0m     \u001b[0mfiltered_tb\u001b[0m \u001b[0;34m=\u001b[0m \u001b[0;32mNone\u001b[0m\u001b[0;34m\u001b[0m\u001b[0;34m\u001b[0m\u001b[0m\n\u001b[1;32m    149\u001b[0m     \u001b[0;32mtry\u001b[0m\u001b[0;34m:\u001b[0m\u001b[0;34m\u001b[0m\u001b[0;34m\u001b[0m\u001b[0m\n\u001b[0;32m--> 150\u001b[0;31m       \u001b[0;32mreturn\u001b[0m \u001b[0mfn\u001b[0m\u001b[0;34m(\u001b[0m\u001b[0;34m*\u001b[0m\u001b[0margs\u001b[0m\u001b[0;34m,\u001b[0m \u001b[0;34m**\u001b[0m\u001b[0mkwargs\u001b[0m\u001b[0;34m)\u001b[0m\u001b[0;34m\u001b[0m\u001b[0;34m\u001b[0m\u001b[0m\n\u001b[0m\u001b[1;32m    151\u001b[0m     \u001b[0;32mexcept\u001b[0m \u001b[0mException\u001b[0m \u001b[0;32mas\u001b[0m \u001b[0me\u001b[0m\u001b[0;34m:\u001b[0m\u001b[0;34m\u001b[0m\u001b[0;34m\u001b[0m\u001b[0m\n\u001b[1;32m    152\u001b[0m       \u001b[0mfiltered_tb\u001b[0m \u001b[0;34m=\u001b[0m \u001b[0m_process_traceback_frames\u001b[0m\u001b[0;34m(\u001b[0m\u001b[0me\u001b[0m\u001b[0;34m.\u001b[0m\u001b[0m__traceback__\u001b[0m\u001b[0;34m)\u001b[0m\u001b[0;34m\u001b[0m\u001b[0;34m\u001b[0m\u001b[0m\n",
            "\u001b[0;32m/usr/local/lib/python3.7/dist-packages/tensorflow/python/eager/def_function.py\u001b[0m in \u001b[0;36m__call__\u001b[0;34m(self, *args, **kwds)\u001b[0m\n\u001b[1;32m    913\u001b[0m \u001b[0;34m\u001b[0m\u001b[0m\n\u001b[1;32m    914\u001b[0m       \u001b[0;32mwith\u001b[0m \u001b[0mOptionalXlaContext\u001b[0m\u001b[0;34m(\u001b[0m\u001b[0mself\u001b[0m\u001b[0;34m.\u001b[0m\u001b[0m_jit_compile\u001b[0m\u001b[0;34m)\u001b[0m\u001b[0;34m:\u001b[0m\u001b[0;34m\u001b[0m\u001b[0;34m\u001b[0m\u001b[0m\n\u001b[0;32m--> 915\u001b[0;31m         \u001b[0mresult\u001b[0m \u001b[0;34m=\u001b[0m \u001b[0mself\u001b[0m\u001b[0;34m.\u001b[0m\u001b[0m_call\u001b[0m\u001b[0;34m(\u001b[0m\u001b[0;34m*\u001b[0m\u001b[0margs\u001b[0m\u001b[0;34m,\u001b[0m \u001b[0;34m**\u001b[0m\u001b[0mkwds\u001b[0m\u001b[0;34m)\u001b[0m\u001b[0;34m\u001b[0m\u001b[0;34m\u001b[0m\u001b[0m\n\u001b[0m\u001b[1;32m    916\u001b[0m \u001b[0;34m\u001b[0m\u001b[0m\n\u001b[1;32m    917\u001b[0m       \u001b[0mnew_tracing_count\u001b[0m \u001b[0;34m=\u001b[0m \u001b[0mself\u001b[0m\u001b[0;34m.\u001b[0m\u001b[0mexperimental_get_tracing_count\u001b[0m\u001b[0;34m(\u001b[0m\u001b[0;34m)\u001b[0m\u001b[0;34m\u001b[0m\u001b[0;34m\u001b[0m\u001b[0m\n",
            "\u001b[0;32m/usr/local/lib/python3.7/dist-packages/tensorflow/python/eager/def_function.py\u001b[0m in \u001b[0;36m_call\u001b[0;34m(self, *args, **kwds)\u001b[0m\n\u001b[1;32m    945\u001b[0m       \u001b[0;31m# In this case we have created variables on the first call, so we run the\u001b[0m\u001b[0;34m\u001b[0m\u001b[0;34m\u001b[0m\u001b[0;34m\u001b[0m\u001b[0m\n\u001b[1;32m    946\u001b[0m       \u001b[0;31m# defunned version which is guaranteed to never create variables.\u001b[0m\u001b[0;34m\u001b[0m\u001b[0;34m\u001b[0m\u001b[0;34m\u001b[0m\u001b[0m\n\u001b[0;32m--> 947\u001b[0;31m       \u001b[0;32mreturn\u001b[0m \u001b[0mself\u001b[0m\u001b[0;34m.\u001b[0m\u001b[0m_stateless_fn\u001b[0m\u001b[0;34m(\u001b[0m\u001b[0;34m*\u001b[0m\u001b[0margs\u001b[0m\u001b[0;34m,\u001b[0m \u001b[0;34m**\u001b[0m\u001b[0mkwds\u001b[0m\u001b[0;34m)\u001b[0m  \u001b[0;31m# pylint: disable=not-callable\u001b[0m\u001b[0;34m\u001b[0m\u001b[0;34m\u001b[0m\u001b[0m\n\u001b[0m\u001b[1;32m    948\u001b[0m     \u001b[0;32melif\u001b[0m \u001b[0mself\u001b[0m\u001b[0;34m.\u001b[0m\u001b[0m_stateful_fn\u001b[0m \u001b[0;32mis\u001b[0m \u001b[0;32mnot\u001b[0m \u001b[0;32mNone\u001b[0m\u001b[0;34m:\u001b[0m\u001b[0;34m\u001b[0m\u001b[0;34m\u001b[0m\u001b[0m\n\u001b[1;32m    949\u001b[0m       \u001b[0;31m# Release the lock early so that multiple threads can perform the call\u001b[0m\u001b[0;34m\u001b[0m\u001b[0;34m\u001b[0m\u001b[0;34m\u001b[0m\u001b[0m\n",
            "\u001b[0;32m/usr/local/lib/python3.7/dist-packages/tensorflow/python/eager/function.py\u001b[0m in \u001b[0;36m__call__\u001b[0;34m(self, *args, **kwargs)\u001b[0m\n\u001b[1;32m   2955\u001b[0m        filtered_flat_args) = self._maybe_define_function(args, kwargs)\n\u001b[1;32m   2956\u001b[0m     return graph_function._call_flat(\n\u001b[0;32m-> 2957\u001b[0;31m         filtered_flat_args, captured_inputs=graph_function.captured_inputs)  # pylint: disable=protected-access\n\u001b[0m\u001b[1;32m   2958\u001b[0m \u001b[0;34m\u001b[0m\u001b[0m\n\u001b[1;32m   2959\u001b[0m   \u001b[0;34m@\u001b[0m\u001b[0mproperty\u001b[0m\u001b[0;34m\u001b[0m\u001b[0;34m\u001b[0m\u001b[0m\n",
            "\u001b[0;32m/usr/local/lib/python3.7/dist-packages/tensorflow/python/eager/function.py\u001b[0m in \u001b[0;36m_call_flat\u001b[0;34m(self, args, captured_inputs, cancellation_manager)\u001b[0m\n\u001b[1;32m   1852\u001b[0m       \u001b[0;31m# No tape is watching; skip to running the function.\u001b[0m\u001b[0;34m\u001b[0m\u001b[0;34m\u001b[0m\u001b[0;34m\u001b[0m\u001b[0m\n\u001b[1;32m   1853\u001b[0m       return self._build_call_outputs(self._inference_function.call(\n\u001b[0;32m-> 1854\u001b[0;31m           ctx, args, cancellation_manager=cancellation_manager))\n\u001b[0m\u001b[1;32m   1855\u001b[0m     forward_backward = self._select_forward_and_backward_functions(\n\u001b[1;32m   1856\u001b[0m         \u001b[0margs\u001b[0m\u001b[0;34m,\u001b[0m\u001b[0;34m\u001b[0m\u001b[0;34m\u001b[0m\u001b[0m\n",
            "\u001b[0;32m/usr/local/lib/python3.7/dist-packages/tensorflow/python/eager/function.py\u001b[0m in \u001b[0;36mcall\u001b[0;34m(self, ctx, args, cancellation_manager)\u001b[0m\n\u001b[1;32m    502\u001b[0m               \u001b[0minputs\u001b[0m\u001b[0;34m=\u001b[0m\u001b[0margs\u001b[0m\u001b[0;34m,\u001b[0m\u001b[0;34m\u001b[0m\u001b[0;34m\u001b[0m\u001b[0m\n\u001b[1;32m    503\u001b[0m               \u001b[0mattrs\u001b[0m\u001b[0;34m=\u001b[0m\u001b[0mattrs\u001b[0m\u001b[0;34m,\u001b[0m\u001b[0;34m\u001b[0m\u001b[0;34m\u001b[0m\u001b[0m\n\u001b[0;32m--> 504\u001b[0;31m               ctx=ctx)\n\u001b[0m\u001b[1;32m    505\u001b[0m         \u001b[0;32melse\u001b[0m\u001b[0;34m:\u001b[0m\u001b[0;34m\u001b[0m\u001b[0;34m\u001b[0m\u001b[0m\n\u001b[1;32m    506\u001b[0m           outputs = execute.execute_with_cancellation(\n",
            "\u001b[0;32m/usr/local/lib/python3.7/dist-packages/tensorflow/python/eager/execute.py\u001b[0m in \u001b[0;36mquick_execute\u001b[0;34m(op_name, num_outputs, inputs, attrs, ctx, name)\u001b[0m\n\u001b[1;32m     53\u001b[0m     \u001b[0mctx\u001b[0m\u001b[0;34m.\u001b[0m\u001b[0mensure_initialized\u001b[0m\u001b[0;34m(\u001b[0m\u001b[0;34m)\u001b[0m\u001b[0;34m\u001b[0m\u001b[0;34m\u001b[0m\u001b[0m\n\u001b[1;32m     54\u001b[0m     tensors = pywrap_tfe.TFE_Py_Execute(ctx._handle, device_name, op_name,\n\u001b[0;32m---> 55\u001b[0;31m                                         inputs, attrs, num_outputs)\n\u001b[0m\u001b[1;32m     56\u001b[0m   \u001b[0;32mexcept\u001b[0m \u001b[0mcore\u001b[0m\u001b[0;34m.\u001b[0m\u001b[0m_NotOkStatusException\u001b[0m \u001b[0;32mas\u001b[0m \u001b[0me\u001b[0m\u001b[0;34m:\u001b[0m\u001b[0;34m\u001b[0m\u001b[0;34m\u001b[0m\u001b[0m\n\u001b[1;32m     57\u001b[0m     \u001b[0;32mif\u001b[0m \u001b[0mname\u001b[0m \u001b[0;32mis\u001b[0m \u001b[0;32mnot\u001b[0m \u001b[0;32mNone\u001b[0m\u001b[0;34m:\u001b[0m\u001b[0;34m\u001b[0m\u001b[0;34m\u001b[0m\u001b[0m\n",
            "\u001b[0;31mKeyboardInterrupt\u001b[0m: "
          ]
        }
      ],
      "source": [
        "history = model.fit(X_train, y_train,\n",
        "                    batch_size=512,\n",
        "                    epochs=3,\n",
        "                    validation_split=0.25,\n",
        "                    verbose=1)\n",
        "                    # callbacks=callbacks)"
      ]
    },
    {
      "cell_type": "code",
      "execution_count": null,
      "metadata": {
        "id": "TLIdWQf0mfPI"
      },
      "outputs": [],
      "source": [
        "score = model.evaluate(X_test, y_test, batch_size=512)\n",
        "print()\n",
        "print(\"ACCURACY:\",score[1])\n",
        "print(\"LOSS:\",score[0])"
      ]
    },
    {
      "cell_type": "code",
      "execution_count": null,
      "metadata": {
        "id": "m1X2CZneNuw8"
      },
      "outputs": [],
      "source": [
        "prediction= model.predict(X_test[200:210])\n",
        "prediction"
      ]
    },
    {
      "cell_type": "code",
      "execution_count": null,
      "metadata": {
        "id": "EO3ZJQ1tQueZ"
      },
      "outputs": [],
      "source": [
        "y_test[200:210]"
      ]
    },
    {
      "cell_type": "code",
      "execution_count": null,
      "metadata": {
        "id": "L67gPhhsloOg"
      },
      "outputs": [],
      "source": [
        "# sequences = tokenizer.texts_to_sequences([\"great product\"])\n",
        "# text = pad_sequences(sequences, maxlen=MAX_LEN, padding='post')\n",
        "# print(text)"
      ]
    },
    {
      "cell_type": "code",
      "execution_count": null,
      "metadata": {
        "id": "4DpsJHh8lue4"
      },
      "outputs": [],
      "source": [
        "def model_pred(review):\n",
        "  pred_value=model.predict(review)\n",
        "  print(pred_value)\n",
        "  if pred_value > 0.55:\n",
        "    return (\"Review indicates positive sentiment\")\n",
        "  else:\n",
        "    return (\"Review indicates negative sentiment\")"
      ]
    },
    {
      "cell_type": "code",
      "execution_count": null,
      "metadata": {
        "id": "Vz9fWaLV7gBj"
      },
      "outputs": [],
      "source": [
        "def clean_tokenise_input_webapp(review):\n",
        "  \n",
        "  review= clean_text(review)\n",
        "  review= remove_stopwords(review)\n",
        "  print (review)\n",
        "  sequences = tokenizer.texts_to_sequences([review])\n",
        "  padded_text = pad_sequences(sequences, maxlen=MAX_LEN, padding='post')\n",
        "  print(padded_text)\n",
        "  return padded_text\n",
        "\n",
        "sample=clean_tokenise_input_webapp('This product works just half the time')\n",
        "sentiment=model_pred(sample)\n",
        "print(sentiment)"
      ]
    },
    {
      "cell_type": "code",
      "execution_count": null,
      "metadata": {
        "id": "cRzfEEQC7mzu"
      },
      "outputs": [],
      "source": [
        "\n",
        "\n",
        "\n",
        "# prediction=model_pred(sample)  \n"
      ]
    },
    {
      "cell_type": "code",
      "execution_count": null,
      "metadata": {
        "colab": {
          "base_uri": "https://localhost:8080/",
          "height": 1000
        },
        "id": "yC5JZDnfm49n",
        "outputId": "12cfd3f2-0f88-48b5-acf0-e0abad541ac1"
      },
      "outputs": [
        {
          "metadata": {
            "tags": null
          },
          "name": "stdout",
          "output_type": "stream",
          "text": [
            "Connecting to wss://anvil.works/uplink\n",
            "Anvil websocket open\n",
            "Connected to \"Default environment\" as SERVER\n",
            "Hello from your own machine: ----Good book----\n",
            "good book\n",
            "[[   4 1703    0    0    0    0    0    0    0    0    0    0    0    0\n",
            "     0    0    0    0    0    0    0    0    0    0    0    0    0    0\n",
            "     0    0    0    0    0    0    0    0    0    0    0    0    0    0\n",
            "     0    0    0    0    0    0    0    0    0    0    0    0    0    0\n",
            "     0    0    0    0    0    0    0    0    0    0    0    0    0    0\n",
            "     0    0    0    0    0    0    0    0    0    0    0    0    0    0\n",
            "     0    0    0    0    0    0    0    0    0    0    0    0    0    0\n",
            "     0    0]]\n",
            "[[0.95972896]]\n",
            "Hello from your own machine: ----not that great----\n",
            "not great\n",
            "[[1 8 0 0 0 0 0 0 0 0 0 0 0 0 0 0 0 0 0 0 0 0 0 0 0 0 0 0 0 0 0 0 0 0 0 0\n",
            "  0 0 0 0 0 0 0 0 0 0 0 0 0 0 0 0 0 0 0 0 0 0 0 0 0 0 0 0 0 0 0 0 0 0 0 0\n",
            "  0 0 0 0 0 0 0 0 0 0 0 0 0 0 0 0 0 0 0 0 0 0 0 0 0 0 0 0]]\n",
            "[[0.04379806]]\n",
            "Hello from your own machine: ----The book is decent but very overpriced----\n",
            "book decent overpriced\n",
            "[[1703  597  836    0    0    0    0    0    0    0    0    0    0    0\n",
            "     0    0    0    0    0    0    0    0    0    0    0    0    0    0\n",
            "     0    0    0    0    0    0    0    0    0    0    0    0    0    0\n",
            "     0    0    0    0    0    0    0    0    0    0    0    0    0    0\n",
            "     0    0    0    0    0    0    0    0    0    0    0    0    0    0\n",
            "     0    0    0    0    0    0    0    0    0    0    0    0    0    0\n",
            "     0    0    0    0    0    0    0    0    0    0    0    0    0    0\n",
            "     0    0]]\n",
            "[[0.36800754]]\n",
            "Hello from your own machine: ----The book is decent by overpriced----\n",
            "book decent overpriced\n",
            "[[1703  597  836    0    0    0    0    0    0    0    0    0    0    0\n",
            "     0    0    0    0    0    0    0    0    0    0    0    0    0    0\n",
            "     0    0    0    0    0    0    0    0    0    0    0    0    0    0\n",
            "     0    0    0    0    0    0    0    0    0    0    0    0    0    0\n",
            "     0    0    0    0    0    0    0    0    0    0    0    0    0    0\n",
            "     0    0    0    0    0    0    0    0    0    0    0    0    0    0\n",
            "     0    0    0    0    0    0    0    0    0    0    0    0    0    0\n",
            "     0    0]]\n",
            "[[0.36800754]]\n",
            "Hello from your own machine: ----The book was interesting initially but a bit lengthy. I would recommend it.----\n",
            "book interesting initially bit lengthy recommend\n",
            "[[ 1703  1148  1370    80 11172    66     0     0     0     0     0     0\n",
            "      0     0     0     0     0     0     0     0     0     0     0     0\n",
            "      0     0     0     0     0     0     0     0     0     0     0     0\n",
            "      0     0     0     0     0     0     0     0     0     0     0     0\n",
            "      0     0     0     0     0     0     0     0     0     0     0     0\n",
            "      0     0     0     0     0     0     0     0     0     0     0     0\n",
            "      0     0     0     0     0     0     0     0     0     0     0     0\n",
            "      0     0     0     0     0     0     0     0     0     0     0     0\n",
            "      0     0     0     0]]\n",
            "[[0.95153815]]\n",
            "Hello from your own machine: ----The book was a bit lengthy. I would recommend it.----\n",
            "book bit lengthy recommend\n",
            "[[ 1703    80 11172    66     0     0     0     0     0     0     0     0\n",
            "      0     0     0     0     0     0     0     0     0     0     0     0\n",
            "      0     0     0     0     0     0     0     0     0     0     0     0\n",
            "      0     0     0     0     0     0     0     0     0     0     0     0\n",
            "      0     0     0     0     0     0     0     0     0     0     0     0\n",
            "      0     0     0     0     0     0     0     0     0     0     0     0\n",
            "      0     0     0     0     0     0     0     0     0     0     0     0\n",
            "      0     0     0     0     0     0     0     0     0     0     0     0\n",
            "      0     0     0     0]]\n",
            "[[0.91864586]]\n",
            "Hello from your own machine: ----The book was interesting in the beginning but dragged on in the end. I would not recommend it.----\n",
            "book interesting beginning dragged end not recommend\n",
            "[[ 1703  1148  1637 15779   335     1    66     0     0     0     0     0\n",
            "      0     0     0     0     0     0     0     0     0     0     0     0\n",
            "      0     0     0     0     0     0     0     0     0     0     0     0\n",
            "      0     0     0     0     0     0     0     0     0     0     0     0\n",
            "      0     0     0     0     0     0     0     0     0     0     0     0\n",
            "      0     0     0     0     0     0     0     0     0     0     0     0\n",
            "      0     0     0     0     0     0     0     0     0     0     0     0\n",
            "      0     0     0     0     0     0     0     0     0     0     0     0\n",
            "      0     0     0     0]]\n",
            "[[0.05602466]]\n",
            "Hello from your own machine: ----The book was interesting in the beginning but dragged on in the end. I would recommend it.----\n",
            "book interesting beginning dragged end recommend\n",
            "[[ 1703  1148  1637 15779   335    66     0     0     0     0     0     0\n",
            "      0     0     0     0     0     0     0     0     0     0     0     0\n",
            "      0     0     0     0     0     0     0     0     0     0     0     0\n",
            "      0     0     0     0     0     0     0     0     0     0     0     0\n",
            "      0     0     0     0     0     0     0     0     0     0     0     0\n",
            "      0     0     0     0     0     0     0     0     0     0     0     0\n",
            "      0     0     0     0     0     0     0     0     0     0     0     0\n",
            "      0     0     0     0     0     0     0     0     0     0     0     0\n",
            "      0     0     0     0]]\n",
            "[[0.74621475]]\n",
            "Hello from your own machine: ----The book was quite boring in the beginning but dragged on in the end. I would recommend it.----\n",
            "book quite boring beginning dragged end recommend\n",
            "[[ 1703   164  2119  1637 15779   335    66     0     0     0     0     0\n",
            "      0     0     0     0     0     0     0     0     0     0     0     0\n",
            "      0     0     0     0     0     0     0     0     0     0     0     0\n",
            "      0     0     0     0     0     0     0     0     0     0     0     0\n",
            "      0     0     0     0     0     0     0     0     0     0     0     0\n",
            "      0     0     0     0     0     0     0     0     0     0     0     0\n",
            "      0     0     0     0     0     0     0     0     0     0     0     0\n",
            "      0     0     0     0     0     0     0     0     0     0     0     0\n",
            "      0     0     0     0]]\n",
            "[[0.47977188]]\n",
            "Hello from your own machine: ----The book was interesting in the beginning but the ending was boring. I would recommend it.----\n",
            "book interesting beginning ending boring recommend\n",
            "[[1703 1148 1637 6763 2119   66    0    0    0    0    0    0    0    0\n",
            "     0    0    0    0    0    0    0    0    0    0    0    0    0    0\n",
            "     0    0    0    0    0    0    0    0    0    0    0    0    0    0\n",
            "     0    0    0    0    0    0    0    0    0    0    0    0    0    0\n",
            "     0    0    0    0    0    0    0    0    0    0    0    0    0    0\n",
            "     0    0    0    0    0    0    0    0    0    0    0    0    0    0\n",
            "     0    0    0    0    0    0    0    0    0    0    0    0    0    0\n",
            "     0    0]]\n",
            "[[0.89927286]]\n",
            "Hello from your own machine: ----The book was interesting in the beginning but the ending was boring. I would not recommend it.----\n",
            "book interesting beginning ending boring not recommend\n",
            "[[1703 1148 1637 6763 2119    1   66    0    0    0    0    0    0    0\n",
            "     0    0    0    0    0    0    0    0    0    0    0    0    0    0\n",
            "     0    0    0    0    0    0    0    0    0    0    0    0    0    0\n",
            "     0    0    0    0    0    0    0    0    0    0    0    0    0    0\n",
            "     0    0    0    0    0    0    0    0    0    0    0    0    0    0\n",
            "     0    0    0    0    0    0    0    0    0    0    0    0    0    0\n",
            "     0    0    0    0    0    0    0    0    0    0    0    0    0    0\n",
            "     0    0]]\n",
            "[[0.0269241]]\n",
            "Hello from your own machine: ----The book was interesting in the beginning but the ending was interesting. I would not recommend it.----\n",
            "book interesting beginning ending interesting not recommend\n",
            "[[1703 1148 1637 6763 1148    1   66    0    0    0    0    0    0    0\n",
            "     0    0    0    0    0    0    0    0    0    0    0    0    0    0\n",
            "     0    0    0    0    0    0    0    0    0    0    0    0    0    0\n",
            "     0    0    0    0    0    0    0    0    0    0    0    0    0    0\n",
            "     0    0    0    0    0    0    0    0    0    0    0    0    0    0\n",
            "     0    0    0    0    0    0    0    0    0    0    0    0    0    0\n",
            "     0    0    0    0    0    0    0    0    0    0    0    0    0    0\n",
            "     0    0]]\n",
            "[[0.3612459]]\n",
            "Hello from your own machine: ----The book was interesting in the beginning but the ending was horrible. I would recommend it.----\n",
            "book interesting beginning ending horrible recommend\n",
            "[[1703 1148 1637 6763  238   66    0    0    0    0    0    0    0    0\n",
            "     0    0    0    0    0    0    0    0    0    0    0    0    0    0\n",
            "     0    0    0    0    0    0    0    0    0    0    0    0    0    0\n",
            "     0    0    0    0    0    0    0    0    0    0    0    0    0    0\n",
            "     0    0    0    0    0    0    0    0    0    0    0    0    0    0\n",
            "     0    0    0    0    0    0    0    0    0    0    0    0    0    0\n",
            "     0    0    0    0    0    0    0    0    0    0    0    0    0    0\n",
            "     0    0]]\n",
            "[[0.01819356]]\n",
            "Hello from your own machine: ----The book was interesting in the beginning but the ending was horrible. Still I would recommend it.----\n",
            "book interesting beginning ending horrible recommend\n",
            "[[1703 1148 1637 6763  238   66    0    0    0    0    0    0    0    0\n",
            "     0    0    0    0    0    0    0    0    0    0    0    0    0    0\n",
            "     0    0    0    0    0    0    0    0    0    0    0    0    0    0\n",
            "     0    0    0    0    0    0    0    0    0    0    0    0    0    0\n",
            "     0    0    0    0    0    0    0    0    0    0    0    0    0    0\n",
            "     0    0    0    0    0    0    0    0    0    0    0    0    0    0\n",
            "     0    0    0    0    0    0    0    0    0    0    0    0    0    0\n",
            "     0    0]]\n",
            "[[0.01819356]]\n",
            "Hello from your own machine: ----The book was interesting in the beginning but the ending was predictable.----\n",
            "book interesting beginning ending predictable\n",
            "[[ 1703  1148  1637  6763 16070     0     0     0     0     0     0     0\n",
            "      0     0     0     0     0     0     0     0     0     0     0     0\n",
            "      0     0     0     0     0     0     0     0     0     0     0     0\n",
            "      0     0     0     0     0     0     0     0     0     0     0     0\n",
            "      0     0     0     0     0     0     0     0     0     0     0     0\n",
            "      0     0     0     0     0     0     0     0     0     0     0     0\n",
            "      0     0     0     0     0     0     0     0     0     0     0     0\n",
            "      0     0     0     0     0     0     0     0     0     0     0     0\n",
            "      0     0     0     0]]\n",
            "[[0.7460204]]\n",
            "Hello from your own machine: ----The book was interesting in the beginning but the ending was not that great.----\n",
            "book interesting beginning ending not great\n",
            "[[1703 1148 1637 6763    1    8    0    0    0    0    0    0    0    0\n",
            "     0    0    0    0    0    0    0    0    0    0    0    0    0    0\n",
            "     0    0    0    0    0    0    0    0    0    0    0    0    0    0\n",
            "     0    0    0    0    0    0    0    0    0    0    0    0    0    0\n",
            "     0    0    0    0    0    0    0    0    0    0    0    0    0    0\n",
            "     0    0    0    0    0    0    0    0    0    0    0    0    0    0\n",
            "     0    0    0    0    0    0    0    0    0    0    0    0    0    0\n",
            "     0    0]]\n",
            "[[0.3282846]]\n",
            "Hello from your own machine: ----The book was interesting in the beginning but ending was like GOT----\n",
            "book interesting beginning ending like got\n",
            "[[1703 1148 1637 6763    2   44    0    0    0    0    0    0    0    0\n",
            "     0    0    0    0    0    0    0    0    0    0    0    0    0    0\n",
            "     0    0    0    0    0    0    0    0    0    0    0    0    0    0\n",
            "     0    0    0    0    0    0    0    0    0    0    0    0    0    0\n",
            "     0    0    0    0    0    0    0    0    0    0    0    0    0    0\n",
            "     0    0    0    0    0    0    0    0    0    0    0    0    0    0\n",
            "     0    0    0    0    0    0    0    0    0    0    0    0    0    0\n",
            "     0    0]]\n",
            "[[0.7873392]]\n",
            "Hello from your own machine: ----The book was interesting in the beginning but ending was like Game of Thrones----\n",
            "book interesting beginning ending like game thrones\n",
            "[[1703 1148 1637 6763    2 3020    0    0    0    0    0    0    0    0\n",
            "     0    0    0    0    0    0    0    0    0    0    0    0    0    0\n",
            "     0    0    0    0    0    0    0    0    0    0    0    0    0    0\n",
            "     0    0    0    0    0    0    0    0    0    0    0    0    0    0\n",
            "     0    0    0    0    0    0    0    0    0    0    0    0    0    0\n",
            "     0    0    0    0    0    0    0    0    0    0    0    0    0    0\n",
            "     0    0    0    0    0    0    0    0    0    0    0    0    0    0\n",
            "     0    0]]\n",
            "[[0.78833354]]\n",
            "Hello from your own machine: ----The book was basic----\n",
            "book basic\n",
            "[[1703 1999    0    0    0    0    0    0    0    0    0    0    0    0\n",
            "     0    0    0    0    0    0    0    0    0    0    0    0    0    0\n",
            "     0    0    0    0    0    0    0    0    0    0    0    0    0    0\n",
            "     0    0    0    0    0    0    0    0    0    0    0    0    0    0\n",
            "     0    0    0    0    0    0    0    0    0    0    0    0    0    0\n",
            "     0    0    0    0    0    0    0    0    0    0    0    0    0    0\n",
            "     0    0    0    0    0    0    0    0    0    0    0    0    0    0\n",
            "     0    0]]\n",
            "[[0.6065637]]\n",
            "Hello from your own machine: ----The book was basic----\n",
            "book basic\n",
            "[[1703 1999    0    0    0    0    0    0    0    0    0    0    0    0\n",
            "     0    0    0    0    0    0    0    0    0    0    0    0    0    0\n",
            "     0    0    0    0    0    0    0    0    0    0    0    0    0    0\n",
            "     0    0    0    0    0    0    0    0    0    0    0    0    0    0\n",
            "     0    0    0    0    0    0    0    0    0    0    0    0    0    0\n",
            "     0    0    0    0    0    0    0    0    0    0    0    0    0    0\n",
            "     0    0    0    0    0    0    0    0    0    0    0    0    0    0\n",
            "     0    0]]\n",
            "[[0.6065637]]\n",
            "Hello from your own machine: ----The concepts in the book was quite trivial----\n",
            "concepts book quite trivial\n",
            "[[11737  1703   164 16224     0     0     0     0     0     0     0     0\n",
            "      0     0     0     0     0     0     0     0     0     0     0     0\n",
            "      0     0     0     0     0     0     0     0     0     0     0     0\n",
            "      0     0     0     0     0     0     0     0     0     0     0     0\n",
            "      0     0     0     0     0     0     0     0     0     0     0     0\n",
            "      0     0     0     0     0     0     0     0     0     0     0     0\n",
            "      0     0     0     0     0     0     0     0     0     0     0     0\n",
            "      0     0     0     0     0     0     0     0     0     0     0     0\n",
            "      0     0     0     0]]\n",
            "[[0.6477825]]\n",
            "Hello from your own machine: ----The glassware was broken----\n",
            "glassware broken\n",
            "[[466   0   0   0   0   0   0   0   0   0   0   0   0   0   0   0   0   0\n",
            "    0   0   0   0   0   0   0   0   0   0   0   0   0   0   0   0   0   0\n",
            "    0   0   0   0   0   0   0   0   0   0   0   0   0   0   0   0   0   0\n",
            "    0   0   0   0   0   0   0   0   0   0   0   0   0   0   0   0   0   0\n",
            "    0   0   0   0   0   0   0   0   0   0   0   0   0   0   0   0   0   0\n",
            "    0   0   0   0   0   0   0   0   0   0]]\n",
            "[[0.03409616]]\n",
            "Hello from your own machine: ----The glasses were intact but one glass has minor scratches.----\n",
            "glasses intact glass minor scratches\n",
            "[[4129 2369  605 3146 8047    0    0    0    0    0    0    0    0    0\n",
            "     0    0    0    0    0    0    0    0    0    0    0    0    0    0\n",
            "     0    0    0    0    0    0    0    0    0    0    0    0    0    0\n",
            "     0    0    0    0    0    0    0    0    0    0    0    0    0    0\n",
            "     0    0    0    0    0    0    0    0    0    0    0    0    0    0\n",
            "     0    0    0    0    0    0    0    0    0    0    0    0    0    0\n",
            "     0    0    0    0    0    0    0    0    0    0    0    0    0    0\n",
            "     0    0]]\n",
            "[[0.29843423]]\n",
            "Hello from your own machine: ----The glasses were intact.----\n",
            "glasses intact\n",
            "[[4129 2369    0    0    0    0    0    0    0    0    0    0    0    0\n",
            "     0    0    0    0    0    0    0    0    0    0    0    0    0    0\n",
            "     0    0    0    0    0    0    0    0    0    0    0    0    0    0\n",
            "     0    0    0    0    0    0    0    0    0    0    0    0    0    0\n",
            "     0    0    0    0    0    0    0    0    0    0    0    0    0    0\n",
            "     0    0    0    0    0    0    0    0    0    0    0    0    0    0\n",
            "     0    0    0    0    0    0    0    0    0    0    0    0    0    0\n",
            "     0    0]]\n",
            "[[0.3902417]]\n",
            "Hello from your own machine: ----The glasses were intact but average quality.----\n",
            "glasses intact average quality\n",
            "[[4129 2369 1106   64    0    0    0    0    0    0    0    0    0    0\n",
            "     0    0    0    0    0    0    0    0    0    0    0    0    0    0\n",
            "     0    0    0    0    0    0    0    0    0    0    0    0    0    0\n",
            "     0    0    0    0    0    0    0    0    0    0    0    0    0    0\n",
            "     0    0    0    0    0    0    0    0    0    0    0    0    0    0\n",
            "     0    0    0    0    0    0    0    0    0    0    0    0    0    0\n",
            "     0    0    0    0    0    0    0    0    0    0    0    0    0    0\n",
            "     0    0]]\n",
            "[[0.43133366]]\n",
            "Hello from your own machine: ----The glasses were intact and average quality.----\n",
            "glasses intact average quality\n",
            "[[4129 2369 1106   64    0    0    0    0    0    0    0    0    0    0\n",
            "     0    0    0    0    0    0    0    0    0    0    0    0    0    0\n",
            "     0    0    0    0    0    0    0    0    0    0    0    0    0    0\n",
            "     0    0    0    0    0    0    0    0    0    0    0    0    0    0\n",
            "     0    0    0    0    0    0    0    0    0    0    0    0    0    0\n",
            "     0    0    0    0    0    0    0    0    0    0    0    0    0    0\n",
            "     0    0    0    0    0    0    0    0    0    0    0    0    0    0\n",
            "     0    0]]\n",
            "[[0.43133366]]\n",
            "Hello from your own machine: ----The glasses were intact and decent quality.----\n",
            "glasses intact decent quality\n",
            "[[4129 2369  597   64    0    0    0    0    0    0    0    0    0    0\n",
            "     0    0    0    0    0    0    0    0    0    0    0    0    0    0\n",
            "     0    0    0    0    0    0    0    0    0    0    0    0    0    0\n",
            "     0    0    0    0    0    0    0    0    0    0    0    0    0    0\n",
            "     0    0    0    0    0    0    0    0    0    0    0    0    0    0\n",
            "     0    0    0    0    0    0    0    0    0    0    0    0    0    0\n",
            "     0    0    0    0    0    0    0    0    0    0    0    0    0    0\n",
            "     0    0]]\n",
            "[[0.9048502]]\n",
            "Hello from your own machine: ----The television caught fire----\n",
            "television caught\n",
            "[[9192 1771    0    0    0    0    0    0    0    0    0    0    0    0\n",
            "     0    0    0    0    0    0    0    0    0    0    0    0    0    0\n",
            "     0    0    0    0    0    0    0    0    0    0    0    0    0    0\n",
            "     0    0    0    0    0    0    0    0    0    0    0    0    0    0\n",
            "     0    0    0    0    0    0    0    0    0    0    0    0    0    0\n",
            "     0    0    0    0    0    0    0    0    0    0    0    0    0    0\n",
            "     0    0    0    0    0    0    0    0    0    0    0    0    0    0\n",
            "     0    0]]\n",
            "[[0.623242]]\n",
            "Hello from your own machine: ----The television caught fire----\n",
            "television caught\n",
            "[[9192 1771    0    0    0    0    0    0    0    0    0    0    0    0\n",
            "     0    0    0    0    0    0    0    0    0    0    0    0    0    0\n",
            "     0    0    0    0    0    0    0    0    0    0    0    0    0    0\n",
            "     0    0    0    0    0    0    0    0    0    0    0    0    0    0\n",
            "     0    0    0    0    0    0    0    0    0    0    0    0    0    0\n",
            "     0    0    0    0    0    0    0    0    0    0    0    0    0    0\n",
            "     0    0    0    0    0    0    0    0    0    0    0    0    0    0\n",
            "     0    0]]\n",
            "[[0.623242]]\n",
            "Hello from your own machine: ----The television caught fire and burnt down my entire house.----\n",
            "television caught burnt entire house\n",
            "[[9192 1771  824  498  267    0    0    0    0    0    0    0    0    0\n",
            "     0    0    0    0    0    0    0    0    0    0    0    0    0    0\n",
            "     0    0    0    0    0    0    0    0    0    0    0    0    0    0\n",
            "     0    0    0    0    0    0    0    0    0    0    0    0    0    0\n",
            "     0    0    0    0    0    0    0    0    0    0    0    0    0    0\n",
            "     0    0    0    0    0    0    0    0    0    0    0    0    0    0\n",
            "     0    0    0    0    0    0    0    0    0    0    0    0    0    0\n",
            "     0    0]]\n",
            "[[0.01298478]]\n",
            "Hello from your own machine: ----The television caught fire and burnt down.----\n",
            "television caught burnt\n",
            "[[9192 1771  824    0    0    0    0    0    0    0    0    0    0    0\n",
            "     0    0    0    0    0    0    0    0    0    0    0    0    0    0\n",
            "     0    0    0    0    0    0    0    0    0    0    0    0    0    0\n",
            "     0    0    0    0    0    0    0    0    0    0    0    0    0    0\n",
            "     0    0    0    0    0    0    0    0    0    0    0    0    0    0\n",
            "     0    0    0    0    0    0    0    0    0    0    0    0    0    0\n",
            "     0    0    0    0    0    0    0    0    0    0    0    0    0    0\n",
            "     0    0]]\n",
            "[[0.0141876]]\n",
            "Hello from your own machine: ----The television burst into flames.----\n",
            "television burst flames\n",
            "[[9192 2987    0    0    0    0    0    0    0    0    0    0    0    0\n",
            "     0    0    0    0    0    0    0    0    0    0    0    0    0    0\n",
            "     0    0    0    0    0    0    0    0    0    0    0    0    0    0\n",
            "     0    0    0    0    0    0    0    0    0    0    0    0    0    0\n",
            "     0    0    0    0    0    0    0    0    0    0    0    0    0    0\n",
            "     0    0    0    0    0    0    0    0    0    0    0    0    0    0\n",
            "     0    0    0    0    0    0    0    0    0    0    0    0    0    0\n",
            "     0    0]]\n",
            "[[0.48684907]]\n",
            "Hello from your own machine: ----The shoes didn't have laces.----\n",
            "shoes didnt laces\n",
            "[[ 5080    51 12038     0     0     0     0     0     0     0     0     0\n",
            "      0     0     0     0     0     0     0     0     0     0     0     0\n",
            "      0     0     0     0     0     0     0     0     0     0     0     0\n",
            "      0     0     0     0     0     0     0     0     0     0     0     0\n",
            "      0     0     0     0     0     0     0     0     0     0     0     0\n",
            "      0     0     0     0     0     0     0     0     0     0     0     0\n",
            "      0     0     0     0     0     0     0     0     0     0     0     0\n",
            "      0     0     0     0     0     0     0     0     0     0     0     0\n",
            "      0     0     0     0]]\n",
            "[[0.03964414]]\n",
            "Hello from your own machine: ----The shoes didn't have fungus.----\n",
            "shoes didnt fungus\n",
            "[[5080   51 7086    0    0    0    0    0    0    0    0    0    0    0\n",
            "     0    0    0    0    0    0    0    0    0    0    0    0    0    0\n",
            "     0    0    0    0    0    0    0    0    0    0    0    0    0    0\n",
            "     0    0    0    0    0    0    0    0    0    0    0    0    0    0\n",
            "     0    0    0    0    0    0    0    0    0    0    0    0    0    0\n",
            "     0    0    0    0    0    0    0    0    0    0    0    0    0    0\n",
            "     0    0    0    0    0    0    0    0    0    0    0    0    0    0\n",
            "     0    0]]\n",
            "[[0.03709926]]\n",
            "Hello from your own machine: ----The shoes looked good but not comfortable.----\n",
            "shoes looked good not comfortable\n",
            "[[5080  336    4    1 3324    0    0    0    0    0    0    0    0    0\n",
            "     0    0    0    0    0    0    0    0    0    0    0    0    0    0\n",
            "     0    0    0    0    0    0    0    0    0    0    0    0    0    0\n",
            "     0    0    0    0    0    0    0    0    0    0    0    0    0    0\n",
            "     0    0    0    0    0    0    0    0    0    0    0    0    0    0\n",
            "     0    0    0    0    0    0    0    0    0    0    0    0    0    0\n",
            "     0    0    0    0    0    0    0    0    0    0    0    0    0    0\n",
            "     0    0]]\n",
            "[[0.06972194]]\n",
            "Hello from your own machine: ----The shoes didn't look good but quite comfortable.----\n",
            "shoes didnt look good quite comfortable\n",
            "[[5080   51  176    4  164 3324    0    0    0    0    0    0    0    0\n",
            "     0    0    0    0    0    0    0    0    0    0    0    0    0    0\n",
            "     0    0    0    0    0    0    0    0    0    0    0    0    0    0\n",
            "     0    0    0    0    0    0    0    0    0    0    0    0    0    0\n",
            "     0    0    0    0    0    0    0    0    0    0    0    0    0    0\n",
            "     0    0    0    0    0    0    0    0    0    0    0    0    0    0\n",
            "     0    0    0    0    0    0    0    0    0    0    0    0    0    0\n",
            "     0    0]]\n",
            "[[0.06120451]]\n"
          ]
        },
        {
          "output_type": "error",
          "ename": "KeyboardInterrupt",
          "evalue": "ignored",
          "traceback": [
            "\u001b[0;31m---------------------------------------------------------------------------\u001b[0m",
            "\u001b[0;31mKeyboardInterrupt\u001b[0m                         Traceback (most recent call last)",
            "\u001b[0;32m<ipython-input-74-dfae618406b6>\u001b[0m in \u001b[0;36m<module>\u001b[0;34m()\u001b[0m\n\u001b[1;32m     11\u001b[0m   \u001b[0mpred\u001b[0m\u001b[0;34m=\u001b[0m\u001b[0mmodel_pred\u001b[0m\u001b[0;34m(\u001b[0m\u001b[0mreview\u001b[0m\u001b[0;34m)\u001b[0m\u001b[0;34m\u001b[0m\u001b[0;34m\u001b[0m\u001b[0m\n\u001b[1;32m     12\u001b[0m   \u001b[0;32mreturn\u001b[0m \u001b[0mpred\u001b[0m\u001b[0;34m\u001b[0m\u001b[0;34m\u001b[0m\u001b[0m\n\u001b[0;32m---> 13\u001b[0;31m \u001b[0manvil\u001b[0m\u001b[0;34m.\u001b[0m\u001b[0mserver\u001b[0m\u001b[0;34m.\u001b[0m\u001b[0mwait_forever\u001b[0m\u001b[0;34m(\u001b[0m\u001b[0;34m)\u001b[0m\u001b[0;34m\u001b[0m\u001b[0;34m\u001b[0m\u001b[0m\n\u001b[0m",
            "\u001b[0;32m/usr/local/lib/python3.7/dist-packages/anvil/server.py\u001b[0m in \u001b[0;36mwait_forever\u001b[0;34m()\u001b[0m\n\u001b[1;32m    428\u001b[0m     \u001b[0m_get_connection\u001b[0m\u001b[0;34m(\u001b[0m\u001b[0;34m)\u001b[0m\u001b[0;34m\u001b[0m\u001b[0;34m\u001b[0m\u001b[0m\n\u001b[1;32m    429\u001b[0m     \u001b[0;32mwhile\u001b[0m \u001b[0;32mTrue\u001b[0m\u001b[0;34m:\u001b[0m\u001b[0;34m\u001b[0m\u001b[0;34m\u001b[0m\u001b[0m\n\u001b[0;32m--> 430\u001b[0;31m         \u001b[0mtime\u001b[0m\u001b[0;34m.\u001b[0m\u001b[0msleep\u001b[0m\u001b[0;34m(\u001b[0m\u001b[0;36m1\u001b[0m\u001b[0;34m)\u001b[0m\u001b[0;34m\u001b[0m\u001b[0;34m\u001b[0m\u001b[0m\n\u001b[0m",
            "\u001b[0;31mKeyboardInterrupt\u001b[0m: "
          ]
        }
      ],
      "source": [
        "import anvil.server\n",
        "\n",
        "anvil.server.connect(\"7264EZ3XXM3RLXNHWPI5IJ66-BYEIJOUEW7I4QZYF\")\n",
        "\n",
        "@anvil.server.callable\n",
        "def say_hello(name):\n",
        "\n",
        "  print(\"Hello from your own machine: ----\"+ name + \"----\")\n",
        "  review=clean_tokenise_input_webapp(name)\n",
        "  # print(review.shape)\n",
        "  pred=model_pred(review)\n",
        "  return pred\n",
        "anvil.server.wait_forever()"
      ]
    },
    {
      "cell_type": "code",
      "execution_count": null,
      "metadata": {
        "colab": {
          "base_uri": "https://localhost:8080/"
        },
        "id": "Thj-d2531L0s",
        "outputId": "e5852d3e-f8f7-438b-f513-67ad6ec44248"
      },
      "outputs": [
        {
          "name": "stdout",
          "output_type": "stream",
          "text": [
            "product works just half time\n",
            "[[  6 307   7 168  20   0   0   0   0   0   0   0   0   0   0   0   0   0\n",
            "    0   0   0   0   0   0   0   0   0   0   0   0   0   0   0   0   0   0\n",
            "    0   0   0   0   0   0   0   0   0   0   0   0   0   0   0   0   0   0\n",
            "    0   0   0   0   0   0   0   0   0   0   0   0   0   0   0   0   0   0\n",
            "    0   0   0   0   0   0   0   0   0   0   0   0   0   0   0   0   0   0\n",
            "    0   0   0   0   0   0   0   0   0   0]]\n",
            "[[0.8837196]]\n",
            "Review indicates positive sentiment\n"
          ]
        }
      ],
      "source": [
        ""
      ]
    },
    {
      "cell_type": "code",
      "execution_count": null,
      "metadata": {
        "id": "RV7OWr_2Cz68"
      },
      "outputs": [],
      "source": [
        ""
      ]
    },
    {
      "cell_type": "code",
      "execution_count": null,
      "metadata": {
        "id": "DDSsGrL7Ay63"
      },
      "outputs": [],
      "source": [
        ""
      ]
    },
    {
      "cell_type": "code",
      "execution_count": null,
      "metadata": {
        "id": "KaRJqP_SlgeZ"
      },
      "outputs": [],
      "source": [
        ""
      ]
    }
  ],
  "metadata": {
    "accelerator": "GPU",
    "colab": {
      "collapsed_sections": [],
      "machine_shape": "hm",
      "name": "Anvil2_AmazonRev_word2vec.ipynb",
      "provenance": []
    },
    "kernelspec": {
      "display_name": "Python 3",
      "name": "python3"
    },
    "language_info": {
      "name": "python"
    },
    "gpuClass": "standard"
  },
  "nbformat": 4,
  "nbformat_minor": 0
}