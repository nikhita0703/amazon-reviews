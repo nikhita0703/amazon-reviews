{
  "cells": [
    {
      "cell_type": "code",
      "source": [
        "import os \n",
        "import numpy as np \n",
        "import pandas as pd \n",
        "import zipfile \n",
        "from sklearn.utils import resample\n",
        "import tensorflow as tf \n",
        "from tensorflow import keras \n",
        "from sklearn.pipeline import Pipeline\n",
        "import re\n",
        "import string\n",
        "import gensim\n",
        "from nltk import sent_tokenize\n",
        "import nltk\n",
        "nltk.download('punkt')\n",
        "from sklearn.model_selection import train_test_split\n",
        "from gensim.utils import simple_preprocess\n",
        "from keras.preprocessing.text import Tokenizer\n",
        "from gensim.models import Word2Vec\n",
        "from gensim.models import KeyedVectors\n",
        "from keras.preprocessing.sequence import pad_sequences\n",
        "from keras.preprocessing.text import Tokenizer\n",
        "from keras.preprocessing.sequence import pad_sequences\n",
        "from keras.models import Sequential\n",
        "from keras.layers import Activation, Dense, Dropout, Embedding, Flatten, Conv1D, MaxPooling1D, LSTM\n",
        "from keras import utils\n",
        "from keras.callbacks import ReduceLROnPlateau, EarlyStopping\n",
        "from keras.layers.embeddings import Embedding\n",
        "import numpy as np"
      ],
      "metadata": {
        "id": "Zmaeh6-aUd45"
      },
      "execution_count": null,
      "outputs": []
    },
    {
      "cell_type": "code",
      "execution_count": null,
      "metadata": {
        "colab": {
          "base_uri": "https://localhost:8080/"
        },
        "id": "Ly6SUwJrn-G7",
        "outputId": "8379edce-ff71-4a49-c684-5c48f35d7de4"
      },
      "outputs": [
        {
          "output_type": "stream",
          "name": "stdout",
          "text": [
            "Mounted at /content/gdrive\n"
          ]
        }
      ],
      "source": [
        "from google.colab import drive \n",
        "drive.mount('/content/gdrive')"
      ]
    },
    {
      "cell_type": "markdown",
      "source": [
        "Loading the reviews and other details into a dataframe. "
      ],
      "metadata": {
        "id": "S6npPMLpWm_E"
      }
    },
    {
      "cell_type": "code",
      "execution_count": null,
      "metadata": {
        "colab": {
          "base_uri": "https://localhost:8080/",
          "height": 696
        },
        "id": "e7HSQ9MAGi6O",
        "outputId": "2a2cd724-25f9-4fc3-bbe8-b50cac7366cb"
      },
      "outputs": [
        {
          "output_type": "execute_result",
          "data": {
            "text/plain": [
              "   Id   ProductId          UserId                      ProfileName  \\\n",
              "0   1  B001E4KFG0  A3SGXH7AUHU8GW                       delmartian   \n",
              "1   2  B00813GRG4  A1D87F6ZCVE5NK                           dll pa   \n",
              "2   3  B000LQOCH0   ABXLMWJIXXAIN  Natalia Corres \"Natalia Corres\"   \n",
              "3   4  B000UA0QIQ  A395BORC6FGVXV                             Karl   \n",
              "4   5  B006K2ZZ7K  A1UQRSCLF8GW1T    Michael D. Bigham \"M. Wassir\"   \n",
              "\n",
              "   HelpfulnessNumerator  HelpfulnessDenominator  Score        Time  \\\n",
              "0                     1                       1      5  1303862400   \n",
              "1                     0                       0      1  1346976000   \n",
              "2                     1                       1      4  1219017600   \n",
              "3                     3                       3      2  1307923200   \n",
              "4                     0                       0      5  1350777600   \n",
              "\n",
              "                 Summary                                               Text  \n",
              "0  Good Quality Dog Food  I have bought several of the Vitality canned d...  \n",
              "1      Not as Advertised  Product arrived labeled as Jumbo Salted Peanut...  \n",
              "2  \"Delight\" says it all  This is a confection that has been around a fe...  \n",
              "3         Cough Medicine  If you are looking for the secret ingredient i...  \n",
              "4            Great taffy  Great taffy at a great price.  There was a wid...  "
            ],
            "text/html": [
              "\n",
              "  <div id=\"df-5b9e9c57-2735-4390-812b-70974471b59c\">\n",
              "    <div class=\"colab-df-container\">\n",
              "      <div>\n",
              "<style scoped>\n",
              "    .dataframe tbody tr th:only-of-type {\n",
              "        vertical-align: middle;\n",
              "    }\n",
              "\n",
              "    .dataframe tbody tr th {\n",
              "        vertical-align: top;\n",
              "    }\n",
              "\n",
              "    .dataframe thead th {\n",
              "        text-align: right;\n",
              "    }\n",
              "</style>\n",
              "<table border=\"1\" class=\"dataframe\">\n",
              "  <thead>\n",
              "    <tr style=\"text-align: right;\">\n",
              "      <th></th>\n",
              "      <th>Id</th>\n",
              "      <th>ProductId</th>\n",
              "      <th>UserId</th>\n",
              "      <th>ProfileName</th>\n",
              "      <th>HelpfulnessNumerator</th>\n",
              "      <th>HelpfulnessDenominator</th>\n",
              "      <th>Score</th>\n",
              "      <th>Time</th>\n",
              "      <th>Summary</th>\n",
              "      <th>Text</th>\n",
              "    </tr>\n",
              "  </thead>\n",
              "  <tbody>\n",
              "    <tr>\n",
              "      <th>0</th>\n",
              "      <td>1</td>\n",
              "      <td>B001E4KFG0</td>\n",
              "      <td>A3SGXH7AUHU8GW</td>\n",
              "      <td>delmartian</td>\n",
              "      <td>1</td>\n",
              "      <td>1</td>\n",
              "      <td>5</td>\n",
              "      <td>1303862400</td>\n",
              "      <td>Good Quality Dog Food</td>\n",
              "      <td>I have bought several of the Vitality canned d...</td>\n",
              "    </tr>\n",
              "    <tr>\n",
              "      <th>1</th>\n",
              "      <td>2</td>\n",
              "      <td>B00813GRG4</td>\n",
              "      <td>A1D87F6ZCVE5NK</td>\n",
              "      <td>dll pa</td>\n",
              "      <td>0</td>\n",
              "      <td>0</td>\n",
              "      <td>1</td>\n",
              "      <td>1346976000</td>\n",
              "      <td>Not as Advertised</td>\n",
              "      <td>Product arrived labeled as Jumbo Salted Peanut...</td>\n",
              "    </tr>\n",
              "    <tr>\n",
              "      <th>2</th>\n",
              "      <td>3</td>\n",
              "      <td>B000LQOCH0</td>\n",
              "      <td>ABXLMWJIXXAIN</td>\n",
              "      <td>Natalia Corres \"Natalia Corres\"</td>\n",
              "      <td>1</td>\n",
              "      <td>1</td>\n",
              "      <td>4</td>\n",
              "      <td>1219017600</td>\n",
              "      <td>\"Delight\" says it all</td>\n",
              "      <td>This is a confection that has been around a fe...</td>\n",
              "    </tr>\n",
              "    <tr>\n",
              "      <th>3</th>\n",
              "      <td>4</td>\n",
              "      <td>B000UA0QIQ</td>\n",
              "      <td>A395BORC6FGVXV</td>\n",
              "      <td>Karl</td>\n",
              "      <td>3</td>\n",
              "      <td>3</td>\n",
              "      <td>2</td>\n",
              "      <td>1307923200</td>\n",
              "      <td>Cough Medicine</td>\n",
              "      <td>If you are looking for the secret ingredient i...</td>\n",
              "    </tr>\n",
              "    <tr>\n",
              "      <th>4</th>\n",
              "      <td>5</td>\n",
              "      <td>B006K2ZZ7K</td>\n",
              "      <td>A1UQRSCLF8GW1T</td>\n",
              "      <td>Michael D. Bigham \"M. Wassir\"</td>\n",
              "      <td>0</td>\n",
              "      <td>0</td>\n",
              "      <td>5</td>\n",
              "      <td>1350777600</td>\n",
              "      <td>Great taffy</td>\n",
              "      <td>Great taffy at a great price.  There was a wid...</td>\n",
              "    </tr>\n",
              "  </tbody>\n",
              "</table>\n",
              "</div>\n",
              "      <button class=\"colab-df-convert\" onclick=\"convertToInteractive('df-5b9e9c57-2735-4390-812b-70974471b59c')\"\n",
              "              title=\"Convert this dataframe to an interactive table.\"\n",
              "              style=\"display:none;\">\n",
              "        \n",
              "  <svg xmlns=\"http://www.w3.org/2000/svg\" height=\"24px\"viewBox=\"0 0 24 24\"\n",
              "       width=\"24px\">\n",
              "    <path d=\"M0 0h24v24H0V0z\" fill=\"none\"/>\n",
              "    <path d=\"M18.56 5.44l.94 2.06.94-2.06 2.06-.94-2.06-.94-.94-2.06-.94 2.06-2.06.94zm-11 1L8.5 8.5l.94-2.06 2.06-.94-2.06-.94L8.5 2.5l-.94 2.06-2.06.94zm10 10l.94 2.06.94-2.06 2.06-.94-2.06-.94-.94-2.06-.94 2.06-2.06.94z\"/><path d=\"M17.41 7.96l-1.37-1.37c-.4-.4-.92-.59-1.43-.59-.52 0-1.04.2-1.43.59L10.3 9.45l-7.72 7.72c-.78.78-.78 2.05 0 2.83L4 21.41c.39.39.9.59 1.41.59.51 0 1.02-.2 1.41-.59l7.78-7.78 2.81-2.81c.8-.78.8-2.07 0-2.86zM5.41 20L4 18.59l7.72-7.72 1.47 1.35L5.41 20z\"/>\n",
              "  </svg>\n",
              "      </button>\n",
              "      \n",
              "  <style>\n",
              "    .colab-df-container {\n",
              "      display:flex;\n",
              "      flex-wrap:wrap;\n",
              "      gap: 12px;\n",
              "    }\n",
              "\n",
              "    .colab-df-convert {\n",
              "      background-color: #E8F0FE;\n",
              "      border: none;\n",
              "      border-radius: 50%;\n",
              "      cursor: pointer;\n",
              "      display: none;\n",
              "      fill: #1967D2;\n",
              "      height: 32px;\n",
              "      padding: 0 0 0 0;\n",
              "      width: 32px;\n",
              "    }\n",
              "\n",
              "    .colab-df-convert:hover {\n",
              "      background-color: #E2EBFA;\n",
              "      box-shadow: 0px 1px 2px rgba(60, 64, 67, 0.3), 0px 1px 3px 1px rgba(60, 64, 67, 0.15);\n",
              "      fill: #174EA6;\n",
              "    }\n",
              "\n",
              "    [theme=dark] .colab-df-convert {\n",
              "      background-color: #3B4455;\n",
              "      fill: #D2E3FC;\n",
              "    }\n",
              "\n",
              "    [theme=dark] .colab-df-convert:hover {\n",
              "      background-color: #434B5C;\n",
              "      box-shadow: 0px 1px 3px 1px rgba(0, 0, 0, 0.15);\n",
              "      filter: drop-shadow(0px 1px 2px rgba(0, 0, 0, 0.3));\n",
              "      fill: #FFFFFF;\n",
              "    }\n",
              "  </style>\n",
              "\n",
              "      <script>\n",
              "        const buttonEl =\n",
              "          document.querySelector('#df-5b9e9c57-2735-4390-812b-70974471b59c button.colab-df-convert');\n",
              "        buttonEl.style.display =\n",
              "          google.colab.kernel.accessAllowed ? 'block' : 'none';\n",
              "\n",
              "        async function convertToInteractive(key) {\n",
              "          const element = document.querySelector('#df-5b9e9c57-2735-4390-812b-70974471b59c');\n",
              "          const dataTable =\n",
              "            await google.colab.kernel.invokeFunction('convertToInteractive',\n",
              "                                                     [key], {});\n",
              "          if (!dataTable) return;\n",
              "\n",
              "          const docLinkHtml = 'Like what you see? Visit the ' +\n",
              "            '<a target=\"_blank\" href=https://colab.research.google.com/notebooks/data_table.ipynb>data table notebook</a>'\n",
              "            + ' to learn more about interactive tables.';\n",
              "          element.innerHTML = '';\n",
              "          dataTable['output_type'] = 'display_data';\n",
              "          await google.colab.output.renderOutput(dataTable, element);\n",
              "          const docLink = document.createElement('div');\n",
              "          docLink.innerHTML = docLinkHtml;\n",
              "          element.appendChild(docLink);\n",
              "        }\n",
              "      </script>\n",
              "    </div>\n",
              "  </div>\n",
              "  "
            ]
          },
          "metadata": {},
          "execution_count": 3
        }
      ],
      "source": [
        "zf = zipfile.ZipFile('/content/gdrive/MyDrive/amazon_reviews.zip') \n",
        "df = pd.read_csv(zf.open('Reviews.csv'))\n",
        "df.head()"
      ]
    },
    {
      "cell_type": "code",
      "execution_count": null,
      "metadata": {
        "colab": {
          "base_uri": "https://localhost:8080/"
        },
        "id": "JY4SyKy7JUeO",
        "outputId": "448c1c56-353c-465a-cfc5-774e524d8f6a"
      },
      "outputs": [
        {
          "output_type": "execute_result",
          "data": {
            "text/plain": [
              "(568454, 10)"
            ]
          },
          "metadata": {},
          "execution_count": 4
        }
      ],
      "source": [
        "df.shape"
      ]
    },
    {
      "cell_type": "markdown",
      "source": [
        "Checking for null values."
      ],
      "metadata": {
        "id": "kul4eU5DW20A"
      }
    },
    {
      "cell_type": "code",
      "execution_count": null,
      "metadata": {
        "colab": {
          "base_uri": "https://localhost:8080/"
        },
        "id": "e9p3D-yNffeW",
        "outputId": "8f5e7956-bd42-403e-8eb0-135cb1cb5a2a"
      },
      "outputs": [
        {
          "output_type": "execute_result",
          "data": {
            "text/plain": [
              "Id                         0\n",
              "ProductId                  0\n",
              "UserId                     0\n",
              "ProfileName               16\n",
              "HelpfulnessNumerator       0\n",
              "HelpfulnessDenominator     0\n",
              "Score                      0\n",
              "Time                       0\n",
              "Summary                   27\n",
              "Text                       0\n",
              "dtype: int64"
            ]
          },
          "metadata": {},
          "execution_count": 6
        }
      ],
      "source": [
        "df.isnull().sum()"
      ]
    },
    {
      "cell_type": "markdown",
      "source": [
        "Handling null values and combining the review title and content into one column called \"Review\"."
      ],
      "metadata": {
        "id": "bFXUUDIEXMtj"
      }
    },
    {
      "cell_type": "code",
      "execution_count": null,
      "metadata": {
        "id": "PBH8EAUQff_3"
      },
      "outputs": [],
      "source": [
        "df.ProfileName.fillna(value = \"\", inplace = True)\n",
        "df.Summary.fillna(value = \"\", inplace = True)\n",
        "df[\"Reviews\"] = df[\"Summary\"] + \" \" + df[\"Text\"]"
      ]
    },
    {
      "cell_type": "markdown",
      "source": [
        "Visualising the distribution of ratings(between 1-5). "
      ],
      "metadata": {
        "id": "5FL-xMNOXgPG"
      }
    },
    {
      "cell_type": "code",
      "execution_count": null,
      "metadata": {
        "colab": {
          "base_uri": "https://localhost:8080/",
          "height": 482
        },
        "id": "NYbG1fkplGtT",
        "outputId": "14b0916c-047d-4a70-9526-d53055026f81"
      },
      "outputs": [
        {
          "output_type": "display_data",
          "data": {
            "text/plain": [
              "<Figure size 576x576 with 1 Axes>"
            ],
            "image/png": "[encoded data removed]"
          },
          "metadata": {}
        }
      ],
      "source": [
        "import matplotlib as plt\n",
        "import matplotlib.pyplot as plt\n",
        "df.Score.value_counts().plot(kind = \"pie\", legend = False, autopct = \"%1.2f%%\", fontsize = 10, figsize=(8,8))\n",
        "plt.title(\"Percentages of Ratings Given from The Customers\", loc = \"center\")\n",
        "plt.show()"
      ]
    },
    {
      "cell_type": "markdown",
      "source": [
        "Function to encode the numerical ratings as positive,negative or neutral sentiments.  "
      ],
      "metadata": {
        "id": "0JtGoOTVXvgn"
      }
    },
    {
      "cell_type": "code",
      "execution_count": null,
      "metadata": {
        "id": "KCBpqCTiSI1K"
      },
      "outputs": [],
      "source": [
        "def identify_sentiment(val):\n",
        "  if (val<3):\n",
        "    entry='negative'\n",
        "  elif (val==3):\n",
        "    entry='neutral'\n",
        "  else:\n",
        "    entry='positive'\n",
        "  return entry\n",
        "\n",
        "df['Sentiment']= df['Score'].apply(lambda x: identify_sentiment(x))"
      ]
    },
    {
      "cell_type": "markdown",
      "source": [
        "Visualising the distribution of sentiments in our data. "
      ],
      "metadata": {
        "id": "LZdOwX7TYijL"
      }
    },
    {
      "cell_type": "code",
      "execution_count": null,
      "metadata": {
        "colab": {
          "base_uri": "https://localhost:8080/",
          "height": 327
        },
        "id": "8gMZq1ir2DM1",
        "outputId": "6071fd77-a6af-4d55-98f4-97d5a9ed27da"
      },
      "outputs": [
        {
          "output_type": "display_data",
          "data": {
            "text/plain": [
              "<Figure size 432x288 with 1 Axes>"
            ],
            "image/png": "[encoded data removed]"
          },
          "metadata": {
            "needs_background": "light"
          }
        }
      ],
      "source": [
        "df[\"Sentiment\"].value_counts().plot(kind = \"bar\", color = \"blue\")\n",
        "plt.title(\"Amount of Each Sentiments Based On Rating Given\", loc = \"center\", fontsize = 15, color = \"red\", pad = 25)\n",
        "plt.xlabel(\"Sentiments\", color = \"green\", fontsize = 10, labelpad = 15)\n",
        "plt.xticks(rotation = 0)\n",
        "plt.ylabel(\"Amount of Sentiments\", color = \"green\", fontsize = 10, labelpad = 15)\n",
        "plt.show()"
      ]
    },
    {
      "cell_type": "code",
      "execution_count": null,
      "metadata": {
        "colab": {
          "base_uri": "https://localhost:8080/"
        },
        "id": "nlod6vr7t4um",
        "outputId": "bd326871-8cb4-4db5-cc2f-55bfb7e27532"
      },
      "outputs": [
        {
          "output_type": "execute_result",
          "data": {
            "text/plain": [
              "positive    443777\n",
              "negative     82037\n",
              "neutral      42640\n",
              "Name: Sentiment, dtype: int64"
            ]
          },
          "metadata": {},
          "execution_count": 11
        }
      ],
      "source": [
        "df[\"Sentiment\"].value_counts()"
      ]
    },
    {
      "cell_type": "markdown",
      "source": [
        "We can see that there are not a significant number of neutral sentiment reviews in our data so we shall be dropping them and working with only reviews that have been identified as having positive or negative sentiment. "
      ],
      "metadata": {
        "id": "GA9UolkhYt81"
      }
    },
    {
      "cell_type": "code",
      "execution_count": null,
      "metadata": {
        "id": "HLp8gxiRbaxd"
      },
      "outputs": [],
      "source": [
        "df.drop(df.index[df['Sentiment'] == 'neutral'], inplace=True)"
      ]
    },
    {
      "cell_type": "code",
      "execution_count": null,
      "metadata": {
        "colab": {
          "base_uri": "https://localhost:8080/"
        },
        "id": "TphrAScNu65s",
        "outputId": "0b1da39d-4f12-4ad8-c882-e939da3caa51"
      },
      "outputs": [
        {
          "output_type": "execute_result",
          "data": {
            "text/plain": [
              "positive    443777\n",
              "negative     82037\n",
              "Name: Sentiment, dtype: int64"
            ]
          },
          "metadata": {},
          "execution_count": 13
        }
      ],
      "source": [
        "df[\"Sentiment\"].value_counts()"
      ]
    },
    {
      "cell_type": "markdown",
      "source": [
        "Function to remove capital letters,remove punctuation,special characters and remove words that contain numbers. "
      ],
      "metadata": {
        "id": "C-FWilJ2C7OG"
      }
    },
    {
      "cell_type": "code",
      "execution_count": 1,
      "metadata": {
        "colab": {
          "base_uri": "https://localhost:8080/",
          "height": 235
        },
        "id": "01gxA_NK7F9B",
        "outputId": "c7989d46-8970-4101-cea9-a4c862b42de7"
      },
      "outputs": [
        {
          "output_type": "error",
          "ename": "NameError",
          "evalue": "ignored",
          "traceback": [
            "\u001b[0;31m---------------------------------------------------------------------------\u001b[0m",
            "\u001b[0;31mNameError\u001b[0m                                 Traceback (most recent call last)",
            "\u001b[0;32m<ipython-input-1-1fffc0f6c027>\u001b[0m in \u001b[0;36m<module>\u001b[0;34m\u001b[0m\n\u001b[1;32m      7\u001b[0m     \u001b[0;32mreturn\u001b[0m \u001b[0mtext\u001b[0m\u001b[0;34m\u001b[0m\u001b[0;34m\u001b[0m\u001b[0m\n\u001b[1;32m      8\u001b[0m \u001b[0;34m\u001b[0m\u001b[0m\n\u001b[0;32m----> 9\u001b[0;31m \u001b[0mdf\u001b[0m\u001b[0;34m[\u001b[0m\u001b[0;34m'Cleaned_1'\u001b[0m\u001b[0;34m]\u001b[0m\u001b[0;34m=\u001b[0m\u001b[0mdf\u001b[0m\u001b[0;34m[\u001b[0m\u001b[0;34m'Reviews'\u001b[0m\u001b[0;34m]\u001b[0m\u001b[0;34m.\u001b[0m\u001b[0mapply\u001b[0m\u001b[0;34m(\u001b[0m\u001b[0;32mlambda\u001b[0m \u001b[0mx\u001b[0m\u001b[0;34m:\u001b[0m \u001b[0mclean_text\u001b[0m\u001b[0;34m(\u001b[0m\u001b[0mx\u001b[0m\u001b[0;34m)\u001b[0m\u001b[0;34m)\u001b[0m\u001b[0;34m\u001b[0m\u001b[0;34m\u001b[0m\u001b[0m\n\u001b[0m\u001b[1;32m     10\u001b[0m \u001b[0mdf\u001b[0m\u001b[0;34m[\u001b[0m\u001b[0;34m'Cleaned_1'\u001b[0m\u001b[0;34m]\u001b[0m\u001b[0;34m.\u001b[0m\u001b[0mhead\u001b[0m\u001b[0;34m(\u001b[0m\u001b[0;36m10\u001b[0m\u001b[0;34m)\u001b[0m\u001b[0;34m\u001b[0m\u001b[0;34m\u001b[0m\u001b[0m\n\u001b[1;32m     11\u001b[0m \u001b[0;31m# df.head(10)\u001b[0m\u001b[0;34m\u001b[0m\u001b[0;34m\u001b[0m\u001b[0;34m\u001b[0m\u001b[0m\n",
            "\u001b[0;31mNameError\u001b[0m: name 'df' is not defined"
          ]
        }
      ],
      "source": [
        "def clean_text(text):\n",
        "     \n",
        "    text = text.lower()\n",
        "    text = re.sub('\\[.*?\\]', '', text)\n",
        "    text = re.sub('[%s]' % re.escape(string.punctuation), '', text)\n",
        "    text = re.sub('\\w*\\d\\w*', '', text)\n",
        "    return text\n",
        "\n",
        "df['Cleaned_1']=df['Reviews'].apply(lambda x: clean_text(x))\n",
        "df['Cleaned_1'].head(10)"
      ]
    },
    {
      "cell_type": "markdown",
      "source": [
        "We need to keep only the relevant columns of text and review sentiment in the dataframe for training. "
      ],
      "metadata": {
        "id": "sHFEeuRMD8-C"
      }
    },
    {
      "cell_type": "code",
      "execution_count": null,
      "metadata": {
        "id": "hatx-EtGb-E8",
        "colab": {
          "base_uri": "https://localhost:8080/"
        },
        "outputId": "5494bb38-474d-46cb-b0c2-f417f2f558dc"
      },
      "outputs": [
        {
          "output_type": "execute_result",
          "data": {
            "text/plain": [
              "(525814, 2)"
            ]
          },
          "metadata": {},
          "execution_count": 16
        }
      ],
      "source": [
        "df1 = df[['Sentiment','Cleaned_1']]\n",
        "df1.shape"
      ]
    },
    {
      "cell_type": "markdown",
      "source": [
        "Function to remove stopwords from the texts of the reviews.(Stopwords refers to filler words that generally do not contribute much to semantic meaning, and hence can be removed) "
      ],
      "metadata": {
        "id": "Bgu6ry3EEMYe"
      }
    },
    {
      "cell_type": "code",
      "execution_count": null,
      "metadata": {
        "id": "IYmCs6-kMQBD",
        "colab": {
          "base_uri": "https://localhost:8080/"
        },
        "outputId": "5c6cc25f-3b0d-4595-f027-6af0bdd40ac0"
      },
      "outputs": [
        {
          "output_type": "stream",
          "name": "stderr",
          "text": [
            "/usr/local/lib/python3.7/dist-packages/ipykernel_launcher.py:32: SettingWithCopyWarning: \n",
            "A value is trying to be set on a copy of a slice from a DataFrame.\n",
            "Try using .loc[row_indexer,col_indexer] = value instead\n",
            "\n",
            "See the caveats in the documentation: https://pandas.pydata.org/pandas-docs/stable/user_guide/indexing.html#returning-a-view-versus-a-copy\n"
          ]
        },
        {
          "output_type": "execute_result",
          "data": {
            "text/plain": [
              "(525814, 3)"
            ]
          },
          "metadata": {},
          "execution_count": 18
        }
      ],
      "source": [
        "\n",
        "stop_words = frozenset({'mill', 'back', 'from', 'onto', 'ever', 'upon', 'because', 'co', 'would', 'during', 'nobody', 'i', 'until', 'bottom', \n",
        "                         'please', 'than', 'eight', 'do', 'everything', 'or', 'system', 'ie', 'is', 'our', 'every', 'nevertheless', 'un', \n",
        "                         'always', 'what', 'am', 'whose', 'before', 'may', 'inc', 'herein', 'many', 'only', 'something', 'mostly', 'such', 'describe', \n",
        "                         'get', 'together', 'latter', 'their', 'third', 'most', 'enough', 'which', 'serious', 'empty', 'ours', 'per', 'ten', 'he', \n",
        "                         'and', 'twenty', 'by', 'several', 'why', 'nothing', 'itself', 'mine', 'due', 'must', 'hence', 'all', 'becomes', 'within', \n",
        "                         'someone', 'neither', 'whether', 'same', 'forty', 'well', 'wherein', 'de', 'via', 'sixty', 'con', 'toward', 'indeed', 'we', \n",
        "                         'hasnt', 'next', 'who', 'first', 'the', 'her', 'eg', 'beside', 'latterly', 'fifty', 'thin', 'that', 'so', 'whereafter', \n",
        "                         'however', 'between', 'cry', 'can', 'with', 'you', 'part', 'keep', 'eleven', 'to', 'these', 'find', 'wherever', \n",
        "                         'has', 'also', 'anyway', 'therein', 'hereupon', 'it', 'himself', 'another', 'fill', 'seeming', 'anyone', 'less', \n",
        "                         'afterwards', 'she', 'its', 'then', 'whereby', 'see', 'whoever', 'six', 'there', 'will', 'against', 'without', 'whole', 'now',\n",
        "                         'everyone', 'perhaps', 'move', 'any', 'of', 'already', 'formerly', 'hers', 'him', 'ltd', 'into', 'put', 'both', 'becoming',\n",
        "                         'should', 'whenever', 'amoungst', 'somehow', 'three', 'how', 'was', 'amount', 'yourselves', 'themselves', 'often', 'up', \n",
        "                         'side', 'otherwise', 'be', 'whatever', 'sincere', 'seems', 'out', 'two', 'hundred', 'interest', 'everywhere', 'other', \n",
        "                         'where', 'off', 'nor', 'else', 'top', 'cant', 'might', 'except', 'amongst', 'on', 'anywhere', 'others', 'detail', 'name', \n",
        "                         'take', 'thence', 'whence', 'though', 'behind', 'more', 'my', 'beforehand', 'seem', 'thick', 'thru', 'sometime', 'somewhere',\n",
        "                         'fifteen', 'meanwhile', 'thereafter', 'almost', 'done', 'yourself', 'seemed', 'as', 'bill', 'made', 'some', 'very', 'along', \n",
        "                          'above', 'ourselves', 'them', 'elsewhere', 'anything', 'none', 'are', 'once', 'nine', 'too', 'hereby', 'five',\n",
        "                         'show', 'rather', 'through', 'below', 'yours', 'thereby', 'call', 'have', 'twelve', 'thereupon', 'when', 'own', 'after', \n",
        "                         'thus', 'front', 'down', 'namely', 'here', 'herself', 'either', 'myself', 'alone', 'whom', 'become', 'therefore', 'his',\n",
        "                         'me', 'least', 'whereupon', 'for', 'a', 'anyhow', 'even', 'under', 'besides', 'etc', 'give', 'few', 'go', 'they', 'among', \n",
        "                         'full', 'were', 'former', 'us', 'four', 'much', 'hereafter', 'while', 'further', 'became', 'each', 'those', 'been', 'around', \n",
        "                         'being', 'since', 'towards', 're', 'nowhere', 'your', 'sometimes', 'whereas', 'noone', 'yet', 'throughout', 'over', 'found',\n",
        "                         'although', 'at', 'across', 'moreover', 'couldnt', 'fire', 'about', 'last', 'had', 'an', 'one', 'but', 'again', 'this', \n",
        "                         'whither', 'in', 'if', 'beyond', 'still'})\n",
        "\n",
        "\n",
        "def remove_stopwords(text):\n",
        "  words = [word for word in text.split() if word not in stop_words]\n",
        "  new_text = \" \".join(words)\n",
        "  return new_text\n",
        "\n",
        "df1['Stopwords']=df1['Cleaned_1'].apply(lambda x: remove_stopwords(x))\n",
        "df1.shape\n",
        "\n"
      ]
    },
    {
      "cell_type": "markdown",
      "source": [
        "Encoding the positive reviews with 1 and the negative ones with 0."
      ],
      "metadata": {
        "id": "ofxdYLwsfMIE"
      }
    },
    {
      "cell_type": "code",
      "execution_count": null,
      "metadata": {
        "id": "i1ykqzNdQ3ya",
        "colab": {
          "base_uri": "https://localhost:8080/",
          "height": 676
        },
        "outputId": "4f331151-863b-4bec-db10-e8ec27efde2d"
      },
      "outputs": [
        {
          "output_type": "stream",
          "name": "stderr",
          "text": [
            "/usr/local/lib/python3.7/dist-packages/ipykernel_launcher.py:9: SettingWithCopyWarning: \n",
            "A value is trying to be set on a copy of a slice from a DataFrame.\n",
            "Try using .loc[row_indexer,col_indexer] = value instead\n",
            "\n",
            "See the caveats in the documentation: https://pandas.pydata.org/pandas-docs/stable/user_guide/indexing.html#returning-a-view-versus-a-copy\n",
            "  if __name__ == '__main__':\n"
          ]
        },
        {
          "output_type": "execute_result",
          "data": {
            "text/plain": [
              "  Sentiment                                          Cleaned_1  \\\n",
              "0  positive  good quality dog food i have bought several of...   \n",
              "1  negative  not as advertised product arrived labeled as j...   \n",
              "2  positive  delight says it all this is a confection that ...   \n",
              "3  negative  cough medicine if you are looking for the secr...   \n",
              "4  positive  great taffy great taffy at a great price  ther...   \n",
              "5  positive  nice taffy i got a wild hair for taffy and ord...   \n",
              "6  positive  great  just as good as the expensive brands th...   \n",
              "7  positive  wonderful tasty taffy this taffy is so good  i...   \n",
              "8  positive  yay barley right now im mostly just sprouting ...   \n",
              "9  positive  healthy dog food this is a very healthy dog fo...   \n",
              "\n",
              "                                           Stopwords  Sentiment_rating  \n",
              "0  good quality dog food bought vitality canned d...                 1  \n",
              "1  not advertised product arrived labeled jumbo s...                 0  \n",
              "2  delight says confection centuries light pillow...                 1  \n",
              "3  cough medicine looking secret ingredient robit...                 0  \n",
              "4  great taffy great taffy great price wide assor...                 1  \n",
              "5  nice taffy got wild hair taffy ordered pound b...                 1  \n",
              "6  great just good expensive brands saltwater taf...                 1  \n",
              "7  wonderful tasty taffy taffy good soft chewy fl...                 1  \n",
              "8  yay barley right im just sprouting cats eat gr...                 1  \n",
              "9  healthy dog food healthy dog food good digesti...                 1  "
            ],
            "text/html": [
              "\n",
              "  <div id=\"df-eff0ab0b-b8c6-4469-a08f-791d5c45f553\">\n",
              "    <div class=\"colab-df-container\">\n",
              "      <div>\n",
              "<style scoped>\n",
              "    .dataframe tbody tr th:only-of-type {\n",
              "        vertical-align: middle;\n",
              "    }\n",
              "\n",
              "    .dataframe tbody tr th {\n",
              "        vertical-align: top;\n",
              "    }\n",
              "\n",
              "    .dataframe thead th {\n",
              "        text-align: right;\n",
              "    }\n",
              "</style>\n",
              "<table border=\"1\" class=\"dataframe\">\n",
              "  <thead>\n",
              "    <tr style=\"text-align: right;\">\n",
              "      <th></th>\n",
              "      <th>Sentiment</th>\n",
              "      <th>Cleaned_1</th>\n",
              "      <th>Stopwords</th>\n",
              "      <th>Sentiment_rating</th>\n",
              "    </tr>\n",
              "  </thead>\n",
              "  <tbody>\n",
              "    <tr>\n",
              "      <th>0</th>\n",
              "      <td>positive</td>\n",
              "      <td>good quality dog food i have bought several of...</td>\n",
              "      <td>good quality dog food bought vitality canned d...</td>\n",
              "      <td>1</td>\n",
              "    </tr>\n",
              "    <tr>\n",
              "      <th>1</th>\n",
              "      <td>negative</td>\n",
              "      <td>not as advertised product arrived labeled as j...</td>\n",
              "      <td>not advertised product arrived labeled jumbo s...</td>\n",
              "      <td>0</td>\n",
              "    </tr>\n",
              "    <tr>\n",
              "      <th>2</th>\n",
              "      <td>positive</td>\n",
              "      <td>delight says it all this is a confection that ...</td>\n",
              "      <td>delight says confection centuries light pillow...</td>\n",
              "      <td>1</td>\n",
              "    </tr>\n",
              "    <tr>\n",
              "      <th>3</th>\n",
              "      <td>negative</td>\n",
              "      <td>cough medicine if you are looking for the secr...</td>\n",
              "      <td>cough medicine looking secret ingredient robit...</td>\n",
              "      <td>0</td>\n",
              "    </tr>\n",
              "    <tr>\n",
              "      <th>4</th>\n",
              "      <td>positive</td>\n",
              "      <td>great taffy great taffy at a great price  ther...</td>\n",
              "      <td>great taffy great taffy great price wide assor...</td>\n",
              "      <td>1</td>\n",
              "    </tr>\n",
              "    <tr>\n",
              "      <th>5</th>\n",
              "      <td>positive</td>\n",
              "      <td>nice taffy i got a wild hair for taffy and ord...</td>\n",
              "      <td>nice taffy got wild hair taffy ordered pound b...</td>\n",
              "      <td>1</td>\n",
              "    </tr>\n",
              "    <tr>\n",
              "      <th>6</th>\n",
              "      <td>positive</td>\n",
              "      <td>great  just as good as the expensive brands th...</td>\n",
              "      <td>great just good expensive brands saltwater taf...</td>\n",
              "      <td>1</td>\n",
              "    </tr>\n",
              "    <tr>\n",
              "      <th>7</th>\n",
              "      <td>positive</td>\n",
              "      <td>wonderful tasty taffy this taffy is so good  i...</td>\n",
              "      <td>wonderful tasty taffy taffy good soft chewy fl...</td>\n",
              "      <td>1</td>\n",
              "    </tr>\n",
              "    <tr>\n",
              "      <th>8</th>\n",
              "      <td>positive</td>\n",
              "      <td>yay barley right now im mostly just sprouting ...</td>\n",
              "      <td>yay barley right im just sprouting cats eat gr...</td>\n",
              "      <td>1</td>\n",
              "    </tr>\n",
              "    <tr>\n",
              "      <th>9</th>\n",
              "      <td>positive</td>\n",
              "      <td>healthy dog food this is a very healthy dog fo...</td>\n",
              "      <td>healthy dog food healthy dog food good digesti...</td>\n",
              "      <td>1</td>\n",
              "    </tr>\n",
              "  </tbody>\n",
              "</table>\n",
              "</div>\n",
              "      <button class=\"colab-df-convert\" onclick=\"convertToInteractive('df-eff0ab0b-b8c6-4469-a08f-791d5c45f553')\"\n",
              "              title=\"Convert this dataframe to an interactive table.\"\n",
              "              style=\"display:none;\">\n",
              "        \n",
              "  <svg xmlns=\"http://www.w3.org/2000/svg\" height=\"24px\"viewBox=\"0 0 24 24\"\n",
              "       width=\"24px\">\n",
              "    <path d=\"M0 0h24v24H0V0z\" fill=\"none\"/>\n",
              "    <path d=\"M18.56 5.44l.94 2.06.94-2.06 2.06-.94-2.06-.94-.94-2.06-.94 2.06-2.06.94zm-11 1L8.5 8.5l.94-2.06 2.06-.94-2.06-.94L8.5 2.5l-.94 2.06-2.06.94zm10 10l.94 2.06.94-2.06 2.06-.94-2.06-.94-.94-2.06-.94 2.06-2.06.94z\"/><path d=\"M17.41 7.96l-1.37-1.37c-.4-.4-.92-.59-1.43-.59-.52 0-1.04.2-1.43.59L10.3 9.45l-7.72 7.72c-.78.78-.78 2.05 0 2.83L4 21.41c.39.39.9.59 1.41.59.51 0 1.02-.2 1.41-.59l7.78-7.78 2.81-2.81c.8-.78.8-2.07 0-2.86zM5.41 20L4 18.59l7.72-7.72 1.47 1.35L5.41 20z\"/>\n",
              "  </svg>\n",
              "      </button>\n",
              "      \n",
              "  <style>\n",
              "    .colab-df-container {\n",
              "      display:flex;\n",
              "      flex-wrap:wrap;\n",
              "      gap: 12px;\n",
              "    }\n",
              "\n",
              "    .colab-df-convert {\n",
              "      background-color: #E8F0FE;\n",
              "      border: none;\n",
              "      border-radius: 50%;\n",
              "      cursor: pointer;\n",
              "      display: none;\n",
              "      fill: #1967D2;\n",
              "      height: 32px;\n",
              "      padding: 0 0 0 0;\n",
              "      width: 32px;\n",
              "    }\n",
              "\n",
              "    .colab-df-convert:hover {\n",
              "      background-color: #E2EBFA;\n",
              "      box-shadow: 0px 1px 2px rgba(60, 64, 67, 0.3), 0px 1px 3px 1px rgba(60, 64, 67, 0.15);\n",
              "      fill: #174EA6;\n",
              "    }\n",
              "\n",
              "    [theme=dark] .colab-df-convert {\n",
              "      background-color: #3B4455;\n",
              "      fill: #D2E3FC;\n",
              "    }\n",
              "\n",
              "    [theme=dark] .colab-df-convert:hover {\n",
              "      background-color: #434B5C;\n",
              "      box-shadow: 0px 1px 3px 1px rgba(0, 0, 0, 0.15);\n",
              "      filter: drop-shadow(0px 1px 2px rgba(0, 0, 0, 0.3));\n",
              "      fill: #FFFFFF;\n",
              "    }\n",
              "  </style>\n",
              "\n",
              "      <script>\n",
              "        const buttonEl =\n",
              "          document.querySelector('#df-eff0ab0b-b8c6-4469-a08f-791d5c45f553 button.colab-df-convert');\n",
              "        buttonEl.style.display =\n",
              "          google.colab.kernel.accessAllowed ? 'block' : 'none';\n",
              "\n",
              "        async function convertToInteractive(key) {\n",
              "          const element = document.querySelector('#df-eff0ab0b-b8c6-4469-a08f-791d5c45f553');\n",
              "          const dataTable =\n",
              "            await google.colab.kernel.invokeFunction('convertToInteractive',\n",
              "                                                     [key], {});\n",
              "          if (!dataTable) return;\n",
              "\n",
              "          const docLinkHtml = 'Like what you see? Visit the ' +\n",
              "            '<a target=\"_blank\" href=https://colab.research.google.com/notebooks/data_table.ipynb>data table notebook</a>'\n",
              "            + ' to learn more about interactive tables.';\n",
              "          element.innerHTML = '';\n",
              "          dataTable['output_type'] = 'display_data';\n",
              "          await google.colab.output.renderOutput(dataTable, element);\n",
              "          const docLink = document.createElement('div');\n",
              "          docLink.innerHTML = docLinkHtml;\n",
              "          element.appendChild(docLink);\n",
              "        }\n",
              "      </script>\n",
              "    </div>\n",
              "  </div>\n",
              "  "
            ]
          },
          "metadata": {},
          "execution_count": 22
        }
      ],
      "source": [
        "def sentiment_rating(val):\n",
        "  if (val=='positive'):\n",
        "    entry=1\n",
        "  else:\n",
        "    entry=0\n",
        "  return entry\n",
        "\n",
        "df1['Sentiment_rating']= df1['Sentiment'].apply(lambda x: sentiment_rating(x))\n",
        "df1.head(5)"
      ]
    },
    {
      "cell_type": "code",
      "execution_count": null,
      "metadata": {
        "id": "E8eSaIUI8ubL",
        "colab": {
          "base_uri": "https://localhost:8080/"
        },
        "outputId": "1f10ff2d-bb16-451e-ecff-550ac94b20f2"
      },
      "outputs": [
        {
          "output_type": "execute_result",
          "data": {
            "text/plain": [
              "1    443777\n",
              "0     82037\n",
              "Name: Sentiment_rating, dtype: int64"
            ]
          },
          "metadata": {},
          "execution_count": 23
        }
      ],
      "source": [
        "df1['Sentiment_rating'].value_counts()"
      ]
    },
    {
      "cell_type": "markdown",
      "source": [
        "Looking at the value counts for sentiment rating we can see that the data is highly imbalanced with a lot more positive reviews than negative ones. So we'll create a separate dataframe of the negative reviews in order to upsample them. "
      ],
      "metadata": {
        "id": "EAbm0BxnIN5_"
      }
    },
    {
      "cell_type": "code",
      "execution_count": null,
      "metadata": {
        "colab": {
          "base_uri": "https://localhost:8080/",
          "height": 323
        },
        "id": "R_BHIdTqP3qp",
        "outputId": "17df014a-df73-400d-cb2a-e99ccb4c1893"
      },
      "outputs": [
        {
          "output_type": "execute_result",
          "data": {
            "text/plain": [
              "   Sentiment                                          Cleaned_1  \\\n",
              "1   negative  not as advertised product arrived labeled as j...   \n",
              "3   negative  cough medicine if you are looking for the secr...   \n",
              "12  negative  my cats are not fans of the new food my cats h...   \n",
              "16  negative  poor taste i love eating them and they are goo...   \n",
              "26  negative  nasty no flavor the candy is just red  no flav...   \n",
              "\n",
              "                                            Stopwords  Sentiment_rating  \n",
              "1   not advertised product arrived labeled jumbo s...                 0  \n",
              "3   cough medicine looking secret ingredient robit...                 0  \n",
              "12  cats not fans new food cats happily eating fel...                 0  \n",
              "16  poor taste love eating good watching tv lookin...                 0  \n",
              "26  nasty no flavor candy just red no flavor just ...                 0  "
            ],
            "text/html": [
              "\n",
              "  <div id=\"df-2fece8a7-0560-4e8c-8d19-30c92e73954e\">\n",
              "    <div class=\"colab-df-container\">\n",
              "      <div>\n",
              "<style scoped>\n",
              "    .dataframe tbody tr th:only-of-type {\n",
              "        vertical-align: middle;\n",
              "    }\n",
              "\n",
              "    .dataframe tbody tr th {\n",
              "        vertical-align: top;\n",
              "    }\n",
              "\n",
              "    .dataframe thead th {\n",
              "        text-align: right;\n",
              "    }\n",
              "</style>\n",
              "<table border=\"1\" class=\"dataframe\">\n",
              "  <thead>\n",
              "    <tr style=\"text-align: right;\">\n",
              "      <th></th>\n",
              "      <th>Sentiment</th>\n",
              "      <th>Cleaned_1</th>\n",
              "      <th>Stopwords</th>\n",
              "      <th>Sentiment_rating</th>\n",
              "    </tr>\n",
              "  </thead>\n",
              "  <tbody>\n",
              "    <tr>\n",
              "      <th>1</th>\n",
              "      <td>negative</td>\n",
              "      <td>not as advertised product arrived labeled as j...</td>\n",
              "      <td>not advertised product arrived labeled jumbo s...</td>\n",
              "      <td>0</td>\n",
              "    </tr>\n",
              "    <tr>\n",
              "      <th>3</th>\n",
              "      <td>negative</td>\n",
              "      <td>cough medicine if you are looking for the secr...</td>\n",
              "      <td>cough medicine looking secret ingredient robit...</td>\n",
              "      <td>0</td>\n",
              "    </tr>\n",
              "    <tr>\n",
              "      <th>12</th>\n",
              "      <td>negative</td>\n",
              "      <td>my cats are not fans of the new food my cats h...</td>\n",
              "      <td>cats not fans new food cats happily eating fel...</td>\n",
              "      <td>0</td>\n",
              "    </tr>\n",
              "    <tr>\n",
              "      <th>16</th>\n",
              "      <td>negative</td>\n",
              "      <td>poor taste i love eating them and they are goo...</td>\n",
              "      <td>poor taste love eating good watching tv lookin...</td>\n",
              "      <td>0</td>\n",
              "    </tr>\n",
              "    <tr>\n",
              "      <th>26</th>\n",
              "      <td>negative</td>\n",
              "      <td>nasty no flavor the candy is just red  no flav...</td>\n",
              "      <td>nasty no flavor candy just red no flavor just ...</td>\n",
              "      <td>0</td>\n",
              "    </tr>\n",
              "  </tbody>\n",
              "</table>\n",
              "</div>\n",
              "      <button class=\"colab-df-convert\" onclick=\"convertToInteractive('df-2fece8a7-0560-4e8c-8d19-30c92e73954e')\"\n",
              "              title=\"Convert this dataframe to an interactive table.\"\n",
              "              style=\"display:none;\">\n",
              "        \n",
              "  <svg xmlns=\"http://www.w3.org/2000/svg\" height=\"24px\"viewBox=\"0 0 24 24\"\n",
              "       width=\"24px\">\n",
              "    <path d=\"M0 0h24v24H0V0z\" fill=\"none\"/>\n",
              "    <path d=\"M18.56 5.44l.94 2.06.94-2.06 2.06-.94-2.06-.94-.94-2.06-.94 2.06-2.06.94zm-11 1L8.5 8.5l.94-2.06 2.06-.94-2.06-.94L8.5 2.5l-.94 2.06-2.06.94zm10 10l.94 2.06.94-2.06 2.06-.94-2.06-.94-.94-2.06-.94 2.06-2.06.94z\"/><path d=\"M17.41 7.96l-1.37-1.37c-.4-.4-.92-.59-1.43-.59-.52 0-1.04.2-1.43.59L10.3 9.45l-7.72 7.72c-.78.78-.78 2.05 0 2.83L4 21.41c.39.39.9.59 1.41.59.51 0 1.02-.2 1.41-.59l7.78-7.78 2.81-2.81c.8-.78.8-2.07 0-2.86zM5.41 20L4 18.59l7.72-7.72 1.47 1.35L5.41 20z\"/>\n",
              "  </svg>\n",
              "      </button>\n",
              "      \n",
              "  <style>\n",
              "    .colab-df-container {\n",
              "      display:flex;\n",
              "      flex-wrap:wrap;\n",
              "      gap: 12px;\n",
              "    }\n",
              "\n",
              "    .colab-df-convert {\n",
              "      background-color: #E8F0FE;\n",
              "      border: none;\n",
              "      border-radius: 50%;\n",
              "      cursor: pointer;\n",
              "      display: none;\n",
              "      fill: #1967D2;\n",
              "      height: 32px;\n",
              "      padding: 0 0 0 0;\n",
              "      width: 32px;\n",
              "    }\n",
              "\n",
              "    .colab-df-convert:hover {\n",
              "      background-color: #E2EBFA;\n",
              "      box-shadow: 0px 1px 2px rgba(60, 64, 67, 0.3), 0px 1px 3px 1px rgba(60, 64, 67, 0.15);\n",
              "      fill: #174EA6;\n",
              "    }\n",
              "\n",
              "    [theme=dark] .colab-df-convert {\n",
              "      background-color: #3B4455;\n",
              "      fill: #D2E3FC;\n",
              "    }\n",
              "\n",
              "    [theme=dark] .colab-df-convert:hover {\n",
              "      background-color: #434B5C;\n",
              "      box-shadow: 0px 1px 3px 1px rgba(0, 0, 0, 0.15);\n",
              "      filter: drop-shadow(0px 1px 2px rgba(0, 0, 0, 0.3));\n",
              "      fill: #FFFFFF;\n",
              "    }\n",
              "  </style>\n",
              "\n",
              "      <script>\n",
              "        const buttonEl =\n",
              "          document.querySelector('#df-2fece8a7-0560-4e8c-8d19-30c92e73954e button.colab-df-convert');\n",
              "        buttonEl.style.display =\n",
              "          google.colab.kernel.accessAllowed ? 'block' : 'none';\n",
              "\n",
              "        async function convertToInteractive(key) {\n",
              "          const element = document.querySelector('#df-2fece8a7-0560-4e8c-8d19-30c92e73954e');\n",
              "          const dataTable =\n",
              "            await google.colab.kernel.invokeFunction('convertToInteractive',\n",
              "                                                     [key], {});\n",
              "          if (!dataTable) return;\n",
              "\n",
              "          const docLinkHtml = 'Like what you see? Visit the ' +\n",
              "            '<a target=\"_blank\" href=https://colab.research.google.com/notebooks/data_table.ipynb>data table notebook</a>'\n",
              "            + ' to learn more about interactive tables.';\n",
              "          element.innerHTML = '';\n",
              "          dataTable['output_type'] = 'display_data';\n",
              "          await google.colab.output.renderOutput(dataTable, element);\n",
              "          const docLink = document.createElement('div');\n",
              "          docLink.innerHTML = docLinkHtml;\n",
              "          element.appendChild(docLink);\n",
              "        }\n",
              "      </script>\n",
              "    </div>\n",
              "  </div>\n",
              "  "
            ]
          },
          "metadata": {},
          "execution_count": 26
        }
      ],
      "source": [
        "filtered_data = df1 [df1 [\"Sentiment_rating\"]==0] \n",
        "filtered_data.head(5)"
      ]
    },
    {
      "cell_type": "markdown",
      "source": [
        "The following code cell will increase the number of negative reviews to match that of the positive class. Upsampled_data is the merged dataframe that we get after upsampling. "
      ],
      "metadata": {
        "id": "wN-MO6oAIwVG"
      }
    },
    {
      "cell_type": "code",
      "execution_count": null,
      "metadata": {
        "id": "fQ52zKPr7ySH"
      },
      "outputs": [],
      "source": [
        "#create two different dataframe of majority and minority class \n",
        "cls_majority =df1[(df1['Sentiment_rating']==1)] \n",
        "cls_minority = df1[(df1['Sentiment_rating']==0)] \n",
        "\n",
        "# upsample minority class\n",
        "cls_minority_upsampled = resample(cls_minority, \n",
        "                                 replace=True,    #sample with replacement\n",
        "                                 n_samples= 443777, #to match majority class\n",
        "                                 random_state=42)  \n",
        "# Combine majority class with upsampled minority class\n",
        "upsampled_data = pd.concat([cls_minority_upsampled, cls_majority])"
      ]
    },
    {
      "cell_type": "code",
      "execution_count": null,
      "metadata": {
        "colab": {
          "base_uri": "https://localhost:8080/"
        },
        "id": "vvGZB8cowWw3",
        "outputId": "ebf97366-1144-42c6-efc3-249df313cfc2"
      },
      "outputs": [
        {
          "output_type": "execute_result",
          "data": {
            "text/plain": [
              "(887554, 4)"
            ]
          },
          "metadata": {},
          "execution_count": 28
        }
      ],
      "source": [
        "upsampled_data.shape"
      ]
    },
    {
      "cell_type": "markdown",
      "source": [
        "The following cell shuffles all the rows in the merged datframe.  "
      ],
      "metadata": {
        "id": "I42KpDFQJeFb"
      }
    },
    {
      "cell_type": "code",
      "execution_count": null,
      "metadata": {
        "id": "uV4KhpFYZCBE"
      },
      "outputs": [],
      "source": [
        "upsampled_data = upsampled_data.sample(frac=1).reset_index(drop=True)"
      ]
    },
    {
      "cell_type": "markdown",
      "source": [
        "Looking at the value counts again we can see that the imbalanced classes problem is now resolved. "
      ],
      "metadata": {
        "id": "oQYCYI0oJuMi"
      }
    },
    {
      "cell_type": "code",
      "execution_count": null,
      "metadata": {
        "colab": {
          "base_uri": "https://localhost:8080/"
        },
        "id": "6Zix7-zSxwyT",
        "outputId": "c7d8b2e5-8bef-4e08-dddc-d7658e216b7f"
      },
      "outputs": [
        {
          "output_type": "execute_result",
          "data": {
            "text/plain": [
              "1    443777\n",
              "0    443777\n",
              "Name: Sentiment_rating, dtype: int64"
            ]
          },
          "metadata": {},
          "execution_count": 31
        }
      ],
      "source": [
        "upsampled_data['Sentiment_rating'].value_counts()"
      ]
    },
    {
      "cell_type": "code",
      "execution_count": null,
      "metadata": {
        "colab": {
          "base_uri": "https://localhost:8080/"
        },
        "id": "rzS_oxJij2qY",
        "outputId": "c7adc2b6-97c0-4896-8a80-f824810e056f"
      },
      "outputs": [
        {
          "output_type": "execute_result",
          "data": {
            "text/plain": [
              "0         excellent selection taste ordered cheese selec...\n",
              "1         mix definitely does not produce hot sour soup ...\n",
              "2         disappointed took forever ship did arrive not ...\n",
              "3         not order product received product missing lid...\n",
              "4         unlike real coconut milk obviously personal pr...\n",
              "                                ...                        \n",
              "887549    love son months old great healthy snacks great...\n",
              "887550    boys eat wont eat surprised expected thicker m...\n",
              "887551    try admit im coffee snob vice fell love coffee...\n",
              "887552    works like advertised reading reviews hesitant...\n",
              "887553    great purchase target couple months ago never ...\n",
              "Name: Stopwords, Length: 887554, dtype: object"
            ]
          },
          "metadata": {},
          "execution_count": 32
        }
      ],
      "source": [
        "upsampled_data['Stopwords']"
      ]
    },
    {
      "cell_type": "markdown",
      "source": [
        "In the following cells The entire corpus is tokenised and stored in a list (story) of lists, on which the Word2Vec model will be trained. The sent_tokenise method from NLTK library and simple_preprocess from gensim is used for "
      ],
      "metadata": {
        "id": "QZkNiNEtNBBX"
      }
    },
    {
      "cell_type": "code",
      "execution_count": null,
      "metadata": {
        "id": "GYlji9a8lYLj"
      },
      "outputs": [],
      "source": [
        "story = []\n",
        "for doc in upsampled_data['Stopwords']:\n",
        "    raw_sent = sent_tokenize(doc)\n",
        "    for sent in raw_sent:\n",
        "        story.append(simple_preprocess(sent))"
      ]
    },
    {
      "cell_type": "code",
      "execution_count": null,
      "metadata": {
        "id": "mJophAhBRIdA",
        "colab": {
          "base_uri": "https://localhost:8080/"
        },
        "outputId": "9a427f6b-5401-4760-f18f-31acb56f7a3c"
      },
      "outputs": [
        {
          "output_type": "stream",
          "name": "stdout",
          "text": [
            "[['excellent', 'selection', 'taste', 'ordered', 'cheese', 'selection', 'twice', 'really', 'wonderful', 'great', 'selection', 'cheeses', 'tasty', 'served', 'parties', 'received', 'rave', 'reviews', 'negative', 'second', 'shipment', 'arrived', 'cheese', 'warm', 'inside', 'brought', 'inside', 'moment', 'delivered', 'cooler', 'box', 'ice', 'pack', 'turned', 'hot', 'worried', 'gone', 'bad', 'ok', 'just', 'make', 'sure', 'home', 'fridge', 'shortly', 'arrival']]\n"
          ]
        }
      ],
      "source": [
        "print(story[:1])"
      ]
    },
    {
      "cell_type": "markdown",
      "source": [
        "The Word2Vec model object is made with a word window of 5 words(one center word and 2 words on either side of it), a minimum count of 50 and with the dimension of each word vector in the model given by MAX_LEN i.e. 100 in this case.  "
      ],
      "metadata": {
        "id": "uPEjhwvvN9fV"
      }
    },
    {
      "cell_type": "code",
      "execution_count": null,
      "metadata": {
        "id": "vtefFksp-AE5"
      },
      "outputs": [],
      "source": [
        "MAX_LEN=100\n",
        "w2v_model = gensim.models.Word2Vec(min_count=50,\n",
        "                     window=5,\n",
        "                     size=MAX_LEN, workers=4)"
      ]
    },
    {
      "cell_type": "code",
      "execution_count": null,
      "metadata": {
        "id": "QhxSCHA1-bda"
      },
      "outputs": [],
      "source": [
        "w2v_model.build_vocab(story, progress_per=10000)\n"
      ]
    },
    {
      "cell_type": "markdown",
      "source": [
        "Training the Word2Vec model( add more deets)"
      ],
      "metadata": {
        "id": "aRG9S4eOO3b0"
      }
    },
    {
      "cell_type": "code",
      "execution_count": null,
      "metadata": {
        "id": "bVYI3zED-sH-",
        "colab": {
          "base_uri": "https://localhost:8080/"
        },
        "outputId": "9f5857b4-659f-4d8f-aa28-898cf755bc6a"
      },
      "outputs": [
        {
          "output_type": "execute_result",
          "data": {
            "text/plain": [
              "(162344253, 182076200)"
            ]
          },
          "metadata": {},
          "execution_count": 38
        }
      ],
      "source": [
        "w2v_model.train(story, total_examples=w2v_model.corpus_count, epochs=5, report_delay=1)"
      ]
    },
    {
      "cell_type": "code",
      "execution_count": null,
      "metadata": {
        "id": "HMs_n9kVDbpL"
      },
      "outputs": [],
      "source": [
        "word_vectors = w2v_model.wv"
      ]
    },
    {
      "cell_type": "code",
      "execution_count": null,
      "metadata": {
        "id": "0CA5Jo-QDw6E"
      },
      "outputs": [],
      "source": [
        "# from gensim.models import KeyedVectors\n",
        "# word_vectors.save('vectors.kv')\n",
        "# reloaded_word_vectors = KeyedVectors.load('vectors.kv')"
      ]
    },
    {
      "cell_type": "markdown",
      "source": [
        "Storing the trained embeddings of the words, so that they can be loaded later. "
      ],
      "metadata": {
        "id": "zglOGmPXkvM4"
      }
    },
    {
      "cell_type": "code",
      "execution_count": null,
      "metadata": {
        "id": "MsXB5XRPxUEz",
        "colab": {
          "base_uri": "https://localhost:8080/"
        },
        "outputId": "9904ab2d-a30f-41fc-ad12-62566f2300fb"
      },
      "outputs": [
        {
          "output_type": "stream",
          "name": "stdout",
          "text": [
            "[-0.53780645 -0.41370535 -1.9732095   0.8467889   0.22182095  0.81572926\n",
            "  1.1508263   0.4743786  -2.7572014  -2.213048   -1.0816814  -1.3829074\n",
            " -0.7669633   3.066512    2.4213195  -1.3997512  -1.5037237  -0.7463002\n",
            " -1.275197   -2.704095    1.2044109  -0.9007893   1.4499773  -0.17777734\n",
            " -0.04386704 -0.4868434   0.44216216 -0.9373418  -1.6249427  -0.05881762\n",
            "  2.3495612  -0.2097799  -0.8713185   1.7084804   0.45309675  0.88372463\n",
            " -0.34778112  0.81427217 -2.304753    0.42495555  1.2662002   1.6129582\n",
            " -0.49834234  1.1410975  -0.5875523   0.8842714  -0.9542162  -1.1690518\n",
            " -1.8623273  -0.4069023  -0.28635353  1.3006012   0.23535249 -3.915117\n",
            " -0.15440974  0.7620812  -1.2763207   1.6673107  -0.837192   -0.12972921\n",
            "  2.792905   -0.8326919  -0.35150883 -1.9451517  -0.911515   -1.3506213\n",
            " -1.4087104   0.20078671  1.2059226   0.11199522 -0.7153163   0.4908655\n",
            " -1.1787988   0.8951511  -1.4157714  -1.8135982  -0.6398181   0.23208667\n",
            "  1.2133862  -1.0861202  -1.2375389   1.1063491   0.8024126   2.056403\n",
            " -3.231007    2.7882285  -1.0733925  -1.2848248   0.07275017 -2.025284\n",
            " -0.54777956  0.06929758  0.3975532  -0.49439147  0.84690416  2.0920146\n",
            "  0.86820567 -1.1301847  -0.02154228 -1.8194934 ]\n"
          ]
        }
      ],
      "source": [
        "word_vectors = w2v_model.wv\n",
        "word_vectors.save(\"word2vec.wordvectors\")\n",
        "wv = KeyedVectors.load(\"word2vec.wordvectors\", mmap='r')\n",
        "vector = wv['good']\n",
        "print(vector)"
      ]
    },
    {
      "cell_type": "markdown",
      "source": [
        "Size of the vocab is defined by the Word2Vec model depending on the minimum word count specified earlier.  "
      ],
      "metadata": {
        "id": "PFi9lakCP4RU"
      }
    },
    {
      "cell_type": "code",
      "execution_count": null,
      "metadata": {
        "id": "X7G235h-Qq9b",
        "colab": {
          "base_uri": "https://localhost:8080/"
        },
        "outputId": "939167ca-80a8-4bda-f5f7-d36c957caada"
      },
      "outputs": [
        {
          "output_type": "stream",
          "name": "stdout",
          "text": [
            "Vocab size 20341\n"
          ]
        }
      ],
      "source": [
        "words = w2v_model.wv.vocab.keys()\n",
        "w2v_vocab = len(words)\n",
        "print(\"Vocab size\", w2v_vocab)"
      ]
    },
    {
      "cell_type": "markdown",
      "source": [
        "Testing the w2v model with some random words. "
      ],
      "metadata": {
        "id": "AAWmHUEohg5X"
      }
    },
    {
      "cell_type": "code",
      "execution_count": null,
      "metadata": {
        "id": "hzvRpizc_DDc",
        "colab": {
          "base_uri": "https://localhost:8080/"
        },
        "outputId": "022c472b-3b31-4637-97e7-ada9a4d7ed76"
      },
      "outputs": [
        {
          "output_type": "execute_result",
          "data": {
            "text/plain": [
              "[('good', 0.7545106410980225),\n",
              " ('great', 0.5822277069091797),\n",
              " ('reasonable', 0.5795284509658813),\n",
              " ('better', 0.5659999847412109),\n",
              " ('inexpensive', 0.5542469024658203),\n",
              " ('comparable', 0.5520479679107666),\n",
              " ('cheap', 0.5435023307800293),\n",
              " ('worthwhile', 0.5163037180900574),\n",
              " ('nice', 0.5037450790405273),\n",
              " ('goodbr', 0.49666285514831543)]"
            ]
          },
          "metadata": {},
          "execution_count": 44
        }
      ],
      "source": [
        "w2v_model.wv.most_similar(positive=[\"decent\"])"
      ]
    },
    {
      "cell_type": "code",
      "execution_count": null,
      "metadata": {
        "id": "OEtvLNThR6Qn",
        "colab": {
          "base_uri": "https://localhost:8080/"
        },
        "outputId": "d7596888-9756-4c5c-fad2-87d6132e7f8f"
      },
      "outputs": [
        {
          "output_type": "stream",
          "name": "stdout",
          "text": [
            "Total words 203999\n",
            "The document count 887553\n"
          ]
        }
      ],
      "source": [
        "tokenizer = Tokenizer(num_words=w2v_vocab)\n",
        "tokenizer.fit_on_texts(story)\n",
        "token_vocab = len(tokenizer.word_index) + 1\n",
        "print(\"Total words\", token_vocab)\n",
        "print(\"The document count\",tokenizer.document_count)"
      ]
    },
    {
      "cell_type": "markdown",
      "source": [
        "Padding each of the documents in the vocab with 0s to make all of them the same length. "
      ],
      "metadata": {
        "id": "oXBNa8lQhuaw"
      }
    },
    {
      "cell_type": "code",
      "execution_count": null,
      "metadata": {
        "id": "lAFbyKQBIu1k",
        "colab": {
          "base_uri": "https://localhost:8080/"
        },
        "outputId": "7360a307-336d-40b1-a93b-80b859b30a7f"
      },
      "outputs": [
        {
          "output_type": "stream",
          "name": "stdout",
          "text": [
            "(887554, 100)\n"
          ]
        }
      ],
      "source": [
        "sequences = tokenizer.texts_to_sequences(upsampled_data['Stopwords'])\n",
        "data = pad_sequences(sequences, maxlen= MAX_LEN,padding='post') \n",
        "print(data.shape) \n"
      ]
    },
    {
      "cell_type": "markdown",
      "source": [
        "Looking at one of the documents."
      ],
      "metadata": {
        "id": "0HP5BndNiExW"
      }
    },
    {
      "cell_type": "code",
      "execution_count": null,
      "metadata": {
        "id": "Cg42r_1rKoyT",
        "colab": {
          "base_uri": "https://localhost:8080/"
        },
        "outputId": "b1674996-e284-4c28-eaf7-38ea069a5a19"
      },
      "outputs": [
        {
          "output_type": "stream",
          "name": "stdout",
          "text": [
            "[   78   144    55     1  1394    72   530   287     4    97    75    78\n",
            "    55  1394   234   287   159     4    97    75   287   209  1673   125\n",
            "  2297 13702  5139   209  3662   342    78   245    55     1     5     2\n",
            "    72   530   287  1426   527 17722    82   287  3226   917  1161  1888\n",
            "    22     6   230   102   138   287   155   516  1356   472    78  2228\n",
            "  1442  1397   130  1703  1159  1424   392    65   287    31   287  1759\n",
            "     0     0     0     0     0     0     0     0     0     0     0     0\n",
            "     0     0     0     0     0     0     0     0     0     0     0     0\n",
            "     0     0     0     0]\n"
          ]
        }
      ],
      "source": [
        "print(data[1]) "
      ]
    },
    {
      "cell_type": "code",
      "execution_count": null,
      "metadata": {
        "id": "nGifBDKyUIof",
        "colab": {
          "base_uri": "https://localhost:8080/"
        },
        "outputId": "9a23b043-27ec-41fc-b84c-183d6dc264f0"
      },
      "outputs": [
        {
          "output_type": "stream",
          "name": "stdout",
          "text": [
            "[[4 6 0 0 0 0 0 0 0 0 0 0 0 0 0 0 0 0 0 0 0 0 0 0 0 0 0 0 0 0 0 0 0 0 0 0\n",
            "  0 0 0 0 0 0 0 0 0 0 0 0 0 0 0 0 0 0 0 0 0 0 0 0 0 0 0 0 0 0 0 0 0 0 0 0\n",
            "  0 0 0 0 0 0 0 0 0 0 0 0 0 0 0 0 0 0 0 0 0 0 0 0 0 0 0 0]]\n"
          ]
        }
      ],
      "source": [
        "sequences = tokenizer.texts_to_sequences([\"good product \"])\n",
        "text = pad_sequences(sequences, maxlen=MAX_LEN, padding='post')\n",
        "print(text)"
      ]
    },
    {
      "cell_type": "markdown",
      "source": [
        "Creating the target data,splitting the training and testing data."
      ],
      "metadata": {
        "id": "b_HD7bQliT4P"
      }
    },
    {
      "cell_type": "code",
      "execution_count": null,
      "metadata": {
        "id": "zs6Ko4Z0lxa8"
      },
      "outputs": [],
      "source": [
        "y = upsampled_data['Sentiment_rating']\n",
        "X_train, X_test, y_train, y_test = train_test_split(data, y, test_size=0.25, random_state=0)"
      ]
    },
    {
      "cell_type": "markdown",
      "source": [
        "To create the embedding matrix we iterate over each item in the numpy array and if a word is found which is there in the W2v vocab, then it is retained otherwise it is replaced with a 0. \n",
        "  "
      ],
      "metadata": {
        "id": "_9Ry0v6flkM6"
      }
    },
    {
      "cell_type": "code",
      "execution_count": null,
      "metadata": {
        "id": "iBVLxjuPNakL",
        "colab": {
          "base_uri": "https://localhost:8080/"
        },
        "outputId": "a7831ec4-b269-4d9b-b51e-09bce5ee8f79"
      },
      "outputs": [
        {
          "output_type": "stream",
          "name": "stdout",
          "text": [
            "20341\n",
            "[[ 0.          0.          0.         ...  0.          0.\n",
            "   0.        ]\n",
            " [-1.73174977  2.21027279 -0.6248222  ...  1.01257563  0.48367384\n",
            "  -0.83294106]\n",
            " [-1.323897    1.39563298 -0.3833271  ... -2.14701891 -0.76394325\n",
            "  -0.2782968 ]\n",
            " ...\n",
            " [-0.13216017 -0.54345822 -0.05464322 ... -0.47331512 -0.33246368\n",
            "   0.09086863]\n",
            " [-0.52013224 -0.83948624  0.56147557 ...  0.25054422 -0.26857659\n",
            "  -0.09614883]\n",
            " [-0.13701403  0.36097184 -0.40051398 ... -0.06150776  0.05823784\n",
            "   1.02238548]]\n"
          ]
        }
      ],
      "source": [
        "print(w2v_vocab)\n",
        "embedding_matrix = np.zeros((w2v_vocab +1, MAX_LEN))\n",
        "for word, i in tokenizer.word_index.items():\n",
        "  if word in w2v_model.wv:\n",
        "    embedding_matrix[i] = w2v_model.wv[word]\n",
        "print(embedding_matrix)"
      ]
    },
    {
      "cell_type": "code",
      "execution_count": null,
      "metadata": {
        "id": "zw3NrkY_FDb7",
        "colab": {
          "base_uri": "https://localhost:8080/"
        },
        "outputId": "bc624a2a-aad2-40eb-acfe-8f0615eba680"
      },
      "outputs": [
        {
          "output_type": "execute_result",
          "data": {
            "text/plain": [
              "(20342, 100)"
            ]
          },
          "metadata": {},
          "execution_count": 53
        }
      ],
      "source": [
        "embedding_matrix.shape"
      ]
    },
    {
      "cell_type": "markdown",
      "source": [
        "Creating the embedding layer to input in the LSTM model."
      ],
      "metadata": {
        "id": "yTZkAeLymMUP"
      }
    },
    {
      "cell_type": "code",
      "execution_count": null,
      "metadata": {
        "id": "g2Hy6noiNsmH"
      },
      "outputs": [],
      "source": [
        "embedding_layer = Embedding(w2v_vocab+1,output_dim=MAX_LEN, weights=[embedding_matrix], input_length=MAX_LEN, trainable=False)\n"
      ]
    },
    {
      "cell_type": "code",
      "execution_count": null,
      "metadata": {
        "id": "E3TtfjifOpRD",
        "colab": {
          "base_uri": "https://localhost:8080/"
        },
        "outputId": "2e110a3c-2940-4cbe-b276-d9c90481d6e2"
      },
      "outputs": [
        {
          "output_type": "stream",
          "name": "stderr",
          "text": [
            "WARNING:tensorflow:Layer lstm will not use cuDNN kernels since it doesn't meet the criteria. It will use a generic GPU kernel as fallback when running on GPU.\n"
          ]
        },
        {
          "output_type": "stream",
          "name": "stdout",
          "text": [
            "Model: \"sequential\"\n",
            "_________________________________________________________________\n",
            " Layer (type)                Output Shape              Param #   \n",
            "=================================================================\n",
            " embedding (Embedding)       (None, 100, 100)          2034200   \n",
            "                                                                 \n",
            " dropout (Dropout)           (None, 100, 100)          0         \n",
            "                                                                 \n",
            " lstm (LSTM)                 (None, 100)               80400     \n",
            "                                                                 \n",
            " dense (Dense)               (None, 1)                 101       \n",
            "                                                                 \n",
            "=================================================================\n",
            "Total params: 2,114,701\n",
            "Trainable params: 80,501\n",
            "Non-trainable params: 2,034,200\n",
            "_________________________________________________________________\n"
          ]
        }
      ],
      "source": [
        "model = Sequential()\n",
        "model.add(embedding_layer)\n",
        "model.add(Dropout(0.5))\n",
        "model.add(LSTM(100, dropout=0.2, recurrent_dropout=0.2))\n",
        "model.add(Dense(1, activation='sigmoid'))\n",
        "\n",
        "model.summary()"
      ]
    },
    {
      "cell_type": "code",
      "execution_count": null,
      "metadata": {
        "id": "WCHC7mLoOpja"
      },
      "outputs": [],
      "source": [
        "model.compile(loss='binary_crossentropy',\n",
        "              optimizer=\"adam\",\n",
        "              metrics=['accuracy'])"
      ]
    },
    {
      "cell_type": "code",
      "execution_count": null,
      "metadata": {
        "id": "Va2gVjiUhRdl",
        "colab": {
          "base_uri": "https://localhost:8080/"
        },
        "outputId": "4ecc204d-61d2-44e8-f4a6-72e37791c0e3"
      },
      "outputs": [
        {
          "output_type": "stream",
          "name": "stdout",
          "text": [
            "Epoch 1/30\n",
            "976/976 [==============================] - 285s 287ms/step - loss: 0.3061 - accuracy: 0.8644 - val_loss: 0.1897 - val_accuracy: 0.9247\n",
            "Epoch 2/30\n",
            "976/976 [==============================] - 280s 287ms/step - loss: 0.2191 - accuracy: 0.9126 - val_loss: 0.1704 - val_accuracy: 0.9332\n",
            "Epoch 3/30\n",
            "976/976 [==============================] - 283s 290ms/step - loss: 0.2040 - accuracy: 0.9189 - val_loss: 0.1673 - val_accuracy: 0.9362\n",
            "Epoch 4/30\n",
            "976/976 [==============================] - 279s 286ms/step - loss: 0.1945 - accuracy: 0.9229 - val_loss: 0.1608 - val_accuracy: 0.9369\n",
            "Epoch 5/30\n",
            "976/976 [==============================] - 278s 285ms/step - loss: 0.1877 - accuracy: 0.9257 - val_loss: 0.1490 - val_accuracy: 0.9427\n",
            "Epoch 6/30\n",
            "976/976 [==============================] - 277s 284ms/step - loss: 0.1832 - accuracy: 0.9278 - val_loss: 0.1453 - val_accuracy: 0.9452\n",
            "Epoch 7/30\n",
            "976/976 [==============================] - 278s 285ms/step - loss: 0.1793 - accuracy: 0.9295 - val_loss: 0.1424 - val_accuracy: 0.9473\n",
            "Epoch 8/30\n",
            "976/976 [==============================] - 278s 285ms/step - loss: 0.1767 - accuracy: 0.9308 - val_loss: 0.1393 - val_accuracy: 0.9468\n",
            "Epoch 9/30\n",
            "976/976 [==============================] - 279s 286ms/step - loss: 0.1744 - accuracy: 0.9316 - val_loss: 0.1396 - val_accuracy: 0.9481\n",
            "Epoch 10/30\n",
            "976/976 [==============================] - 278s 285ms/step - loss: 0.1720 - accuracy: 0.9324 - val_loss: 0.1381 - val_accuracy: 0.9476\n",
            "Epoch 11/30\n",
            "976/976 [==============================] - 278s 285ms/step - loss: 0.1706 - accuracy: 0.9331 - val_loss: 0.1402 - val_accuracy: 0.9474\n",
            "Epoch 12/30\n",
            "976/976 [==============================] - 278s 285ms/step - loss: 0.1691 - accuracy: 0.9338 - val_loss: 0.1348 - val_accuracy: 0.9497\n",
            "Epoch 13/30\n",
            "976/976 [==============================] - 278s 285ms/step - loss: 0.1672 - accuracy: 0.9346 - val_loss: 0.1329 - val_accuracy: 0.9501\n",
            "Epoch 14/30\n",
            "976/976 [==============================] - 278s 285ms/step - loss: 0.1663 - accuracy: 0.9351 - val_loss: 0.1332 - val_accuracy: 0.9505\n",
            "Epoch 15/30\n",
            "976/976 [==============================] - 277s 284ms/step - loss: 0.1649 - accuracy: 0.9356 - val_loss: 0.1324 - val_accuracy: 0.9504\n",
            "Epoch 16/30\n",
            "976/976 [==============================] - 277s 284ms/step - loss: 0.1641 - accuracy: 0.9359 - val_loss: 0.1269 - val_accuracy: 0.9531\n",
            "Epoch 17/30\n",
            "976/976 [==============================] - 278s 285ms/step - loss: 0.1633 - accuracy: 0.9359 - val_loss: 0.1275 - val_accuracy: 0.9519\n",
            "Epoch 18/30\n",
            "976/976 [==============================] - 278s 285ms/step - loss: 0.1618 - accuracy: 0.9371 - val_loss: 0.1265 - val_accuracy: 0.9531\n",
            "Epoch 19/30\n",
            "976/976 [==============================] - 278s 285ms/step - loss: 0.1615 - accuracy: 0.9370 - val_loss: 0.1260 - val_accuracy: 0.9529\n",
            "Epoch 20/30\n",
            "976/976 [==============================] - 278s 285ms/step - loss: 0.1608 - accuracy: 0.9375 - val_loss: 0.1238 - val_accuracy: 0.9539\n",
            "Epoch 21/30\n",
            "976/976 [==============================] - 278s 285ms/step - loss: 0.1595 - accuracy: 0.9379 - val_loss: 0.1285 - val_accuracy: 0.9519\n",
            "Epoch 22/30\n",
            "976/976 [==============================] - 279s 286ms/step - loss: 0.1594 - accuracy: 0.9381 - val_loss: 0.1219 - val_accuracy: 0.9546\n",
            "Epoch 23/30\n",
            "976/976 [==============================] - 279s 286ms/step - loss: 0.1587 - accuracy: 0.9383 - val_loss: 0.1266 - val_accuracy: 0.9521\n",
            "Epoch 24/30\n",
            "976/976 [==============================] - 279s 286ms/step - loss: 0.1577 - accuracy: 0.9387 - val_loss: 0.1246 - val_accuracy: 0.9532\n",
            "Epoch 25/30\n",
            "976/976 [==============================] - 278s 285ms/step - loss: 0.1571 - accuracy: 0.9388 - val_loss: 0.1214 - val_accuracy: 0.9551\n",
            "Epoch 26/30\n",
            "976/976 [==============================] - 278s 285ms/step - loss: 0.1570 - accuracy: 0.9391 - val_loss: 0.1202 - val_accuracy: 0.9550\n",
            "Epoch 27/30\n",
            "976/976 [==============================] - 278s 285ms/step - loss: 0.1565 - accuracy: 0.9393 - val_loss: 0.1213 - val_accuracy: 0.9547\n",
            "Epoch 28/30\n",
            "976/976 [==============================] - 275s 282ms/step - loss: 0.1559 - accuracy: 0.9396 - val_loss: 0.1215 - val_accuracy: 0.9555\n",
            "Epoch 29/30\n",
            "976/976 [==============================] - 273s 280ms/step - loss: 0.1564 - accuracy: 0.9392 - val_loss: 0.1206 - val_accuracy: 0.9559\n",
            "Epoch 30/30\n",
            "976/976 [==============================] - 273s 280ms/step - loss: 0.1559 - accuracy: 0.9394 - val_loss: 0.1192 - val_accuracy: 0.9560\n"
          ]
        }
      ],
      "source": [
        "history = model.fit(X_train, y_train,\n",
        "                    batch_size=512,\n",
        "                    epochs=30,\n",
        "                    validation_split=0.25,\n",
        "                    verbose=1)"
      ]
    },
    {
      "cell_type": "code",
      "execution_count": null,
      "metadata": {
        "id": "TLIdWQf0mfPI",
        "colab": {
          "base_uri": "https://localhost:8080/"
        },
        "outputId": "8ce90064-2716-4186-cc8c-e1b6c03a0812"
      },
      "outputs": [
        {
          "output_type": "stream",
          "name": "stdout",
          "text": [
            "434/434 [==============================] - 10s 23ms/step - loss: 0.1198 - accuracy: 0.9562\n",
            "\n",
            "ACCURACY: 0.9561898112297058\n",
            "LOSS: 0.1198359876871109\n"
          ]
        }
      ],
      "source": [
        "score = model.evaluate(X_test, y_test, batch_size=512)\n",
        "print()\n",
        "print(\"ACCURACY:\",score[1])\n",
        "print(\"LOSS:\",score[0])"
      ]
    },
    {
      "cell_type": "code",
      "execution_count": null,
      "metadata": {
        "id": "m1X2CZneNuw8",
        "colab": {
          "base_uri": "https://localhost:8080/"
        },
        "outputId": "96d8060f-632b-4c6b-91c2-e38c6dbae1dc"
      },
      "outputs": [
        {
          "output_type": "execute_result",
          "data": {
            "text/plain": [
              "array([[7.5518648e-04],\n",
              "       [4.4553432e-05],\n",
              "       [6.7308848e-04],\n",
              "       [9.9912304e-01],\n",
              "       [2.3175877e-02],\n",
              "       [2.8295234e-02],\n",
              "       [8.9279665e-03],\n",
              "       [7.3099397e-02],\n",
              "       [3.5232643e-03],\n",
              "       [9.9742031e-01]], dtype=float32)"
            ]
          },
          "metadata": {},
          "execution_count": 61
        }
      ],
      "source": [
        "prediction= model.predict(X_test[200:210])\n",
        "prediction"
      ]
    },
    {
      "cell_type": "code",
      "execution_count": null,
      "metadata": {
        "id": "EO3ZJQ1tQueZ"
      },
      "outputs": [],
      "source": [
        "y_test[200:210]"
      ]
    },
    {
      "cell_type": "markdown",
      "source": [
        "Function that makes the final prediction for the preprocessed input, on the basis of the LSTM model that we trained. "
      ],
      "metadata": {
        "id": "csyF3Pe4m5gY"
      }
    },
    {
      "cell_type": "code",
      "execution_count": null,
      "metadata": {
        "id": "4DpsJHh8lue4"
      },
      "outputs": [],
      "source": [
        "def model_pred(review):\n",
        "  pred_value=model.predict(review)\n",
        "  print(pred_value)\n",
        "  if pred_value > 0.55:\n",
        "    return (\"Review indicates positive sentiment\")\n",
        "  else:\n",
        "    return (\"Review indicates negative sentiment\")"
      ]
    },
    {
      "cell_type": "markdown",
      "source": [
        "Function that cleans punctuation,removes stopwords and tokenises the input sent through the Anvil application.  "
      ],
      "metadata": {
        "id": "1_dMiLtGmqzq"
      }
    },
    {
      "cell_type": "code",
      "execution_count": null,
      "metadata": {
        "id": "Vz9fWaLV7gBj"
      },
      "outputs": [],
      "source": [
        "def clean_tokenise_input_webapp(review):\n",
        "  \n",
        "  review= clean_text(review)\n",
        "  review= remove_stopwords(review)\n",
        "  print (review)\n",
        "  sequences = tokenizer.texts_to_sequences([review])\n",
        "  padded_text = pad_sequences(sequences, maxlen=MAX_LEN, padding='post')\n",
        "  print(padded_text)\n",
        "  return padded_text\n",
        "\n",
        "sample=clean_tokenise_input_webapp('This product works just half the time')\n",
        "sentiment=model_pred(sample)\n",
        "print(sentiment)"
      ]
    },
    {
      "cell_type": "markdown",
      "source": [
        "Function to receive input from the Anvil server. "
      ],
      "metadata": {
        "id": "u6cNavOynax4"
      }
    },
    {
      "cell_type": "code",
      "execution_count": null,
      "metadata": {
        "colab": {
          "base_uri": "https://localhost:8080/",
          "height": 1000
        },
        "id": "yC5JZDnfm49n",
        "outputId": "12cfd3f2-0f88-48b5-acf0-e0abad541ac1"
      },
      "outputs": [
        {
          "metadata": {
            "tags": null
          },
          "name": "stdout",
          "output_type": "stream",
          "text": [
            "Connecting to wss://anvil.works/uplink\n",
            "Anvil websocket open\n",
            "Connected to \"Default environment\" as SERVER\n",
            "Hello from your own machine: ----Good book----\n",
            "good book\n",
            "[[   4 1703    0    0    0    0    0    0    0    0    0    0    0    0\n",
            "     0    0    0    0    0    0    0    0    0    0    0    0    0    0\n",
            "     0    0    0    0    0    0    0    0    0    0    0    0    0    0\n",
            "     0    0    0    0    0    0    0    0    0    0    0    0    0    0\n",
            "     0    0    0    0    0    0    0    0    0    0    0    0    0    0\n",
            "     0    0    0    0    0    0    0    0    0    0    0    0    0    0\n",
            "     0    0    0    0    0    0    0    0    0    0    0    0    0    0\n",
            "     0    0]]\n",
            "[[0.95972896]]\n",
            "Hello from your own machine: ----not that great----\n",
            "not great\n",
            "[[1 8 0 0 0 0 0 0 0 0 0 0 0 0 0 0 0 0 0 0 0 0 0 0 0 0 0 0 0 0 0 0 0 0 0 0\n",
            "  0 0 0 0 0 0 0 0 0 0 0 0 0 0 0 0 0 0 0 0 0 0 0 0 0 0 0 0 0 0 0 0 0 0 0 0\n",
            "  0 0 0 0 0 0 0 0 0 0 0 0 0 0 0 0 0 0 0 0 0 0 0 0 0 0 0 0]]\n",
            "[[0.04379806]]\n",
            "Hello from your own machine: ----The book is decent but very overpriced----\n",
            "book decent overpriced\n",
            "[[1703  597  836    0    0    0    0    0    0    0    0    0    0    0\n",
            "     0    0    0    0    0    0    0    0    0    0    0    0    0    0\n",
            "     0    0    0    0    0    0    0    0    0    0    0    0    0    0\n",
            "     0    0    0    0    0    0    0    0    0    0    0    0    0    0\n",
            "     0    0    0    0    0    0    0    0    0    0    0    0    0    0\n",
            "     0    0    0    0    0    0    0    0    0    0    0    0    0    0\n",
            "     0    0    0    0    0    0    0    0    0    0    0    0    0    0\n",
            "     0    0]]\n",
            "[[0.36800754]]\n",
            "Hello from your own machine: ----The book is decent by overpriced----\n",
            "book decent overpriced\n",
            "[[1703  597  836    0    0    0    0    0    0    0    0    0    0    0\n",
            "     0    0    0    0    0    0    0    0    0    0    0    0    0    0\n",
            "     0    0    0    0    0    0    0    0    0    0    0    0    0    0\n",
            "     0    0    0    0    0    0    0    0    0    0    0    0    0    0\n",
            "     0    0    0    0    0    0    0    0    0    0    0    0    0    0\n",
            "     0    0    0    0    0    0    0    0    0    0    0    0    0    0\n",
            "     0    0    0    0    0    0    0    0    0    0    0    0    0    0\n",
            "     0    0]]\n",
            "[[0.36800754]]\n",
            "Hello from your own machine: ----The book was interesting initially but a bit lengthy. I would recommend it.----\n",
            "book interesting initially bit lengthy recommend\n",
            "[[ 1703  1148  1370    80 11172    66     0     0     0     0     0     0\n",
            "      0     0     0     0     0     0     0     0     0     0     0     0\n",
            "      0     0     0     0     0     0     0     0     0     0     0     0\n",
            "      0     0     0     0     0     0     0     0     0     0     0     0\n",
            "      0     0     0     0     0     0     0     0     0     0     0     0\n",
            "      0     0     0     0     0     0     0     0     0     0     0     0\n",
            "      0     0     0     0     0     0     0     0     0     0     0     0\n",
            "      0     0     0     0     0     0     0     0     0     0     0     0\n",
            "      0     0     0     0]]\n",
            "[[0.95153815]]\n",
            "Hello from your own machine: ----The book was a bit lengthy. I would recommend it.----\n",
            "book bit lengthy recommend\n",
            "[[ 1703    80 11172    66     0     0     0     0     0     0     0     0\n",
            "      0     0     0     0     0     0     0     0     0     0     0     0\n",
            "      0     0     0     0     0     0     0     0     0     0     0     0\n",
            "      0     0     0     0     0     0     0     0     0     0     0     0\n",
            "      0     0     0     0     0     0     0     0     0     0     0     0\n",
            "      0     0     0     0     0     0     0     0     0     0     0     0\n",
            "      0     0     0     0     0     0     0     0     0     0     0     0\n",
            "      0     0     0     0     0     0     0     0     0     0     0     0\n",
            "      0     0     0     0]]\n",
            "[[0.91864586]]\n",
            "Hello from your own machine: ----The book was interesting in the beginning but dragged on in the end. I would not recommend it.----\n",
            "book interesting beginning dragged end not recommend\n",
            "[[ 1703  1148  1637 15779   335     1    66     0     0     0     0     0\n",
            "      0     0     0     0     0     0     0     0     0     0     0     0\n",
            "      0     0     0     0     0     0     0     0     0     0     0     0\n",
            "      0     0     0     0     0     0     0     0     0     0     0     0\n",
            "      0     0     0     0     0     0     0     0     0     0     0     0\n",
            "      0     0     0     0     0     0     0     0     0     0     0     0\n",
            "      0     0     0     0     0     0     0     0     0     0     0     0\n",
            "      0     0     0     0     0     0     0     0     0     0     0     0\n",
            "      0     0     0     0]]\n",
            "[[0.05602466]]\n",
            "Hello from your own machine: ----The book was interesting in the beginning but dragged on in the end. I would recommend it.----\n",
            "book interesting beginning dragged end recommend\n",
            "[[ 1703  1148  1637 15779   335    66     0     0     0     0     0     0\n",
            "      0     0     0     0     0     0     0     0     0     0     0     0\n",
            "      0     0     0     0     0     0     0     0     0     0     0     0\n",
            "      0     0     0     0     0     0     0     0     0     0     0     0\n",
            "      0     0     0     0     0     0     0     0     0     0     0     0\n",
            "      0     0     0     0     0     0     0     0     0     0     0     0\n",
            "      0     0     0     0     0     0     0     0     0     0     0     0\n",
            "      0     0     0     0     0     0     0     0     0     0     0     0\n",
            "      0     0     0     0]]\n",
            "[[0.74621475]]\n",
            "Hello from your own machine: ----The book was quite boring in the beginning but dragged on in the end. I would recommend it.----\n",
            "book quite boring beginning dragged end recommend\n",
            "[[ 1703   164  2119  1637 15779   335    66     0     0     0     0     0\n",
            "      0     0     0     0     0     0     0     0     0     0     0     0\n",
            "      0     0     0     0     0     0     0     0     0     0     0     0\n",
            "      0     0     0     0     0     0     0     0     0     0     0     0\n",
            "      0     0     0     0     0     0     0     0     0     0     0     0\n",
            "      0     0     0     0     0     0     0     0     0     0     0     0\n",
            "      0     0     0     0     0     0     0     0     0     0     0     0\n",
            "      0     0     0     0     0     0     0     0     0     0     0     0\n",
            "      0     0     0     0]]\n",
            "[[0.47977188]]\n",
            "Hello from your own machine: ----The book was interesting in the beginning but the ending was boring. I would recommend it.----\n",
            "book interesting beginning ending boring recommend\n",
            "[[1703 1148 1637 6763 2119   66    0    0    0    0    0    0    0    0\n",
            "     0    0    0    0    0    0    0    0    0    0    0    0    0    0\n",
            "     0    0    0    0    0    0    0    0    0    0    0    0    0    0\n",
            "     0    0    0    0    0    0    0    0    0    0    0    0    0    0\n",
            "     0    0    0    0    0    0    0    0    0    0    0    0    0    0\n",
            "     0    0    0    0    0    0    0    0    0    0    0    0    0    0\n",
            "     0    0    0    0    0    0    0    0    0    0    0    0    0    0\n",
            "     0    0]]\n",
            "[[0.89927286]]\n",
            "Hello from your own machine: ----The book was interesting in the beginning but the ending was boring. I would not recommend it.----\n",
            "book interesting beginning ending boring not recommend\n",
            "[[1703 1148 1637 6763 2119    1   66    0    0    0    0    0    0    0\n",
            "     0    0    0    0    0    0    0    0    0    0    0    0    0    0\n",
            "     0    0    0    0    0    0    0    0    0    0    0    0    0    0\n",
            "     0    0    0    0    0    0    0    0    0    0    0    0    0    0\n",
            "     0    0    0    0    0    0    0    0    0    0    0    0    0    0\n",
            "     0    0    0    0    0    0    0    0    0    0    0    0    0    0\n",
            "     0    0    0    0    0    0    0    0    0    0    0    0    0    0\n",
            "     0    0]]\n",
            "[[0.0269241]]\n",
            "Hello from your own machine: ----The book was interesting in the beginning but the ending was interesting. I would not recommend it.----\n",
            "book interesting beginning ending interesting not recommend\n",
            "[[1703 1148 1637 6763 1148    1   66    0    0    0    0    0    0    0\n",
            "     0    0    0    0    0    0    0    0    0    0    0    0    0    0\n",
            "     0    0    0    0    0    0    0    0    0    0    0    0    0    0\n",
            "     0    0    0    0    0    0    0    0    0    0    0    0    0    0\n",
            "     0    0    0    0    0    0    0    0    0    0    0    0    0    0\n",
            "     0    0    0    0    0    0    0    0    0    0    0    0    0    0\n",
            "     0    0    0    0    0    0    0    0    0    0    0    0    0    0\n",
            "     0    0]]\n",
            "[[0.3612459]]\n",
            "Hello from your own machine: ----The book was interesting in the beginning but the ending was horrible. I would recommend it.----\n",
            "book interesting beginning ending horrible recommend\n",
            "[[1703 1148 1637 6763  238   66    0    0    0    0    0    0    0    0\n",
            "     0    0    0    0    0    0    0    0    0    0    0    0    0    0\n",
            "     0    0    0    0    0    0    0    0    0    0    0    0    0    0\n",
            "     0    0    0    0    0    0    0    0    0    0    0    0    0    0\n",
            "     0    0    0    0    0    0    0    0    0    0    0    0    0    0\n",
            "     0    0    0    0    0    0    0    0    0    0    0    0    0    0\n",
            "     0    0    0    0    0    0    0    0    0    0    0    0    0    0\n",
            "     0    0]]\n",
            "[[0.01819356]]\n",
            "Hello from your own machine: ----The book was interesting in the beginning but the ending was horrible. Still I would recommend it.----\n",
            "book interesting beginning ending horrible recommend\n",
            "[[1703 1148 1637 6763  238   66    0    0    0    0    0    0    0    0\n",
            "     0    0    0    0    0    0    0    0    0    0    0    0    0    0\n",
            "     0    0    0    0    0    0    0    0    0    0    0    0    0    0\n",
            "     0    0    0    0    0    0    0    0    0    0    0    0    0    0\n",
            "     0    0    0    0    0    0    0    0    0    0    0    0    0    0\n",
            "     0    0    0    0    0    0    0    0    0    0    0    0    0    0\n",
            "     0    0    0    0    0    0    0    0    0    0    0    0    0    0\n",
            "     0    0]]\n",
            "[[0.01819356]]\n",
            "Hello from your own machine: ----The book was interesting in the beginning but the ending was predictable.----\n",
            "book interesting beginning ending predictable\n",
            "[[ 1703  1148  1637  6763 16070     0     0     0     0     0     0     0\n",
            "      0     0     0     0     0     0     0     0     0     0     0     0\n",
            "      0     0     0     0     0     0     0     0     0     0     0     0\n",
            "      0     0     0     0     0     0     0     0     0     0     0     0\n",
            "      0     0     0     0     0     0     0     0     0     0     0     0\n",
            "      0     0     0     0     0     0     0     0     0     0     0     0\n",
            "      0     0     0     0     0     0     0     0     0     0     0     0\n",
            "      0     0     0     0     0     0     0     0     0     0     0     0\n",
            "      0     0     0     0]]\n",
            "[[0.7460204]]\n",
            "Hello from your own machine: ----The book was interesting in the beginning but the ending was not that great.----\n",
            "book interesting beginning ending not great\n",
            "[[1703 1148 1637 6763    1    8    0    0    0    0    0    0    0    0\n",
            "     0    0    0    0    0    0    0    0    0    0    0    0    0    0\n",
            "     0    0    0    0    0    0    0    0    0    0    0    0    0    0\n",
            "     0    0    0    0    0    0    0    0    0    0    0    0    0    0\n",
            "     0    0    0    0    0    0    0    0    0    0    0    0    0    0\n",
            "     0    0    0    0    0    0    0    0    0    0    0    0    0    0\n",
            "     0    0    0    0    0    0    0    0    0    0    0    0    0    0\n",
            "     0    0]]\n",
            "[[0.3282846]]\n",
            "Hello from your own machine: ----The book was interesting in the beginning but ending was like GOT----\n",
            "book interesting beginning ending like got\n",
            "[[1703 1148 1637 6763    2   44    0    0    0    0    0    0    0    0\n",
            "     0    0    0    0    0    0    0    0    0    0    0    0    0    0\n",
            "     0    0    0    0    0    0    0    0    0    0    0    0    0    0\n",
            "     0    0    0    0    0    0    0    0    0    0    0    0    0    0\n",
            "     0    0    0    0    0    0    0    0    0    0    0    0    0    0\n",
            "     0    0    0    0    0    0    0    0    0    0    0    0    0    0\n",
            "     0    0    0    0    0    0    0    0    0    0    0    0    0    0\n",
            "     0    0]]\n",
            "[[0.7873392]]\n",
            "Hello from your own machine: ----The book was interesting in the beginning but ending was like Game of Thrones----\n",
            "book interesting beginning ending like game thrones\n",
            "[[1703 1148 1637 6763    2 3020    0    0    0    0    0    0    0    0\n",
            "     0    0    0    0    0    0    0    0    0    0    0    0    0    0\n",
            "     0    0    0    0    0    0    0    0    0    0    0    0    0    0\n",
            "     0    0    0    0    0    0    0    0    0    0    0    0    0    0\n",
            "     0    0    0    0    0    0    0    0    0    0    0    0    0    0\n",
            "     0    0    0    0    0    0    0    0    0    0    0    0    0    0\n",
            "     0    0    0    0    0    0    0    0    0    0    0    0    0    0\n",
            "     0    0]]\n",
            "[[0.78833354]]\n",
            "Hello from your own machine: ----The book was basic----\n",
            "book basic\n",
            "[[1703 1999    0    0    0    0    0    0    0    0    0    0    0    0\n",
            "     0    0    0    0    0    0    0    0    0    0    0    0    0    0\n",
            "     0    0    0    0    0    0    0    0    0    0    0    0    0    0\n",
            "     0    0    0    0    0    0    0    0    0    0    0    0    0    0\n",
            "     0    0    0    0    0    0    0    0    0    0    0    0    0    0\n",
            "     0    0    0    0    0    0    0    0    0    0    0    0    0    0\n",
            "     0    0    0    0    0    0    0    0    0    0    0    0    0    0\n",
            "     0    0]]\n",
            "[[0.6065637]]\n",
            "Hello from your own machine: ----The book was basic----\n",
            "book basic\n",
            "[[1703 1999    0    0    0    0    0    0    0    0    0    0    0    0\n",
            "     0    0    0    0    0    0    0    0    0    0    0    0    0    0\n",
            "     0    0    0    0    0    0    0    0    0    0    0    0    0    0\n",
            "     0    0    0    0    0    0    0    0    0    0    0    0    0    0\n",
            "     0    0    0    0    0    0    0    0    0    0    0    0    0    0\n",
            "     0    0    0    0    0    0    0    0    0    0    0    0    0    0\n",
            "     0    0    0    0    0    0    0    0    0    0    0    0    0    0\n",
            "     0    0]]\n",
            "[[0.6065637]]\n",
            "Hello from your own machine: ----The concepts in the book was quite trivial----\n",
            "concepts book quite trivial\n",
            "[[11737  1703   164 16224     0     0     0     0     0     0     0     0\n",
            "      0     0     0     0     0     0     0     0     0     0     0     0\n",
            "      0     0     0     0     0     0     0     0     0     0     0     0\n",
            "      0     0     0     0     0     0     0     0     0     0     0     0\n",
            "      0     0     0     0     0     0     0     0     0     0     0     0\n",
            "      0     0     0     0     0     0     0     0     0     0     0     0\n",
            "      0     0     0     0     0     0     0     0     0     0     0     0\n",
            "      0     0     0     0     0     0     0     0     0     0     0     0\n",
            "      0     0     0     0]]\n",
            "[[0.6477825]]\n",
            "Hello from your own machine: ----The glassware was broken----\n",
            "glassware broken\n",
            "[[466   0   0   0   0   0   0   0   0   0   0   0   0   0   0   0   0   0\n",
            "    0   0   0   0   0   0   0   0   0   0   0   0   0   0   0   0   0   0\n",
            "    0   0   0   0   0   0   0   0   0   0   0   0   0   0   0   0   0   0\n",
            "    0   0   0   0   0   0   0   0   0   0   0   0   0   0   0   0   0   0\n",
            "    0   0   0   0   0   0   0   0   0   0   0   0   0   0   0   0   0   0\n",
            "    0   0   0   0   0   0   0   0   0   0]]\n",
            "[[0.03409616]]\n",
            "Hello from your own machine: ----The glasses were intact but one glass has minor scratches.----\n",
            "glasses intact glass minor scratches\n",
            "[[4129 2369  605 3146 8047    0    0    0    0    0    0    0    0    0\n",
            "     0    0    0    0    0    0    0    0    0    0    0    0    0    0\n",
            "     0    0    0    0    0    0    0    0    0    0    0    0    0    0\n",
            "     0    0    0    0    0    0    0    0    0    0    0    0    0    0\n",
            "     0    0    0    0    0    0    0    0    0    0    0    0    0    0\n",
            "     0    0    0    0    0    0    0    0    0    0    0    0    0    0\n",
            "     0    0    0    0    0    0    0    0    0    0    0    0    0    0\n",
            "     0    0]]\n",
            "[[0.29843423]]\n",
            "Hello from your own machine: ----The glasses were intact.----\n",
            "glasses intact\n",
            "[[4129 2369    0    0    0    0    0    0    0    0    0    0    0    0\n",
            "     0    0    0    0    0    0    0    0    0    0    0    0    0    0\n",
            "     0    0    0    0    0    0    0    0    0    0    0    0    0    0\n",
            "     0    0    0    0    0    0    0    0    0    0    0    0    0    0\n",
            "     0    0    0    0    0    0    0    0    0    0    0    0    0    0\n",
            "     0    0    0    0    0    0    0    0    0    0    0    0    0    0\n",
            "     0    0    0    0    0    0    0    0    0    0    0    0    0    0\n",
            "     0    0]]\n",
            "[[0.3902417]]\n",
            "Hello from your own machine: ----The glasses were intact but average quality.----\n",
            "glasses intact average quality\n",
            "[[4129 2369 1106   64    0    0    0    0    0    0    0    0    0    0\n",
            "     0    0    0    0    0    0    0    0    0    0    0    0    0    0\n",
            "     0    0    0    0    0    0    0    0    0    0    0    0    0    0\n",
            "     0    0    0    0    0    0    0    0    0    0    0    0    0    0\n",
            "     0    0    0    0    0    0    0    0    0    0    0    0    0    0\n",
            "     0    0    0    0    0    0    0    0    0    0    0    0    0    0\n",
            "     0    0    0    0    0    0    0    0    0    0    0    0    0    0\n",
            "     0    0]]\n",
            "[[0.43133366]]\n",
            "Hello from your own machine: ----The glasses were intact and average quality.----\n",
            "glasses intact average quality\n",
            "[[4129 2369 1106   64    0    0    0    0    0    0    0    0    0    0\n",
            "     0    0    0    0    0    0    0    0    0    0    0    0    0    0\n",
            "     0    0    0    0    0    0    0    0    0    0    0    0    0    0\n",
            "     0    0    0    0    0    0    0    0    0    0    0    0    0    0\n",
            "     0    0    0    0    0    0    0    0    0    0    0    0    0    0\n",
            "     0    0    0    0    0    0    0    0    0    0    0    0    0    0\n",
            "     0    0    0    0    0    0    0    0    0    0    0    0    0    0\n",
            "     0    0]]\n",
            "[[0.43133366]]\n",
            "Hello from your own machine: ----The glasses were intact and decent quality.----\n",
            "glasses intact decent quality\n",
            "[[4129 2369  597   64    0    0    0    0    0    0    0    0    0    0\n",
            "     0    0    0    0    0    0    0    0    0    0    0    0    0    0\n",
            "     0    0    0    0    0    0    0    0    0    0    0    0    0    0\n",
            "     0    0    0    0    0    0    0    0    0    0    0    0    0    0\n",
            "     0    0    0    0    0    0    0    0    0    0    0    0    0    0\n",
            "     0    0    0    0    0    0    0    0    0    0    0    0    0    0\n",
            "     0    0    0    0    0    0    0    0    0    0    0    0    0    0\n",
            "     0    0]]\n",
            "[[0.9048502]]\n",
            "Hello from your own machine: ----The television caught fire----\n",
            "television caught\n",
            "[[9192 1771    0    0    0    0    0    0    0    0    0    0    0    0\n",
            "     0    0    0    0    0    0    0    0    0    0    0    0    0    0\n",
            "     0    0    0    0    0    0    0    0    0    0    0    0    0    0\n",
            "     0    0    0    0    0    0    0    0    0    0    0    0    0    0\n",
            "     0    0    0    0    0    0    0    0    0    0    0    0    0    0\n",
            "     0    0    0    0    0    0    0    0    0    0    0    0    0    0\n",
            "     0    0    0    0    0    0    0    0    0    0    0    0    0    0\n",
            "     0    0]]\n",
            "[[0.623242]]\n",
            "Hello from your own machine: ----The television caught fire----\n",
            "television caught\n",
            "[[9192 1771    0    0    0    0    0    0    0    0    0    0    0    0\n",
            "     0    0    0    0    0    0    0    0    0    0    0    0    0    0\n",
            "     0    0    0    0    0    0    0    0    0    0    0    0    0    0\n",
            "     0    0    0    0    0    0    0    0    0    0    0    0    0    0\n",
            "     0    0    0    0    0    0    0    0    0    0    0    0    0    0\n",
            "     0    0    0    0    0    0    0    0    0    0    0    0    0    0\n",
            "     0    0    0    0    0    0    0    0    0    0    0    0    0    0\n",
            "     0    0]]\n",
            "[[0.623242]]\n",
            "Hello from your own machine: ----The television caught fire and burnt down my entire house.----\n",
            "television caught burnt entire house\n",
            "[[9192 1771  824  498  267    0    0    0    0    0    0    0    0    0\n",
            "     0    0    0    0    0    0    0    0    0    0    0    0    0    0\n",
            "     0    0    0    0    0    0    0    0    0    0    0    0    0    0\n",
            "     0    0    0    0    0    0    0    0    0    0    0    0    0    0\n",
            "     0    0    0    0    0    0    0    0    0    0    0    0    0    0\n",
            "     0    0    0    0    0    0    0    0    0    0    0    0    0    0\n",
            "     0    0    0    0    0    0    0    0    0    0    0    0    0    0\n",
            "     0    0]]\n",
            "[[0.01298478]]\n",
            "Hello from your own machine: ----The television caught fire and burnt down.----\n",
            "television caught burnt\n",
            "[[9192 1771  824    0    0    0    0    0    0    0    0    0    0    0\n",
            "     0    0    0    0    0    0    0    0    0    0    0    0    0    0\n",
            "     0    0    0    0    0    0    0    0    0    0    0    0    0    0\n",
            "     0    0    0    0    0    0    0    0    0    0    0    0    0    0\n",
            "     0    0    0    0    0    0    0    0    0    0    0    0    0    0\n",
            "     0    0    0    0    0    0    0    0    0    0    0    0    0    0\n",
            "     0    0    0    0    0    0    0    0    0    0    0    0    0    0\n",
            "     0    0]]\n",
            "[[0.0141876]]\n",
            "Hello from your own machine: ----The television burst into flames.----\n",
            "television burst flames\n",
            "[[9192 2987    0    0    0    0    0    0    0    0    0    0    0    0\n",
            "     0    0    0    0    0    0    0    0    0    0    0    0    0    0\n",
            "     0    0    0    0    0    0    0    0    0    0    0    0    0    0\n",
            "     0    0    0    0    0    0    0    0    0    0    0    0    0    0\n",
            "     0    0    0    0    0    0    0    0    0    0    0    0    0    0\n",
            "     0    0    0    0    0    0    0    0    0    0    0    0    0    0\n",
            "     0    0    0    0    0    0    0    0    0    0    0    0    0    0\n",
            "     0    0]]\n",
            "[[0.48684907]]\n",
            "Hello from your own machine: ----The shoes didn't have laces.----\n",
            "shoes didnt laces\n",
            "[[ 5080    51 12038     0     0     0     0     0     0     0     0     0\n",
            "      0     0     0     0     0     0     0     0     0     0     0     0\n",
            "      0     0     0     0     0     0     0     0     0     0     0     0\n",
            "      0     0     0     0     0     0     0     0     0     0     0     0\n",
            "      0     0     0     0     0     0     0     0     0     0     0     0\n",
            "      0     0     0     0     0     0     0     0     0     0     0     0\n",
            "      0     0     0     0     0     0     0     0     0     0     0     0\n",
            "      0     0     0     0     0     0     0     0     0     0     0     0\n",
            "      0     0     0     0]]\n",
            "[[0.03964414]]\n",
            "Hello from your own machine: ----The shoes didn't have fungus.----\n",
            "shoes didnt fungus\n",
            "[[5080   51 7086    0    0    0    0    0    0    0    0    0    0    0\n",
            "     0    0    0    0    0    0    0    0    0    0    0    0    0    0\n",
            "     0    0    0    0    0    0    0    0    0    0    0    0    0    0\n",
            "     0    0    0    0    0    0    0    0    0    0    0    0    0    0\n",
            "     0    0    0    0    0    0    0    0    0    0    0    0    0    0\n",
            "     0    0    0    0    0    0    0    0    0    0    0    0    0    0\n",
            "     0    0    0    0    0    0    0    0    0    0    0    0    0    0\n",
            "     0    0]]\n",
            "[[0.03709926]]\n",
            "Hello from your own machine: ----The shoes looked good but not comfortable.----\n",
            "shoes looked good not comfortable\n",
            "[[5080  336    4    1 3324    0    0    0    0    0    0    0    0    0\n",
            "     0    0    0    0    0    0    0    0    0    0    0    0    0    0\n",
            "     0    0    0    0    0    0    0    0    0    0    0    0    0    0\n",
            "     0    0    0    0    0    0    0    0    0    0    0    0    0    0\n",
            "     0    0    0    0    0    0    0    0    0    0    0    0    0    0\n",
            "     0    0    0    0    0    0    0    0    0    0    0    0    0    0\n",
            "     0    0    0    0    0    0    0    0    0    0    0    0    0    0\n",
            "     0    0]]\n",
            "[[0.06972194]]\n",
            "Hello from your own machine: ----The shoes didn't look good but quite comfortable.----\n",
            "shoes didnt look good quite comfortable\n",
            "[[5080   51  176    4  164 3324    0    0    0    0    0    0    0    0\n",
            "     0    0    0    0    0    0    0    0    0    0    0    0    0    0\n",
            "     0    0    0    0    0    0    0    0    0    0    0    0    0    0\n",
            "     0    0    0    0    0    0    0    0    0    0    0    0    0    0\n",
            "     0    0    0    0    0    0    0    0    0    0    0    0    0    0\n",
            "     0    0    0    0    0    0    0    0    0    0    0    0    0    0\n",
            "     0    0    0    0    0    0    0    0    0    0    0    0    0    0\n",
            "     0    0]]\n",
            "[[0.06120451]]\n"
          ]
        },
        {
          "output_type": "error",
          "ename": "KeyboardInterrupt",
          "evalue": "ignored",
          "traceback": [
            "\u001b[0;31m---------------------------------------------------------------------------\u001b[0m",
            "\u001b[0;31mKeyboardInterrupt\u001b[0m                         Traceback (most recent call last)",
            "\u001b[0;32m<ipython-input-74-dfae618406b6>\u001b[0m in \u001b[0;36m<module>\u001b[0;34m()\u001b[0m\n\u001b[1;32m     11\u001b[0m   \u001b[0mpred\u001b[0m\u001b[0;34m=\u001b[0m\u001b[0mmodel_pred\u001b[0m\u001b[0;34m(\u001b[0m\u001b[0mreview\u001b[0m\u001b[0;34m)\u001b[0m\u001b[0;34m\u001b[0m\u001b[0;34m\u001b[0m\u001b[0m\n\u001b[1;32m     12\u001b[0m   \u001b[0;32mreturn\u001b[0m \u001b[0mpred\u001b[0m\u001b[0;34m\u001b[0m\u001b[0;34m\u001b[0m\u001b[0m\n\u001b[0;32m---> 13\u001b[0;31m \u001b[0manvil\u001b[0m\u001b[0;34m.\u001b[0m\u001b[0mserver\u001b[0m\u001b[0;34m.\u001b[0m\u001b[0mwait_forever\u001b[0m\u001b[0;34m(\u001b[0m\u001b[0;34m)\u001b[0m\u001b[0;34m\u001b[0m\u001b[0;34m\u001b[0m\u001b[0m\n\u001b[0m",
            "\u001b[0;32m/usr/local/lib/python3.7/dist-packages/anvil/server.py\u001b[0m in \u001b[0;36mwait_forever\u001b[0;34m()\u001b[0m\n\u001b[1;32m    428\u001b[0m     \u001b[0m_get_connection\u001b[0m\u001b[0;34m(\u001b[0m\u001b[0;34m)\u001b[0m\u001b[0;34m\u001b[0m\u001b[0;34m\u001b[0m\u001b[0m\n\u001b[1;32m    429\u001b[0m     \u001b[0;32mwhile\u001b[0m \u001b[0;32mTrue\u001b[0m\u001b[0;34m:\u001b[0m\u001b[0;34m\u001b[0m\u001b[0;34m\u001b[0m\u001b[0m\n\u001b[0;32m--> 430\u001b[0;31m         \u001b[0mtime\u001b[0m\u001b[0;34m.\u001b[0m\u001b[0msleep\u001b[0m\u001b[0;34m(\u001b[0m\u001b[0;36m1\u001b[0m\u001b[0;34m)\u001b[0m\u001b[0;34m\u001b[0m\u001b[0;34m\u001b[0m\u001b[0m\n\u001b[0m",
            "\u001b[0;31mKeyboardInterrupt\u001b[0m: "
          ]
        }
      ],
      "source": [
        "import anvil.server\n",
        "\n",
        "anvil.server.connect(\"7264EZ3XXM3RLXNHWPI5IJ66-BYEIJOUEW7I4QZYF\")\n",
        "\n",
        "@anvil.server.callable\n",
        "def say_hello(name):\n",
        "\n",
        "  print(\"Hello from your own machine: ----\"+ name + \"----\")\n",
        "  review=clean_tokenise_input_webapp(name)\n",
        "  pred=model_pred(review)\n",
        "  return pred\n",
        "anvil.server.wait_forever()"
      ]
    },
    {
      "cell_type": "code",
      "execution_count": null,
      "metadata": {
        "id": "RV7OWr_2Cz68"
      },
      "outputs": [],
      "source": []
    },
    {
      "cell_type": "code",
      "execution_count": null,
      "metadata": {
        "id": "DDSsGrL7Ay63"
      },
      "outputs": [],
      "source": []
    },
    {
      "cell_type": "code",
      "execution_count": null,
      "metadata": {
        "id": "KaRJqP_SlgeZ"
      },
      "outputs": [],
      "source": []
    }
  ],
  "metadata": {
    "accelerator": "GPU",
    "colab": {
      "collapsed_sections": [],
      "machine_shape": "hm",
      "provenance": []
    },
    "kernelspec": {
      "display_name": "Python 3",
      "name": "python3"
    },
    "language_info": {
      "name": "python"
    },
    "gpuClass": "standard"
  },
  "nbformat": 4,
  "nbformat_minor": 0
}